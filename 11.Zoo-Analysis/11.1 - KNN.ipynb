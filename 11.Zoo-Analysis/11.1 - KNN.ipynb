{
 "cells": [
  {
   "cell_type": "markdown",
   "metadata": {},
   "source": [
    "<p class=\"pull-left\">\n",
    "ANLT 212 - Analytics Computing\n",
    "</p>\n",
    "<div class=\"pull-right\">\n",
    "<ul class=\"list-inline\">\n",
    "Copyright © Dana Nehoran 2017\n",
    "</ul>\n",
    "</div>"
   ]
  },
  {
   "cell_type": "markdown",
   "metadata": {},
   "source": [
    "# <font color='navy' size=6>Clustering with kNN</font>\n"
   ]
  },
  {
   "cell_type": "code",
   "execution_count": 1,
   "metadata": {},
   "outputs": [],
   "source": [
    "import matplotlib.pyplot as plt\n",
    "from matplotlib.colors import ListedColormap\n",
    "from sklearn import datasets\n",
    "from sklearn.cluster import KMeans\n",
    "import sklearn.metrics as sm\n",
    " \n",
    "import pandas as pd\n",
    "import numpy as np\n",
    "from pandas import DataFrame\n",
    "\n",
    "# Set some pandas options\n",
    "pd.set_option('display.notebook_repr_html', False)\n",
    "pd.set_option('display.max_rows', 60)\n",
    "pd.set_option('display.max_columns', 60)\n",
    "pd.set_option('display.width', 1000)\n",
    " \n",
    "%matplotlib inline"
   ]
  },
  {
   "cell_type": "markdown",
   "metadata": {},
   "source": [
    "# 1) Data"
   ]
  },
  {
   "cell_type": "code",
   "execution_count": 2,
   "metadata": {},
   "outputs": [
    {
     "data": {
      "text/plain": [
       "    montlhy_income  monthly_expenses  loan_type\n",
       "0            12400              1500          3\n",
       "1             3400              2000          4\n",
       "2             3900              3000          4\n",
       "3            12000              8000          1\n",
       "4             9500              5000          2\n",
       "5             9800              4000          2\n",
       "6            10000              6900          2\n",
       "7             6300              1000          4\n",
       "8             8300              5000          2\n",
       "9            13000              9500          1\n",
       "10           11700              2800          3\n",
       "11            4000              1400          4\n",
       "12            5000              1200          4\n",
       "13           12500              8900          1\n",
       "14           10400              9000          1\n",
       "15            8300              4000          2\n",
       "16            5000              2000          4\n",
       "17           13300              2560          3\n",
       "18            5300              2300          4\n",
       "19            7000              3000          4\n",
       "20           12400              2000          3\n",
       "21            1000              1500          4"
      ]
     },
     "execution_count": 2,
     "metadata": {},
     "output_type": "execute_result"
    }
   ],
   "source": [
    "loans = np.array ([12400, 1500,\n",
    "3400, 2000,\n",
    "3900, 3000,\n",
    "12000, 8000,\n",
    "9500, 5000,\n",
    "9800, 4000,\n",
    "10000, 6900,\n",
    "6300, 1000,\n",
    "8300, 5000,\n",
    "13000, 9500,\n",
    "11700, 2800,\n",
    "4000, 1400,\n",
    "5000, 1200,\n",
    "12500, 8900,\n",
    "10400, 9000,\n",
    "8300, 4000,\n",
    "5000, 2000,\n",
    "13300, 2560,\n",
    "5300, 2300,\n",
    "7000, 3000,\n",
    "12400, 2000,\n",
    "1000, 1500]).reshape(22, -1)\n",
    "loans_df = DataFrame(loans)\n",
    "loans_df.columns = [\"montlhy_income\", \"monthly_expenses\"]\n",
    "loans_df[\"loan_type\"] = [3, 4, 4, 1, 2, 2, 2, 4, 2, 1, 3, 4, 4, 1, 1, 2, 4, 3, 4, 4, 3, 4]\n",
    "loans_df"
   ]
  },
  {
   "cell_type": "code",
   "execution_count": 34,
   "metadata": {},
   "outputs": [
    {
     "data": {
      "text/plain": [
       "pandas.core.frame.DataFrame"
      ]
     },
     "execution_count": 34,
     "metadata": {},
     "output_type": "execute_result"
    }
   ],
   "source": [
    "type(loans_df)"
   ]
  },
  {
   "cell_type": "markdown",
   "metadata": {},
   "source": [
    "# 2) Data Visualization"
   ]
  },
  {
   "cell_type": "code",
   "execution_count": 4,
   "metadata": {},
   "outputs": [
    {
     "name": "stderr",
     "output_type": "stream",
     "text": [
      "/Users/MrM/anaconda3/lib/python3.7/site-packages/matplotlib/figure.py:98: MatplotlibDeprecationWarning: \n",
      "Adding an axes using the same arguments as a previous axes currently reuses the earlier instance.  In a future version, a new instance will always be created and returned.  Meanwhile, this warning can be suppressed, and the future behavior ensured, by passing a unique label to each axes instance.\n",
      "  \"Adding an axes using the same arguments as a previous axes \"\n"
     ]
    },
    {
     "data": {
      "text/plain": [
       "Text(0, 0.5, 'Monthly Expenses')"
      ]
     },
     "execution_count": 4,
     "metadata": {},
     "output_type": "execute_result"
    },
    {
     "data": {
      "image/png": "[encoded data removed]",
      "text/plain": [
       "<Figure size 360x360 with 1 Axes>"
      ]
     },
     "metadata": {
      "needs_background": "light"
     },
     "output_type": "display_data"
    }
   ],
   "source": [
    "fig = plt.figure(figsize=(5,5))\n",
    "\n",
    "\n",
    "colormap = np.array(['black', 'yellow', 'red', 'blue', 'green'])\n",
    " \n",
    "plt.scatter(loans_df.montlhy_income, loans_df.monthly_expenses, \n",
    "            c = colormap[loans_df.loan_type], s = 120)\n",
    "plt.title('Loans:\\nLoan 1 - Yellow\\nLoan 2 - Red\\nLoan 3 - Blue\\nLoan 4 - green')\n",
    "ax = fig.add_subplot(111)\n",
    "ax.set_xlabel('Monthly Income')\n",
    "ax.set_ylabel('Monthly Expenses')"
   ]
  },
  {
   "cell_type": "markdown",
   "metadata": {},
   "source": [
    "# 3) kNN Algorithm"
   ]
  },
  {
   "cell_type": "code",
   "execution_count": 12,
   "metadata": {},
   "outputs": [
    {
     "data": {
      "text/plain": [
       "KNeighborsClassifier(algorithm='auto', leaf_size=30, metric='minkowski',\n",
       "           metric_params=None, n_jobs=None, n_neighbors=5, p=2,\n",
       "           weights='uniform')"
      ]
     },
     "execution_count": 12,
     "metadata": {},
     "output_type": "execute_result"
    }
   ],
   "source": [
    "from sklearn.neighbors import KNeighborsClassifier\n",
    "knn = KNeighborsClassifier(n_neighbors = 5, \n",
    "                           p = 2)# p=2 for euclidean distance\n",
    "knn.fit(loans_df[[\"montlhy_income\", \"monthly_expenses\"]], \n",
    "        loans_df.loan_type)"
   ]
  },
  {
   "cell_type": "markdown",
   "metadata": {},
   "source": [
    "# 4) Prediction Mesh"
   ]
  },
  {
   "cell_type": "code",
   "execution_count": 13,
   "metadata": {},
   "outputs": [
    {
     "name": "stderr",
     "output_type": "stream",
     "text": [
      "/Users/MrM/anaconda3/lib/python3.7/site-packages/matplotlib/figure.py:98: MatplotlibDeprecationWarning: \n",
      "Adding an axes using the same arguments as a previous axes currently reuses the earlier instance.  In a future version, a new instance will always be created and returned.  Meanwhile, this warning can be suppressed, and the future behavior ensured, by passing a unique label to each axes instance.\n",
      "  \"Adding an axes using the same arguments as a previous axes \"\n"
     ]
    },
    {
     "data": {
      "image/png": "[encoded data removed]",
      "text/plain": [
       "<Figure size 432x288 with 1 Axes>"
      ]
     },
     "metadata": {
      "needs_background": "light"
     },
     "output_type": "display_data"
    }
   ],
   "source": [
    "def plotMesh():\n",
    "    h = 100 \n",
    "    # Create color maps\n",
    "    cmap_light = ListedColormap(['#ffffb3', '#ff9999','#d6d6f5','#ccffdd'])\n",
    "    colormap = np.array(['black', 'yellow', 'red', 'blue', 'green'])\n",
    "\n",
    "    x_min, x_max = loans_df.montlhy_income.min() - 1000, loans_df.montlhy_income.max() + 1000\n",
    "    y_min, y_max = loans_df.monthly_expenses.min() - 1000, loans_df.monthly_expenses.max() + 1000\n",
    "    xx, yy = np.meshgrid(np.arange(x_min, x_max, h),np.arange(y_min, y_max, h))\n",
    "    Z = knn.predict(np.c_[xx.ravel(), yy.ravel()])\n",
    "\n",
    "    # Put the result into a color plot\n",
    "    Z = Z.reshape(xx.shape)\n",
    "    fig = plt.figure()\n",
    "    plt.pcolormesh(xx, yy, Z, cmap = cmap_light)\n",
    "\n",
    "    # Plot also the training points\n",
    "    plt.scatter(loans_df.montlhy_income, loans_df.monthly_expenses, c = colormap[loans_df.loan_type], \n",
    "                s = 120)\n",
    "    plt.xlim(xx.min(), xx.max())\n",
    "    plt.ylim(yy.min(), yy.max())\n",
    "    plt.title(\"4-Class classification \\n(k = %i)\\n\\\n",
    "    Loan 1 - Yellow, Loan 2 - Red, Loan 3 - Blue, Loan 4 - green\" % (5))\n",
    "    ax = fig.add_subplot(111)\n",
    "    ax.set_xlabel('Monthly Salary')\n",
    "    ax.set_ylabel('Montlhly Expenses')\n",
    "plotMesh()"
   ]
  },
  {
   "cell_type": "markdown",
   "metadata": {},
   "source": [
    "# 5) Prediction"
   ]
  },
  {
   "cell_type": "code",
   "execution_count": 14,
   "metadata": {},
   "outputs": [
    {
     "data": {
      "text/plain": [
       "22"
      ]
     },
     "execution_count": 14,
     "metadata": {},
     "output_type": "execute_result"
    }
   ],
   "source": [
    "len(loans_df)"
   ]
  },
  {
   "cell_type": "code",
   "execution_count": 16,
   "metadata": {},
   "outputs": [
    {
     "name": "stdout",
     "output_type": "stream",
     "text": [
      "Monthly Salary: 1233\n",
      "Monthly Expenses: 2322\n",
      "Prediction: Loan # 4 Green\n"
     ]
    },
    {
     "name": "stderr",
     "output_type": "stream",
     "text": [
      "/Users/MrM/anaconda3/lib/python3.7/site-packages/matplotlib/figure.py:98: MatplotlibDeprecationWarning: \n",
      "Adding an axes using the same arguments as a previous axes currently reuses the earlier instance.  In a future version, a new instance will always be created and returned.  Meanwhile, this warning can be suppressed, and the future behavior ensured, by passing a unique label to each axes instance.\n",
      "  \"Adding an axes using the same arguments as a previous axes \"\n"
     ]
    },
    {
     "data": {
      "image/png": "[encoded data removed]",
      "text/plain": [
       "<Figure size 432x288 with 1 Axes>"
      ]
     },
     "metadata": {
      "needs_background": "light"
     },
     "output_type": "display_data"
    }
   ],
   "source": [
    "# make prediction\n",
    "salary = int(input('Monthly Salary: '))\n",
    "expenses = int(input('Monthly Expenses: '))\n",
    "data_class = knn.predict(np.array([salary, expenses]).reshape(1, -1))[0]\n",
    "class_name = [\"N/A\", \"Yellow\", \"Red\", \"Blue\", \"Green\"]\n",
    "\n",
    "print('Prediction: Loan #', data_class, class_name[data_class])\n",
    "    \n",
    "loans_df.loc[len(loans_df)]=[salary, expenses, data_class]\n",
    "knn.fit(loans_df[[\"montlhy_income\", \"monthly_expenses\"]], loans_df.loan_type)\n",
    "plotMesh()"
   ]
  },
  {
   "cell_type": "code",
   "execution_count": 37,
   "metadata": {},
   "outputs": [
    {
     "data": {
      "text/plain": [
       "    montlhy_income  monthly_expenses  loan_type\n",
       "0            12400              1500          3\n",
       "1             3400              2000          4\n",
       "2             3900              3000          4\n",
       "3            12000              8000          1\n",
       "4             9500              5000          2\n",
       "5             9800              4000          2\n",
       "6            10000              6900          2\n",
       "7             6300              1000          4\n",
       "8             8300              5000          2\n",
       "9            13000              9500          1\n",
       "10           11700              2800          3\n",
       "11            4000              1400          4\n",
       "12            5000              1200          4\n",
       "13           12500              8900          1\n",
       "14           10400              9000          1\n",
       "15            8300              4000          2\n",
       "16            5000              2000          4\n",
       "17           13300              2560          3\n",
       "18            5300              2300          4\n",
       "19            7000              3000          4\n",
       "20           12400              2000          3\n",
       "21            1000              1500          4\n",
       "22           10000             10000          1\n",
       "23            5000              5000          4\n",
       "24            5000              5000          4\n",
       "25            4000              4000          4\n",
       "26            2000              2000          4\n",
       "27             500               500          4\n",
       "28            6479              3237          4\n",
       "29            1234             12345          4\n",
       "30           14000             12000          1\n",
       "31            4000              2000          4\n",
       "32               0                 0          4"
      ]
     },
     "execution_count": 37,
     "metadata": {},
     "output_type": "execute_result"
    }
   ],
   "source": [
    "loans_df"
   ]
  },
  {
   "cell_type": "code",
   "execution_count": null,
   "metadata": {
    "collapsed": true
   },
   "outputs": [],
   "source": []
  }
 ],
 "metadata": {
  "kernelspec": {
   "display_name": "Python 3",
   "language": "python",
   "name": "python3"
  },
  "language_info": {
   "codemirror_mode": {
    "name": "ipython",
    "version": 3
   },
   "file_extension": ".py",
   "mimetype": "text/x-python",
   "name": "python",
   "nbconvert_exporter": "python",
   "pygments_lexer": "ipython3",
   "version": "3.7.2"
  }
 },
 "nbformat": 4,
 "nbformat_minor": 1
}
