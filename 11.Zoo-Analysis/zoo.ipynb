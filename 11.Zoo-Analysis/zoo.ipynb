{
 "cells": [
  {
   "cell_type": "markdown",
   "metadata": {},
   "source": [
    "<h1 style=\"color:white; background-color:darkolivegreen;\"><center style=\"font-size:50px\">Zoo Zooo Zoooo</center><br><center style=\"font-size:20px\">Author: Marco Lin</center></h1>"
   ]
  },
  {
   "cell_type": "markdown",
   "metadata": {},
   "source": [
    "![](http://images.onlyfatrabbit.com/uploads/2013/07/tumblr_mqs1hxMrUh1rkk59qo1_1280.jpg)"
   ]
  },
  {
   "cell_type": "markdown",
   "metadata": {},
   "source": [
    "<h2><center style=\"font-size:30px\"><u style=\"color: darkolivegreen\">Objective of the Proposed Research</u></center></h2>"
   ]
  },
  {
   "cell_type": "markdown",
   "metadata": {},
   "source": [
    "The newly created Stockton Zoo contracted me to work on the zoo design based on animal characteristics. So, before we start our clustering, we will explore our dataset to see what information we have now. We will explore in four different aspects of data. First, we will see how many domestic and international animals. And, how many species in each class type they offer to us. Then, we will understand how many venomous and predator animals will in this zoo because the clustering we will do will foucs on the characteristics they have that how they protect themselves. Second, for culstering we will make new columns for prediction. Depending on the characteristics, we create three new columns: “care” meaning the animal need to be more care, “strong” meaning how the animal can protect themselves, and “rate” will be strong column divided care column. For care column, I will sum the columns eggs, milk, domestic, breathes, and aquatic. Strong columns will be predator, venomous, toothed, airborne, and legs. After those, we will make prediction. Ending with summary and recommendation. "
   ]
  },
  {
   "cell_type": "markdown",
   "metadata": {},
   "source": [
    "<h2><center style=\"font-size:30px\"><u style=\"color: darkolivegreen\">Data Exploration</u></center></h2>"
   ]
  },
  {
   "cell_type": "code",
   "execution_count": 323,
   "metadata": {},
   "outputs": [],
   "source": [
    "import pandas as pd\n",
    "import numpy as np\n",
    "from pandas import DataFrame, Series\n",
    "import matplotlib.pyplot as plt\n",
    "%matplotlib inline"
   ]
  },
  {
   "cell_type": "code",
   "execution_count": 324,
   "metadata": {},
   "outputs": [],
   "source": [
    "zooData = pd.read_csv('zoo-animal-classification/zoo.csv')\n",
    "classData = pd.read_csv('zoo-animal-classification/class.csv')"
   ]
  },
  {
   "cell_type": "code",
   "execution_count": 325,
   "metadata": {},
   "outputs": [],
   "source": [
    "classData.set_index(['Class_Type'], inplace = True)"
   ]
  },
  {
   "cell_type": "markdown",
   "metadata": {},
   "source": [
    "<p style=\"font-size:20px;\"><u style=\"color: darkolivegreen\">A. Domestic and International Animal number</u></p>"
   ]
  },
  {
   "cell_type": "code",
   "execution_count": 326,
   "metadata": {},
   "outputs": [
    {
     "data": {
      "text/plain": [
       "0    88\n",
       "1    13\n",
       "Name: domestic, dtype: int64"
      ]
     },
     "execution_count": 326,
     "metadata": {},
     "output_type": "execute_result"
    }
   ],
   "source": [
    "zooData['domestic'].value_counts()"
   ]
  },
  {
   "cell_type": "code",
   "execution_count": 327,
   "metadata": {},
   "outputs": [
    {
     "data": {
      "text/plain": [
       "<matplotlib.axes._subplots.AxesSubplot at 0x1a210d0630>"
      ]
     },
     "execution_count": 327,
     "metadata": {},
     "output_type": "execute_result"
    },
    {
     "data": {
      "image/png": "[encoded data removed]",
      "text/plain": [
       "<Figure size 432x288 with 1 Axes>"
      ]
     },
     "metadata": {
      "needs_background": "light"
     },
     "output_type": "display_data"
    }
   ],
   "source": [
    "zooData['domestic'].value_counts().plot.bar()"
   ]
  },
  {
   "cell_type": "markdown",
   "metadata": {},
   "source": [
    "<p style=\"font-size:20px\"><u style=\"color: steelblue\">Explanation:</u></p>\n",
    "It shows that we have 88 domestic animals and 13 international animals"
   ]
  },
  {
   "cell_type": "markdown",
   "metadata": {},
   "source": [
    "<p style=\"font-size:20px;\"><u style=\"color: darkolivegreen\">B. The number of  Animal species in each Class</u></p>"
   ]
  },
  {
   "cell_type": "code",
   "execution_count": 328,
   "metadata": {},
   "outputs": [
    {
     "data": {
      "text/plain": [
       "<matplotlib.axes._subplots.AxesSubplot at 0x1a20d7d1d0>"
      ]
     },
     "execution_count": 328,
     "metadata": {},
     "output_type": "execute_result"
    },
    {
     "data": {
      "image/png": "[encoded data removed]",
      "text/plain": [
       "<Figure size 432x288 with 1 Axes>"
      ]
     },
     "metadata": {
      "needs_background": "light"
     },
     "output_type": "display_data"
    }
   ],
   "source": [
    "classData[['Number_Of_Animal_Species_In_Class']].plot.bar(color = \"red\")"
   ]
  },
  {
   "cell_type": "markdown",
   "metadata": {},
   "source": [
    "<p style=\"font-size:20px\"><u style=\"color: steelblue\">Explanation:</u></p>\n",
    "Most animals are mammal. There is over 40 animals. And, the second higher number of animal is bird. Reptile and Amphibian are the less."
   ]
  },
  {
   "cell_type": "markdown",
   "metadata": {},
   "source": [
    "<p style=\"font-size:20px;\"><u style=\"color: darkolivegreen\">C. Venomous Animal</u></p>"
   ]
  },
  {
   "cell_type": "code",
   "execution_count": 329,
   "metadata": {},
   "outputs": [
    {
     "data": {
      "text/plain": [
       "0    93\n",
       "1     8\n",
       "Name: venomous, dtype: int64"
      ]
     },
     "execution_count": 329,
     "metadata": {},
     "output_type": "execute_result"
    }
   ],
   "source": [
    "zooData['venomous'].value_counts()"
   ]
  },
  {
   "cell_type": "code",
   "execution_count": 330,
   "metadata": {},
   "outputs": [
    {
     "data": {
      "text/plain": [
       "<matplotlib.axes._subplots.AxesSubplot at 0x1a2155c5f8>"
      ]
     },
     "execution_count": 330,
     "metadata": {},
     "output_type": "execute_result"
    },
    {
     "data": {
      "image/png": "[encoded data removed]",
      "text/plain": [
       "<Figure size 432x288 with 1 Axes>"
      ]
     },
     "metadata": {
      "needs_background": "light"
     },
     "output_type": "display_data"
    }
   ],
   "source": [
    "zooData['venomous'].value_counts().plot.bar()"
   ]
  },
  {
   "cell_type": "code",
   "execution_count": 331,
   "metadata": {},
   "outputs": [],
   "source": [
    "mask1 = zooData['venomous'] == 1"
   ]
  },
  {
   "cell_type": "code",
   "execution_count": 332,
   "metadata": {},
   "outputs": [
    {
     "data": {
      "text/html": [
       "<div>\n",
       "<style scoped>\n",
       "    .dataframe tbody tr th:only-of-type {\n",
       "        vertical-align: middle;\n",
       "    }\n",
       "\n",
       "    .dataframe tbody tr th {\n",
       "        vertical-align: top;\n",
       "    }\n",
       "\n",
       "    .dataframe thead th {\n",
       "        text-align: right;\n",
       "    }\n",
       "</style>\n",
       "<table border=\"1\" class=\"dataframe\">\n",
       "  <thead>\n",
       "    <tr style=\"text-align: right;\">\n",
       "      <th></th>\n",
       "      <th>venomous</th>\n",
       "      <th>class_type</th>\n",
       "    </tr>\n",
       "  </thead>\n",
       "  <tbody>\n",
       "    <tr>\n",
       "      <th>26</th>\n",
       "      <td>1</td>\n",
       "      <td>5</td>\n",
       "    </tr>\n",
       "    <tr>\n",
       "      <th>39</th>\n",
       "      <td>1</td>\n",
       "      <td>6</td>\n",
       "    </tr>\n",
       "    <tr>\n",
       "      <th>62</th>\n",
       "      <td>1</td>\n",
       "      <td>3</td>\n",
       "    </tr>\n",
       "    <tr>\n",
       "      <th>72</th>\n",
       "      <td>1</td>\n",
       "      <td>7</td>\n",
       "    </tr>\n",
       "    <tr>\n",
       "      <th>76</th>\n",
       "      <td>1</td>\n",
       "      <td>3</td>\n",
       "    </tr>\n",
       "    <tr>\n",
       "      <th>77</th>\n",
       "      <td>1</td>\n",
       "      <td>7</td>\n",
       "    </tr>\n",
       "    <tr>\n",
       "      <th>86</th>\n",
       "      <td>1</td>\n",
       "      <td>4</td>\n",
       "    </tr>\n",
       "    <tr>\n",
       "      <th>97</th>\n",
       "      <td>1</td>\n",
       "      <td>6</td>\n",
       "    </tr>\n",
       "  </tbody>\n",
       "</table>\n",
       "</div>"
      ],
      "text/plain": [
       "    venomous  class_type\n",
       "26         1           5\n",
       "39         1           6\n",
       "62         1           3\n",
       "72         1           7\n",
       "76         1           3\n",
       "77         1           7\n",
       "86         1           4\n",
       "97         1           6"
      ]
     },
     "execution_count": 332,
     "metadata": {},
     "output_type": "execute_result"
    }
   ],
   "source": [
    "temp1 = zooData[['venomous','class_type']]\n",
    "venom = temp1[mask1]\n",
    "venom"
   ]
  },
  {
   "cell_type": "markdown",
   "metadata": {},
   "source": [
    "<p style=\"font-size:20px\"><u style=\"color: steelblue\">Explanation:</u></p>\n",
    "There is only 8 venomous animals. They are in different class type: 3:Reptile, 4:Fish, 5:Amphibian, 6:Bug, 7:Invertebrate. We can establish a separated area for them becasue they might be dangerous."
   ]
  },
  {
   "cell_type": "markdown",
   "metadata": {},
   "source": [
    "<p style=\"font-size:20px;\"><u style=\"color: darkolivegreen\">D. Predator Animal</u></p>"
   ]
  },
  {
   "cell_type": "code",
   "execution_count": 333,
   "metadata": {},
   "outputs": [
    {
     "data": {
      "text/plain": [
       "1    56\n",
       "0    45\n",
       "Name: predator, dtype: int64"
      ]
     },
     "execution_count": 333,
     "metadata": {},
     "output_type": "execute_result"
    }
   ],
   "source": [
    "zooData['predator'].value_counts()"
   ]
  },
  {
   "cell_type": "code",
   "execution_count": 334,
   "metadata": {
    "scrolled": true
   },
   "outputs": [
    {
     "data": {
      "text/plain": [
       "<matplotlib.axes._subplots.AxesSubplot at 0x1a21a12a20>"
      ]
     },
     "execution_count": 334,
     "metadata": {},
     "output_type": "execute_result"
    },
    {
     "data": {
      "image/png": "[encoded data removed]",
      "text/plain": [
       "<Figure size 432x288 with 1 Axes>"
      ]
     },
     "metadata": {
      "needs_background": "light"
     },
     "output_type": "display_data"
    }
   ],
   "source": [
    "zooData['predator'].value_counts().plot.bar()"
   ]
  },
  {
   "cell_type": "code",
   "execution_count": 335,
   "metadata": {},
   "outputs": [
    {
     "data": {
      "text/plain": [
       "1    22\n",
       "4     9\n",
       "2     9\n",
       "7     8\n",
       "3     4\n",
       "5     3\n",
       "6     1\n",
       "Name: class_type, dtype: int64"
      ]
     },
     "execution_count": 335,
     "metadata": {},
     "output_type": "execute_result"
    }
   ],
   "source": [
    "mask2 = zooData['predator'] == 1\n",
    "temp2 = zooData[['predator','class_type']]\n",
    "preda = temp2[mask2]\n",
    "preda['class_type'].value_counts()"
   ]
  },
  {
   "cell_type": "code",
   "execution_count": 336,
   "metadata": {},
   "outputs": [
    {
     "data": {
      "text/plain": [
       "<matplotlib.axes._subplots.AxesSubplot at 0x1a21af5dd8>"
      ]
     },
     "execution_count": 336,
     "metadata": {},
     "output_type": "execute_result"
    },
    {
     "data": {
      "image/png": "[encoded data removed]",
      "text/plain": [
       "<Figure size 432x288 with 1 Axes>"
      ]
     },
     "metadata": {
      "needs_background": "light"
     },
     "output_type": "display_data"
    }
   ],
   "source": [
    "preda['class_type'].value_counts().plot.bar()"
   ]
  },
  {
   "cell_type": "markdown",
   "metadata": {},
   "source": [
    "<p style=\"font-size:20px\"><u style=\"color: steelblue\">Explanation:</u></p>\n",
    "\n",
    "There are half number of animals are predator up to 56. They are in different class type, Mammal type is the most. We are a little bit dangerous, so we also can make a area for predator animals. In this area, it will be classified into three main part for Bird, Fish, and Mammal."
   ]
  },
  {
   "cell_type": "markdown",
   "metadata": {},
   "source": [
    "<h2><center style=\"font-size:30px\"><u style=\"color: darkolivegreen\">KNN Function</u></center></h2>"
   ]
  },
  {
   "cell_type": "markdown",
   "metadata": {},
   "source": [
    "<p style=\"font-size:20px;\"><u style=\"color: darkolivegreen\">A. New columns</u></p>"
   ]
  },
  {
   "cell_type": "markdown",
   "metadata": {},
   "source": [
    "<p style=\"font-size:20px;\"><u style=\"color: darkolivegreen\">1. Care column</u></p>"
   ]
  },
  {
   "cell_type": "code",
   "execution_count": 337,
   "metadata": {},
   "outputs": [],
   "source": [
    "zooData['care'] = (np.sqrt(zooData.eggs*3+zooData.milk*3+zooData.domestic*1.5+zooData.breathes*2+zooData.aquatic))*1000"
   ]
  },
  {
   "cell_type": "code",
   "execution_count": 338,
   "metadata": {},
   "outputs": [
    {
     "data": {
      "text/plain": [
       "0    2236.067977\n",
       "1    2236.067977\n",
       "2    2000.000000\n",
       "3    2236.067977\n",
       "4    2236.067977\n",
       "Name: care, dtype: float64"
      ]
     },
     "execution_count": 338,
     "metadata": {},
     "output_type": "execute_result"
    }
   ],
   "source": [
    "zooData['care'].head()"
   ]
  },
  {
   "cell_type": "markdown",
   "metadata": {},
   "source": [
    "<p style=\"font-size:20px\"><u style=\"color: steelblue\">Explanation:</u></p>\n",
    "\n",
    "This column will sum the columns eggs, milk, domestic, breathes, and aquatic. This is because the animal who has egg they might be protected for enemy. and also like milk, domestic, breadth, aquatic."
   ]
  },
  {
   "cell_type": "markdown",
   "metadata": {},
   "source": [
    "<p style=\"font-size:20px;\"><u style=\"color: darkolivegreen\">2. Strong column</u></p>"
   ]
  },
  {
   "cell_type": "code",
   "execution_count": 339,
   "metadata": {},
   "outputs": [],
   "source": [
    "zooData['strong'] = (np.sqrt(zooData.predator*2.5+zooData.venomous*3+zooData.toothed+zooData.airborne+zooData.legs*2))*1000"
   ]
  },
  {
   "cell_type": "code",
   "execution_count": 340,
   "metadata": {},
   "outputs": [
    {
     "data": {
      "text/plain": [
       "0    3391.164992\n",
       "1    3000.000000\n",
       "2    1870.828693\n",
       "3    3391.164992\n",
       "4    3391.164992\n",
       "Name: strong, dtype: float64"
      ]
     },
     "execution_count": 340,
     "metadata": {},
     "output_type": "execute_result"
    }
   ],
   "source": [
    "zooData['strong'].head()"
   ]
  },
  {
   "cell_type": "markdown",
   "metadata": {},
   "source": [
    "<p style=\"font-size:20px\"><u style=\"color: steelblue\">Explanation:</u></p>\n",
    "\n",
    "This column will sum predator, venomous, toothed, airborn, and legs. They are the charactics which animal can pretect themselves"
   ]
  },
  {
   "cell_type": "markdown",
   "metadata": {},
   "source": [
    "<p style=\"font-size:20px;\"><u style=\"color: darkolivegreen\">3. Rate column</u></p>"
   ]
  },
  {
   "cell_type": "code",
   "execution_count": 341,
   "metadata": {},
   "outputs": [],
   "source": [
    "zooData['rate'] = round(zooData.strong/zooData.care)"
   ]
  },
  {
   "cell_type": "markdown",
   "metadata": {},
   "source": [
    "<p style=\"font-size:20px\"><u style=\"color: steelblue\">Explanation:</u></p>\n",
    "\n",
    "The Strong column divided by Care column that we can get a column we call rate. Higher rate means animals are stronger to protect themselves. Lower rate means animals are weaker. "
   ]
  },
  {
   "cell_type": "code",
   "execution_count": 342,
   "metadata": {},
   "outputs": [],
   "source": [
    "zooData['rate']=zooData['rate'].astype(int)"
   ]
  },
  {
   "cell_type": "code",
   "execution_count": 343,
   "metadata": {},
   "outputs": [],
   "source": [
    "zooData['rate'] = (zooData.rate)+1"
   ]
  },
  {
   "cell_type": "code",
   "execution_count": 344,
   "metadata": {},
   "outputs": [],
   "source": [
    "zooData['care']=zooData['care'].astype(int)"
   ]
  },
  {
   "cell_type": "code",
   "execution_count": 345,
   "metadata": {},
   "outputs": [],
   "source": [
    "zooData['strong']=zooData['strong'].astype(int)"
   ]
  },
  {
   "cell_type": "markdown",
   "metadata": {},
   "source": [
    "<p style=\"font-size:20px\"><u style=\"color: steelblue\">Explanation:</u></p>\n",
    "In rate column, we classify the animals to four group. "
   ]
  },
  {
   "cell_type": "code",
   "execution_count": 346,
   "metadata": {},
   "outputs": [],
   "source": [
    "predictionData = zooData[['strong','care','rate']]"
   ]
  },
  {
   "cell_type": "code",
   "execution_count": 347,
   "metadata": {},
   "outputs": [],
   "source": [
    "predictionDataFUN = zooData[['strong','care','rate']]"
   ]
  },
  {
   "cell_type": "code",
   "execution_count": 349,
   "metadata": {},
   "outputs": [
    {
     "data": {
      "text/html": [
       "<div>\n",
       "<style scoped>\n",
       "    .dataframe tbody tr th:only-of-type {\n",
       "        vertical-align: middle;\n",
       "    }\n",
       "\n",
       "    .dataframe tbody tr th {\n",
       "        vertical-align: top;\n",
       "    }\n",
       "\n",
       "    .dataframe thead th {\n",
       "        text-align: right;\n",
       "    }\n",
       "</style>\n",
       "<table border=\"1\" class=\"dataframe\">\n",
       "  <thead>\n",
       "    <tr style=\"text-align: right;\">\n",
       "      <th></th>\n",
       "      <th>strong</th>\n",
       "      <th>care</th>\n",
       "      <th>rate</th>\n",
       "    </tr>\n",
       "  </thead>\n",
       "  <tbody>\n",
       "    <tr>\n",
       "      <th>0</th>\n",
       "      <td>3391</td>\n",
       "      <td>2236</td>\n",
       "      <td>3</td>\n",
       "    </tr>\n",
       "    <tr>\n",
       "      <th>1</th>\n",
       "      <td>3000</td>\n",
       "      <td>2236</td>\n",
       "      <td>2</td>\n",
       "    </tr>\n",
       "    <tr>\n",
       "      <th>2</th>\n",
       "      <td>1870</td>\n",
       "      <td>2000</td>\n",
       "      <td>2</td>\n",
       "    </tr>\n",
       "    <tr>\n",
       "      <th>3</th>\n",
       "      <td>3391</td>\n",
       "      <td>2236</td>\n",
       "      <td>3</td>\n",
       "    </tr>\n",
       "    <tr>\n",
       "      <th>4</th>\n",
       "      <td>3391</td>\n",
       "      <td>2236</td>\n",
       "      <td>3</td>\n",
       "    </tr>\n",
       "  </tbody>\n",
       "</table>\n",
       "</div>"
      ],
      "text/plain": [
       "   strong  care  rate\n",
       "0    3391  2236     3\n",
       "1    3000  2236     2\n",
       "2    1870  2000     2\n",
       "3    3391  2236     3\n",
       "4    3391  2236     3"
      ]
     },
     "execution_count": 349,
     "metadata": {},
     "output_type": "execute_result"
    }
   ],
   "source": [
    "predictionDataFUN.head()"
   ]
  },
  {
   "cell_type": "markdown",
   "metadata": {},
   "source": [
    "<p style=\"font-size:20px;\"><u style=\"color: darkolivegreen\">B. Data Visualization</u></p>"
   ]
  },
  {
   "cell_type": "code",
   "execution_count": 230,
   "metadata": {
    "scrolled": false
   },
   "outputs": [
    {
     "name": "stderr",
     "output_type": "stream",
     "text": [
      "/Users/MrM/anaconda3/lib/python3.7/site-packages/matplotlib/figure.py:98: MatplotlibDeprecationWarning: \n",
      "Adding an axes using the same arguments as a previous axes currently reuses the earlier instance.  In a future version, a new instance will always be created and returned.  Meanwhile, this warning can be suppressed, and the future behavior ensured, by passing a unique label to each axes instance.\n",
      "  \"Adding an axes using the same arguments as a previous axes \"\n"
     ]
    },
    {
     "data": {
      "text/plain": [
       "Text(0, 0.5, 'care')"
      ]
     },
     "execution_count": 230,
     "metadata": {},
     "output_type": "execute_result"
    },
    {
     "data": {
      "image/png": "[encoded data removed]",
      "text/plain": [
       "<Figure size 720x720 with 1 Axes>"
      ]
     },
     "metadata": {
      "needs_background": "light"
     },
     "output_type": "display_data"
    }
   ],
   "source": [
    "fig = plt.figure(figsize=(10,10))\n",
    "colormap = np.array(['black', 'yellow', 'red', 'blue', 'green'])\n",
    " \n",
    "plt.scatter(predictionData.strong, predictionData.care, \n",
    "            c = colormap[zooData.rate], s = 120)\n",
    "plt.title('type:\\n 1 - Yellow\\n 2 - Red\\n 3 - Blue\\n 4 - green\\n')\n",
    "ax = fig.add_subplot(111)\n",
    "ax.set_xlabel('strong')\n",
    "ax.set_ylabel('care')"
   ]
  },
  {
   "cell_type": "markdown",
   "metadata": {},
   "source": [
    "<p style=\"font-size:20px;\"><u style=\"color: darkolivegreen\">C. Prediction of KNN function</u></p>"
   ]
  },
  {
   "cell_type": "code",
   "execution_count": 372,
   "metadata": {},
   "outputs": [],
   "source": [
    "def predictKNN():\n",
    "    \n",
    "    Kvalue = int(input('k : '))\n",
    "    strongValue = int(input('how strong : '))\n",
    "    careValue = int(input('how need to be care: '))\n",
    "    rateValue = 0\n",
    "    point = np.array([strongValue, careValue, rateValue])\n",
    "        #2.distance\n",
    "    predictionDataFUN[\"Dist\"] = np.sqrt((predictionDataFUN.strong - point[0])**2 + (predictionDataFUN.care - point[1])**2)\n",
    "        #3.sort\n",
    "    predictionDataFUN2 = predictionDataFUN.sort_values(by= \"Dist\", ascending=[False]).head(Kvalue)\n",
    "        #4.checking neborhood \n",
    "    typedata = predictionDataFUN2['rate'].value_counts()\n",
    "    print(typedata[:1])"
   ]
  },
  {
   "cell_type": "markdown",
   "metadata": {},
   "source": [
    "<p style=\"font-size:20px;\"><u style=\"color: darkolivegreen\">C.1</u></p>"
   ]
  },
  {
   "cell_type": "code",
   "execution_count": 384,
   "metadata": {
    "scrolled": true
   },
   "outputs": [
    {
     "name": "stdout",
     "output_type": "stream",
     "text": [
      "k : 2\n",
      "how strong : 2750\n",
      "how need to be care: 3000\n",
      "1    2\n",
      "Name: rate, dtype: int64\n"
     ]
    },
    {
     "name": "stderr",
     "output_type": "stream",
     "text": [
      "/Users/MrM/anaconda3/lib/python3.7/site-packages/ipykernel_launcher.py:9: SettingWithCopyWarning: \n",
      "A value is trying to be set on a copy of a slice from a DataFrame.\n",
      "Try using .loc[row_indexer,col_indexer] = value instead\n",
      "\n",
      "See the caveats in the documentation: http://pandas.pydata.org/pandas-docs/stable/indexing.html#indexing-view-versus-copy\n",
      "  if __name__ == '__main__':\n"
     ]
    }
   ],
   "source": [
    "predictKNN()"
   ]
  },
  {
   "cell_type": "markdown",
   "metadata": {},
   "source": [
    "<p style=\"font-size:20px\"><u style=\"color: steelblue\">Explanation:</u></p>\n",
    "We predict this species belongs rate 1 and there are two neighbors which are also rate 1."
   ]
  },
  {
   "cell_type": "markdown",
   "metadata": {},
   "source": [
    "<p style=\"font-size:20px;\"><u style=\"color: darkolivegreen\">C.2</u></p>"
   ]
  },
  {
   "cell_type": "code",
   "execution_count": 379,
   "metadata": {},
   "outputs": [
    {
     "name": "stdout",
     "output_type": "stream",
     "text": [
      "k : 5\n",
      "how strong : 2000\n",
      "how need to be care: 100\n",
      "3    3\n",
      "Name: rate, dtype: int64\n"
     ]
    },
    {
     "name": "stderr",
     "output_type": "stream",
     "text": [
      "/Users/MrM/anaconda3/lib/python3.7/site-packages/ipykernel_launcher.py:9: SettingWithCopyWarning: \n",
      "A value is trying to be set on a copy of a slice from a DataFrame.\n",
      "Try using .loc[row_indexer,col_indexer] = value instead\n",
      "\n",
      "See the caveats in the documentation: http://pandas.pydata.org/pandas-docs/stable/indexing.html#indexing-view-versus-copy\n",
      "  if __name__ == '__main__':\n"
     ]
    }
   ],
   "source": [
    "predictKNN()"
   ]
  },
  {
   "cell_type": "markdown",
   "metadata": {},
   "source": [
    "<p style=\"font-size:20px\"><u style=\"color: steelblue\">Explanation:</u></p>\n",
    "We predict this species belongs rate 3 and there are 3 neighbors which are also rate 3."
   ]
  },
  {
   "cell_type": "markdown",
   "metadata": {},
   "source": [
    "<p style=\"font-size:20px;\"><u style=\"color: darkolivegreen\">C.3</u></p>"
   ]
  },
  {
   "cell_type": "code",
   "execution_count": 380,
   "metadata": {},
   "outputs": [
    {
     "name": "stdout",
     "output_type": "stream",
     "text": [
      "k : 3\n",
      "how strong : 255\n",
      "how need to be care: 100\n",
      "3    2\n",
      "Name: rate, dtype: int64\n"
     ]
    },
    {
     "name": "stderr",
     "output_type": "stream",
     "text": [
      "/Users/MrM/anaconda3/lib/python3.7/site-packages/ipykernel_launcher.py:9: SettingWithCopyWarning: \n",
      "A value is trying to be set on a copy of a slice from a DataFrame.\n",
      "Try using .loc[row_indexer,col_indexer] = value instead\n",
      "\n",
      "See the caveats in the documentation: http://pandas.pydata.org/pandas-docs/stable/indexing.html#indexing-view-versus-copy\n",
      "  if __name__ == '__main__':\n"
     ]
    }
   ],
   "source": [
    "predictKNN()"
   ]
  },
  {
   "cell_type": "markdown",
   "metadata": {},
   "source": [
    "<p style=\"font-size:20px\"><u style=\"color: steelblue\">Explanation:</u></p>\n",
    "We predict this species belongs rate 3 and there are 2 neighbors which are also rate 3."
   ]
  },
  {
   "cell_type": "markdown",
   "metadata": {},
   "source": [
    "<p style=\"font-size:20px;\"><u style=\"color: darkolivegreen\">C.4</u></p>"
   ]
  },
  {
   "cell_type": "code",
   "execution_count": 383,
   "metadata": {},
   "outputs": [
    {
     "name": "stdout",
     "output_type": "stream",
     "text": [
      "k : 5\n",
      "how strong : 4000\n",
      "how need to be care: 2000\n",
      "1    5\n",
      "Name: rate, dtype: int64\n"
     ]
    },
    {
     "name": "stderr",
     "output_type": "stream",
     "text": [
      "/Users/MrM/anaconda3/lib/python3.7/site-packages/ipykernel_launcher.py:9: SettingWithCopyWarning: \n",
      "A value is trying to be set on a copy of a slice from a DataFrame.\n",
      "Try using .loc[row_indexer,col_indexer] = value instead\n",
      "\n",
      "See the caveats in the documentation: http://pandas.pydata.org/pandas-docs/stable/indexing.html#indexing-view-versus-copy\n",
      "  if __name__ == '__main__':\n"
     ]
    }
   ],
   "source": [
    "predictKNN()"
   ]
  },
  {
   "cell_type": "markdown",
   "metadata": {},
   "source": [
    "<p style=\"font-size:20px\"><u style=\"color: steelblue\">Explanation:</u></p>\n",
    "We predict this species belongs rate 1 and there are 5 neighbors which are also rate 1."
   ]
  },
  {
   "cell_type": "markdown",
   "metadata": {},
   "source": [
    "<p style=\"font-size:20px;\"><u style=\"color: darkolivegreen\">C.5</u></p>"
   ]
  },
  {
   "cell_type": "code",
   "execution_count": 382,
   "metadata": {},
   "outputs": [
    {
     "name": "stdout",
     "output_type": "stream",
     "text": [
      "k : 3\n",
      "how strong : 2199\n",
      "how need to be care: 500\n",
      "1    2\n",
      "Name: rate, dtype: int64\n"
     ]
    },
    {
     "name": "stderr",
     "output_type": "stream",
     "text": [
      "/Users/MrM/anaconda3/lib/python3.7/site-packages/ipykernel_launcher.py:9: SettingWithCopyWarning: \n",
      "A value is trying to be set on a copy of a slice from a DataFrame.\n",
      "Try using .loc[row_indexer,col_indexer] = value instead\n",
      "\n",
      "See the caveats in the documentation: http://pandas.pydata.org/pandas-docs/stable/indexing.html#indexing-view-versus-copy\n",
      "  if __name__ == '__main__':\n"
     ]
    }
   ],
   "source": [
    "predictKNN()"
   ]
  },
  {
   "cell_type": "markdown",
   "metadata": {},
   "source": [
    "<p style=\"font-size:20px\"><u style=\"color: steelblue\">Explanation:</u></p>\n",
    "We predict this species belongs rate 1 and there are 2 neighbors which are also rate 1."
   ]
  },
  {
   "cell_type": "markdown",
   "metadata": {},
   "source": [
    "<h2><center style=\"font-size:30px\"><u style=\"color: darkolivegreen\">sklearn.neighbor</u></center></h2>"
   ]
  },
  {
   "cell_type": "markdown",
   "metadata": {},
   "source": [
    "<p style=\"font-size:20px\"><u style=\"color: steelblue\">Explanation:</u></p>\n",
    "\n",
    "The plot shows that four groups of type we set."
   ]
  },
  {
   "cell_type": "markdown",
   "metadata": {},
   "source": [
    "<p style=\"font-size:20px;\"><u style=\"color: darkolivegreen\">1. KNN Algorithm</u></p>"
   ]
  },
  {
   "cell_type": "code",
   "execution_count": 115,
   "metadata": {},
   "outputs": [
    {
     "data": {
      "text/plain": [
       "KNeighborsClassifier(algorithm='auto', leaf_size=30, metric='minkowski',\n",
       "           metric_params=None, n_jobs=None, n_neighbors=5, p=2,\n",
       "           weights='uniform')"
      ]
     },
     "execution_count": 115,
     "metadata": {},
     "output_type": "execute_result"
    }
   ],
   "source": [
    "from sklearn.neighbors import KNeighborsClassifier\n",
    "from matplotlib.colors import ListedColormap\n",
    "knn = KNeighborsClassifier(n_neighbors = 5, \n",
    "                           p = 2)# p=2 for euclidean distance\n",
    "knn.fit(predictionData[[\"strong\", \"care\"]], \n",
    "        zooData.rate)"
   ]
  },
  {
   "cell_type": "markdown",
   "metadata": {},
   "source": [
    "<p style=\"font-size:20px\"><u style=\"color: steelblue\">Explanation:</u></p>\n",
    "\n",
    "Use KNN neighborsclassifier library to predict."
   ]
  },
  {
   "cell_type": "markdown",
   "metadata": {},
   "source": [
    "<p style=\"font-size:20px;\"><u style=\"color: darkolivegreen\">2. prediction</u></p>"
   ]
  },
  {
   "cell_type": "markdown",
   "metadata": {},
   "source": [
    "<p style=\"font-size:20px;\"><u style=\"color: darkolivegreen\">a.</u></p>"
   ]
  },
  {
   "cell_type": "code",
   "execution_count": 119,
   "metadata": {},
   "outputs": [
    {
     "name": "stdout",
     "output_type": "stream",
     "text": [
      "how strong: 29394\n",
      "how need to be care: 5882\n",
      "Prediction: type # 3 Blue\n"
     ]
    }
   ],
   "source": [
    "# make prediction\n",
    "strong = int(input('how strong: '))\n",
    "care = int(input('how need to be care: '))\n",
    "data_class = knn.predict(np.array([strong, care]).reshape(1, -1))[0]\n",
    "class_name = [\"black\", \"Yellow\", \"Red\", \"Blue\", \"Green\"]\n",
    "print('Prediction: type #', data_class, class_name[data_class])"
   ]
  },
  {
   "cell_type": "markdown",
   "metadata": {},
   "source": [
    "<p style=\"font-size:20px;\"><u style=\"color: darkolivegreen\">b.</u></p>"
   ]
  },
  {
   "cell_type": "code",
   "execution_count": 120,
   "metadata": {},
   "outputs": [
    {
     "name": "stdout",
     "output_type": "stream",
     "text": [
      "how strong: 98583\n",
      "how need to be care: 2282\n",
      "Prediction: type # 3 Blue\n"
     ]
    }
   ],
   "source": [
    "# make prediction\n",
    "strong = int(input('how strong: '))\n",
    "care = int(input('how need to be care: '))\n",
    "data_class = knn.predict(np.array([strong, care]).reshape(1, -1))[0]\n",
    "class_name = [\"black\", \"Yellow\", \"Red\", \"Blue\", \"Green\"]\n",
    "print('Prediction: type #', data_class, class_name[data_class])"
   ]
  },
  {
   "cell_type": "markdown",
   "metadata": {},
   "source": [
    "<p style=\"font-size:20px;\"><u style=\"color: darkolivegreen\">c.</u></p>"
   ]
  },
  {
   "cell_type": "code",
   "execution_count": 121,
   "metadata": {},
   "outputs": [
    {
     "name": "stdout",
     "output_type": "stream",
     "text": [
      "how strong: 928\n",
      "how need to be care: 4000\n",
      "Prediction: type # 2 Red\n"
     ]
    }
   ],
   "source": [
    "# make prediction\n",
    "strong = int(input('how strong: '))\n",
    "care = int(input('how need to be care: '))\n",
    "data_class = knn.predict(np.array([strong, care]).reshape(1, -1))[0]\n",
    "class_name = [\"black\", \"Yellow\", \"Red\", \"Blue\", \"Green\"]\n",
    "print('Prediction: type #', data_class, class_name[data_class])"
   ]
  },
  {
   "cell_type": "markdown",
   "metadata": {},
   "source": [
    "<p style=\"font-size:20px;\"><u style=\"color: darkolivegreen\">d.</u></p>"
   ]
  },
  {
   "cell_type": "code",
   "execution_count": 122,
   "metadata": {},
   "outputs": [
    {
     "name": "stdout",
     "output_type": "stream",
     "text": [
      "how strong: 500\n",
      "how need to be care: 123\n",
      "Prediction: type # 1 Yellow\n"
     ]
    }
   ],
   "source": [
    "# make prediction\n",
    "strong = int(input('how strong: '))\n",
    "care = int(input('how need to be care: '))\n",
    "data_class = knn.predict(np.array([strong, care]).reshape(1, -1))[0]\n",
    "class_name = [\"black\", \"Yellow\", \"Red\", \"Blue\", \"Green\"]\n",
    "print('Prediction: type #', data_class, class_name[data_class])"
   ]
  },
  {
   "cell_type": "markdown",
   "metadata": {},
   "source": [
    "<p style=\"font-size:20px;\"><u style=\"color: darkolivegreen\">e.</u></p>"
   ]
  },
  {
   "cell_type": "code",
   "execution_count": 123,
   "metadata": {},
   "outputs": [
    {
     "name": "stdout",
     "output_type": "stream",
     "text": [
      "how strong: 500\n",
      "how need to be care: 10000\n",
      "Prediction: type # 2 Red\n"
     ]
    }
   ],
   "source": [
    "# make prediction\n",
    "strong = int(input('how strong: '))\n",
    "care = int(input('how need to be care: '))\n",
    "data_class = knn.predict(np.array([strong, care]).reshape(1, -1))[0]\n",
    "class_name = [\"black\", \"Yellow\", \"Red\", \"Blue\", \"Green\"]\n",
    "print('Prediction: type #', data_class, class_name[data_class])"
   ]
  },
  {
   "cell_type": "markdown",
   "metadata": {},
   "source": [
    "<p style=\"font-size:20px\"><u style=\"color: steelblue\">Explanation:</u></p>\n",
    "\n",
    "When we input the values how strong and how need to be care. we can classify into this four group."
   ]
  },
  {
   "cell_type": "markdown",
   "metadata": {},
   "source": [
    "<h2><center style=\"font-size:30px\"><u style=\"color: darkolivegreen\">Prediction Mesh</u></center></h2>"
   ]
  },
  {
   "cell_type": "code",
   "execution_count": 141,
   "metadata": {},
   "outputs": [
    {
     "name": "stderr",
     "output_type": "stream",
     "text": [
      "/Users/MrM/anaconda3/lib/python3.7/site-packages/matplotlib/figure.py:98: MatplotlibDeprecationWarning: \n",
      "Adding an axes using the same arguments as a previous axes currently reuses the earlier instance.  In a future version, a new instance will always be created and returned.  Meanwhile, this warning can be suppressed, and the future behavior ensured, by passing a unique label to each axes instance.\n",
      "  \"Adding an axes using the same arguments as a previous axes \"\n"
     ]
    },
    {
     "data": {
      "image/png": "[encoded data removed]",
      "text/plain": [
       "<Figure size 432x288 with 1 Axes>"
      ]
     },
     "metadata": {
      "needs_background": "light"
     },
     "output_type": "display_data"
    }
   ],
   "source": [
    "def plotMesh():\n",
    "    h = 200\n",
    "    # Create color maps\n",
    "    cmap_light = ListedColormap(['#ffffb3', '#d6d6f5','#ff9999','#ccffdd'])\n",
    "    colormap = np.array(['black', 'yellow', 'red', 'blue', 'green'])\n",
    "    x_min, x_max = predictionData.strong.min()-200, predictionData.strong.max()+1000\n",
    "    y_min, y_max = predictionData.care.min() - 1000, predictionData.care.max() + 1000\n",
    "    xx, yy = np.meshgrid(np.arange(x_min, x_max, h),np.arange(y_min, y_max, h))\n",
    "    Z = knn.predict(np.c_[xx.ravel(), yy.ravel()])\n",
    "\n",
    "# Put the result into a color plot\n",
    "    Z = Z.reshape(xx.shape)\n",
    "    fig = plt.figure()\n",
    "    plt.pcolormesh(xx, yy, Z, cmap = cmap_light)\n",
    " # Plot also the training points\n",
    "    plt.scatter(predictionData.strong, predictionData.care, c = colormap[predictionData.rate], s = 120)\n",
    "    plt.xlim(xx.min(), xx.max())\n",
    "    plt.ylim(yy.min(), yy.max())\n",
    "    plt.title(\"4-Class classification \\n(k = %i)\\n\\\n",
    "    rate 1 - Yellow, rate 2 - Red, rate 3 - Blue, rate 4 - green\" % (4))\n",
    "    ax = fig.add_subplot(111)\n",
    "    ax.set_xlabel('strong')\n",
    "    ax.set_ylabel('care')\n",
    "plotMesh()"
   ]
  },
  {
   "cell_type": "markdown",
   "metadata": {},
   "source": [
    "<p style=\"font-size:20px\"><u style=\"color: steelblue\">Explanation:</u></p>\n",
    "\n",
    "This is our prediction mesh."
   ]
  },
  {
   "cell_type": "code",
   "execution_count": 142,
   "metadata": {},
   "outputs": [
    {
     "name": "stdout",
     "output_type": "stream",
     "text": [
      "how strong: 1000\n",
      "how need to be care: 500\n",
      "Prediction: type # 1 Yellow\n"
     ]
    },
    {
     "name": "stderr",
     "output_type": "stream",
     "text": [
      "/Users/MrM/anaconda3/lib/python3.7/site-packages/ipykernel_launcher.py:8: SettingWithCopyWarning: \n",
      "A value is trying to be set on a copy of a slice from a DataFrame\n",
      "\n",
      "See the caveats in the documentation: http://pandas.pydata.org/pandas-docs/stable/indexing.html#indexing-view-versus-copy\n",
      "  \n",
      "/Users/MrM/anaconda3/lib/python3.7/site-packages/matplotlib/figure.py:98: MatplotlibDeprecationWarning: \n",
      "Adding an axes using the same arguments as a previous axes currently reuses the earlier instance.  In a future version, a new instance will always be created and returned.  Meanwhile, this warning can be suppressed, and the future behavior ensured, by passing a unique label to each axes instance.\n",
      "  \"Adding an axes using the same arguments as a previous axes \"\n"
     ]
    },
    {
     "data": {
      "image/png": "[encoded data removed]",
      "text/plain": [
       "<Figure size 432x288 with 1 Axes>"
      ]
     },
     "metadata": {
      "needs_background": "light"
     },
     "output_type": "display_data"
    }
   ],
   "source": [
    "# make prediction\n",
    "strong = int(input('how strong: '))\n",
    "care = int(input('how need to be care: '))\n",
    "data_class = knn.predict(np.array([strong, care]).reshape(1, -1))[0]\n",
    "class_name = [\"black\", \"Yellow\", \"Red\", \"Blue\", \"Green\"]\n",
    "print('Prediction: type #', data_class, class_name[data_class])\n",
    "\n",
    "predictionData.loc[len(predictionData)]=[strong, care, data_class]\n",
    "knn.fit(predictionData[[\"strong\", \"care\"]], predictionData.rate)\n",
    "plotMesh()"
   ]
  },
  {
   "cell_type": "code",
   "execution_count": 143,
   "metadata": {},
   "outputs": [
    {
     "name": "stdout",
     "output_type": "stream",
     "text": [
      "how strong: 3000\n",
      "how need to be care: 4000\n",
      "Prediction: type # 2 Red\n"
     ]
    },
    {
     "name": "stderr",
     "output_type": "stream",
     "text": [
      "/Users/MrM/anaconda3/lib/python3.7/site-packages/ipykernel_launcher.py:8: SettingWithCopyWarning: \n",
      "A value is trying to be set on a copy of a slice from a DataFrame\n",
      "\n",
      "See the caveats in the documentation: http://pandas.pydata.org/pandas-docs/stable/indexing.html#indexing-view-versus-copy\n",
      "  \n",
      "/Users/MrM/anaconda3/lib/python3.7/site-packages/matplotlib/figure.py:98: MatplotlibDeprecationWarning: \n",
      "Adding an axes using the same arguments as a previous axes currently reuses the earlier instance.  In a future version, a new instance will always be created and returned.  Meanwhile, this warning can be suppressed, and the future behavior ensured, by passing a unique label to each axes instance.\n",
      "  \"Adding an axes using the same arguments as a previous axes \"\n"
     ]
    },
    {
     "data": {
      "image/png": "[encoded data removed]",
      "text/plain": [
       "<Figure size 432x288 with 1 Axes>"
      ]
     },
     "metadata": {
      "needs_background": "light"
     },
     "output_type": "display_data"
    }
   ],
   "source": [
    "# make prediction\n",
    "strong = int(input('how strong: '))\n",
    "care = int(input('how need to be care: '))\n",
    "data_class = knn.predict(np.array([strong, care]).reshape(1, -1))[0]\n",
    "class_name = [\"black\", \"Yellow\", \"Red\", \"Blue\", \"Green\"]\n",
    "print('Prediction: type #', data_class, class_name[data_class])\n",
    "\n",
    "predictionData.loc[len(predictionData)]=[strong, care, data_class]\n",
    "knn.fit(predictionData[[\"strong\", \"care\"]], predictionData.rate)\n",
    "plotMesh()"
   ]
  },
  {
   "cell_type": "markdown",
   "metadata": {},
   "source": [
    "<p style=\"font-size:20px\"><u style=\"color: steelblue\">Explanation:</u></p>\n",
    "\n",
    "Along with our values input, the mesh will change. "
   ]
  },
  {
   "cell_type": "markdown",
   "metadata": {},
   "source": [
    "<h2><center style=\"font-size:30px\"><u style=\"color: darkolivegreen\">Summary</u></center></h2>"
   ]
  },
  {
   "cell_type": "markdown",
   "metadata": {},
   "source": [
    "   We have 101 species in this zoo. For data exploration part, we understand the most animals are domestic animals. There are only 13 species which are foreign. And, there is up to 40 species are mammal. Second species the most are bird. Especially, we have 8 species which are venomous. And, there is 56 species are predator. Next, for prediction, according to those analysis, I created three new columns. One is strong. I sum some characteristics which are make animals stronger to protect themselves or we can say more dangerous animal in general. Second is care. I also sum the characteristics which make animal weak, on the other words, we can say we need more take care of the animals which has higher value in this columns. For care column, I have sum the columns eggs, milk, domestic, breathes, and aquatic. Strong columns are predator, venomous, toothed, airborne, and legs. Then, we made strong column divided by care column to create a new one we call rate. The higher rate mean the animals are more dangerous. According to the rate column, we can classify the animals into four type. And we used this to do prediction. The prediction shows that the species belong to which level capability."
   ]
  },
  {
   "cell_type": "markdown",
   "metadata": {},
   "source": [
    "<h2><center style=\"font-size:30px\"><u style=\"color: darkolivegreen\">Recommandation</u></center></h2>"
   ]
  },
  {
   "cell_type": "markdown",
   "metadata": {},
   "source": [
    "For recommendation, we already have 7 class type of species, then we can use this engine to classify each class type into four different level of danger or need to be cared. For example, in mammal class type, the same rate animals can put together, then we can take care of them easier. So, we can build 28 different areas. Four for each class type. And, according to this classification, we also can teach our children how this animal dangerous is and how this animal need to be take care. "
   ]
  }
 ],
 "metadata": {
  "kernelspec": {
   "display_name": "Python 3",
   "language": "python",
   "name": "python3"
  },
  "language_info": {
   "codemirror_mode": {
    "name": "ipython",
    "version": 3
   },
   "file_extension": ".py",
   "mimetype": "text/x-python",
   "name": "python",
   "nbconvert_exporter": "python",
   "pygments_lexer": "ipython3",
   "version": "3.7.6"
  }
 },
 "nbformat": 4,
 "nbformat_minor": 2
}
