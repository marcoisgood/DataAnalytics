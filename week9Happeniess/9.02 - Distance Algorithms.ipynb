{
 "cells": [
  {
   "cell_type": "markdown",
   "metadata": {
    "colab_type": "text",
    "id": "Ba0fw8fimsQs"
   },
   "source": [
    "<p class=\"pull-left\">\n",
    "COMP 162 - Analytics Computing\n",
    "</p>\n",
    "<div class=\"pull-right\">\n",
    "<ul class=\"list-inline\">\n",
    "Copyright © Dana Nehoran 2017\n",
    "</ul>\n",
    "</div>"
   ]
  },
  {
   "cell_type": "markdown",
   "metadata": {
    "colab_type": "text",
    "id": "cpaaRmMlmsQv"
   },
   "source": [
    "# <font color='navy' size=6>Distance Algorithms</font>\n"
   ]
  },
  {
   "cell_type": "code",
   "execution_count": 0,
   "metadata": {
    "colab": {
     "autoexec": {
      "startup": false,
      "wait_interval": 0
     }
    },
    "colab_type": "code",
    "id": "Uv4O-udYmsQy"
   },
   "outputs": [],
   "source": [
    "import matplotlib.pyplot as plt\n",
    "from sklearn import datasets\n",
    "from sklearn.cluster import KMeans\n",
    "import sklearn.metrics as sm\n",
    " \n",
    "import pandas as pd\n",
    "import numpy as np\n",
    "from pandas import DataFrame\n",
    "\n",
    "# Set some pandas options\n",
    "pd.set_option('display.notebook_repr_html', False)\n",
    "pd.set_option('display.max_rows', 60)\n",
    "pd.set_option('display.max_columns', 60)\n",
    "pd.set_option('display.width', 1000)\n",
    " \n",
    "%matplotlib inline"
   ]
  },
  {
   "cell_type": "markdown",
   "metadata": {
    "colab_type": "text",
    "id": "m4Cixi0GmsQ3"
   },
   "source": [
    "# 1) Distance Matrix"
   ]
  },
  {
   "cell_type": "code",
   "execution_count": 0,
   "metadata": {
    "colab": {
     "autoexec": {
      "startup": false,
      "wait_interval": 0
     }
    },
    "colab_type": "code",
    "id": "Fu-DUP1WmsQ6",
    "outputId": "ef7d4873-350d-4339-f899-2df3eda5cd94"
   },
   "outputs": [
    {
     "data": {
      "text/plain": [
       "   English  Math  Science\n",
       "0       90    95       93\n",
       "1       70    78       73\n",
       "2       69    79       79\n",
       "3       90    99      100\n",
       "4       80    60       95\n",
       "5      100    93       99\n",
       "6       80    59       80\n",
       "7       74    45       80\n",
       "8       95    93       99\n",
       "9       40    59       70"
      ]
     },
     "execution_count": 2,
     "metadata": {
      "tags": []
     },
     "output_type": "execute_result"
    }
   ],
   "source": [
    "grades = np.array([90, 95, 93,\n",
    "70, 78, 73,\n",
    "69, 79, 79,\n",
    "90, 99, 100,\n",
    "80, 60, 95,\n",
    "100, 93, 99,\n",
    "80, 59, 80,\n",
    "74, 45, 80,\n",
    "95, 93, 99,\n",
    "40, 59, 70,\n",
    "])\n",
    "grades = grades.reshape(10, -1)\n",
    "grades_df = DataFrame(grades)\n",
    "grades_df.columns = [[\"English\", \"Math\", \"Science\"]]\n",
    "grades_df"
   ]
  },
  {
   "cell_type": "code",
   "execution_count": 0,
   "metadata": {
    "colab": {
     "autoexec": {
      "startup": false,
      "wait_interval": 0
     }
    },
    "colab_type": "code",
    "id": "_IdU_sS4msRE",
    "outputId": "762a19d5-3b6e-4ef4-f94b-4224464a15c7"
   },
   "outputs": [
    {
     "data": {
      "text/plain": [
       "       0      1      2      3      4      5      6      7      8      9\n",
       "0   0.00  33.00  29.88   8.06  36.46  11.83  39.56  54.08   8.06  65.76\n",
       "1  33.00   0.00   6.16  39.62  30.13  42.44  22.58  33.97  39.06  35.64\n",
       "2  29.88   6.16   0.00  35.81  27.17  39.46  22.85  34.38  35.67  36.36\n",
       "3   8.06  39.62  35.81   0.00  40.57  11.70  45.83  59.77   7.87  70.71\n",
       "4  36.46  30.13  27.17  40.57   0.00  38.79  15.03  22.05  36.47  47.18\n",
       "5  11.83  42.44  39.46  11.70  38.79   0.00  43.78  57.80   5.00  74.81\n",
       "6  39.56  22.58  22.85  45.83  15.03  43.78   0.00  15.23  41.74  41.23\n",
       "7  54.08  33.97  34.38  59.77  22.05  57.80  15.23   0.00  55.73  38.11\n",
       "8   8.06  39.06  35.67   7.87  36.47   5.00  41.74  55.73   0.00  70.87\n",
       "9  65.76  35.64  36.36  70.71  47.18  74.81  41.23  38.11  70.87   0.00"
      ]
     },
     "execution_count": 3,
     "metadata": {
      "tags": []
     },
     "output_type": "execute_result"
    }
   ],
   "source": [
    "from sklearn.metrics.pairwise import euclidean_distances\n",
    "grades_distance_df = DataFrame(euclidean_distances(grades_df))\n",
    "round(grades_distance_df, 2)"
   ]
  },
  {
   "cell_type": "markdown",
   "metadata": {
    "colab_type": "text",
    "id": "ZV5A10FBmsRK"
   },
   "source": [
    "# 2) Normalizing"
   ]
  },
  {
   "cell_type": "code",
   "execution_count": 0,
   "metadata": {
    "colab": {
     "autoexec": {
      "startup": false,
      "wait_interval": 0
     }
    },
    "colab_type": "code",
    "id": "XA2l7jcsmsRO",
    "outputId": "48c1aa7b-77fd-4412-cee0-3464719bab27"
   },
   "outputs": [
    {
     "data": {
      "text/plain": [
       "   Expenses  Income  Education\n",
       "0      4319   28799          5\n",
       "1      4513   20282          2\n",
       "2      2959   28743          3\n",
       "3      4315   28570          3\n",
       "4      2706   20345          1\n",
       "5      3794   21981          5\n",
       "6      2923   21780          4\n",
       "7      3645   28487          5\n",
       "8      2561   21091          2\n",
       "9      4794   22153          5"
      ]
     },
     "execution_count": 4,
     "metadata": {
      "tags": []
     },
     "output_type": "execute_result"
    }
   ],
   "source": [
    "customers = np.array([4319, 28799, 5, 4513, 20282, 2, 2959, 28743, 3, 4315, 28570, 3, 2706, 20345, 1,\n",
    "                     3794, 21981, 5, 2923, 21780, 4, 3645, 28487, 5, 2561, 21091, 2, 4794, 22153, 5])\n",
    "customers = customers.reshape(10, -1)\n",
    "customers_df = DataFrame(customers)\n",
    "customers_df.columns = [[\"Expenses\", \"Income\", \"Education\"]]\n",
    "customers_df"
   ]
  },
  {
   "cell_type": "code",
   "execution_count": 0,
   "metadata": {
    "colab": {
     "autoexec": {
      "startup": false,
      "wait_interval": 0
     }
    },
    "colab_type": "code",
    "id": "33i2AVHBmsRn",
    "outputId": "b96d7967-a1f8-481d-8733-e8190f26b95e"
   },
   "outputs": [
    {
     "data": {
      "text/plain": [
       "   Expenses  Income  Education\n",
       "0      0.79    1.00       1.00\n",
       "1      0.87    0.00       0.25\n",
       "2      0.18    0.99       0.50\n",
       "3      0.79    0.97       0.50\n",
       "4      0.06    0.01       0.00\n",
       "5      0.55    0.20       1.00\n",
       "6      0.16    0.18       0.75\n",
       "7      0.49    0.96       1.00\n",
       "8      0.00    0.09       0.25\n",
       "9      1.00    0.22       1.00"
      ]
     },
     "execution_count": 5,
     "metadata": {
      "tags": []
     },
     "output_type": "execute_result"
    }
   ],
   "source": [
    "norm_customers_df = round((customers_df - customers_df.min())/\n",
    "                          (customers_df.max() - customers_df.min()),2)\n",
    "norm_customers_df"
   ]
  },
  {
   "cell_type": "code",
   "execution_count": 0,
   "metadata": {
    "colab": {
     "autoexec": {
      "startup": false,
      "wait_interval": 0
     }
    },
    "colab_type": "code",
    "id": "Ixa56APUmsRz",
    "outputId": "293fecf8-87ea-4c1f-c777-f6608b73c97e"
   },
   "outputs": [
    {
     "data": {
      "text/plain": [
       "      0     1     2     3     4     5     6     7     8     9\n",
       "0  0.00  1.25  0.79  0.50  1.59  0.84  1.06  0.30  1.42  0.81\n",
       "1  1.25  0.00  1.23  1.00  0.85  0.84  0.89  1.28  0.87  0.79\n",
       "2  0.79  1.23  0.00  0.61  1.11  1.01  0.85  0.59  0.95  1.23\n",
       "3  0.50  1.00  0.61  0.00  1.31  0.95  1.04  0.58  1.21  0.93\n",
       "4  1.59  0.85  1.11  1.31  0.00  1.13  0.78  1.44  0.27  1.39\n",
       "5  0.84  0.84  1.01  0.95  1.13  0.00  0.46  0.76  0.94  0.45\n",
       "6  1.06  0.89  0.85  1.04  0.78  0.46  0.00  0.88  0.53  0.88\n",
       "7  0.30  1.28  0.59  0.58  1.44  0.76  0.88  0.00  1.25  0.90\n",
       "8  1.42  0.87  0.95  1.21  0.27  0.94  0.53  1.25  0.00  1.26\n",
       "9  0.81  0.79  1.23  0.93  1.39  0.45  0.88  0.90  1.26  0.00"
      ]
     },
     "execution_count": 6,
     "metadata": {
      "tags": []
     },
     "output_type": "execute_result"
    }
   ],
   "source": [
    "from sklearn.metrics.pairwise import euclidean_distances\n",
    "customers_distance_normalized_df = DataFrame(euclidean_distances(norm_customers_df))\n",
    "round(customers_distance_normalized_df, 2)"
   ]
  },
  {
   "cell_type": "markdown",
   "metadata": {
    "colab_type": "text",
    "id": "URsLoTs-msR5"
   },
   "source": [
    "# 3) Network Analysis"
   ]
  },
  {
   "cell_type": "code",
   "execution_count": 0,
   "metadata": {
    "colab": {
     "autoexec": {
      "startup": false,
      "wait_interval": 0
     }
    },
    "colab_type": "code",
    "id": "zlDTCKDsmsR-",
    "outputId": "be0ba7d3-ac60-464d-97c8-1ac65c37ca78"
   },
   "outputs": [
    {
     "data": {
      "text/plain": [
       "        Paula  Victor  Dario  Andres  Gary  Sean  Carlos\n",
       "Paula       0       2      3       2     1     3       1\n",
       "Victor      2       0      1       4     2     2       2\n",
       "Dario       3       1      0       1     2     3       1\n",
       "Andres      2       4      1       0     2     2       1\n",
       "Gary        1       2      2       2     0     2       2\n",
       "Sean        3       2      3       2     2     0       3\n",
       "Carlos      1       2      1       1     2     3       0"
      ]
     },
     "execution_count": 7,
     "metadata": {
      "tags": []
     },
     "output_type": "execute_result"
    }
   ],
   "source": [
    "friends = np.array([0, 2, 3, 2, 1, 3, 1,\n",
    "                    2, 0, 1, 4, 2, 2, 2,\n",
    "                    3, 1, 0, 1, 2, 3, 1,\n",
    "                    2, 4, 1, 0, 2, 2, 1,\n",
    "                    1, 2, 2, 2, 0, 2, 2,\n",
    "                    3, 2, 3, 2, 2, 0, 3,\n",
    "                    1, 2, 1, 1, 2, 3, 0,\n",
    "                    ]).reshape(7, -1)\n",
    "friends_df = DataFrame(friends, index = [\"Paula\", \"Victor\", \"Dario\", \"Andres\", \"Gary\", \"Sean\", \"Carlos\"])\n",
    "friends_df.columns = [[\"Paula\", \"Victor\", \"Dario\", \"Andres\", \"Gary\", \"Sean\", \"Carlos\"]]\n",
    "friends_df"
   ]
  }
 ],
 "metadata": {
  "colab": {
   "default_view": {},
   "name": "13.1 - Distance Algorithms.ipynb",
   "provenance": [],
   "version": "0.3.2",
   "views": {}
  },
  "kernelspec": {
   "display_name": "Python 3",
   "language": "python",
   "name": "python3"
  },
  "language_info": {
   "codemirror_mode": {
    "name": "ipython",
    "version": 3
   },
   "file_extension": ".py",
   "mimetype": "text/x-python",
   "name": "python",
   "nbconvert_exporter": "python",
   "pygments_lexer": "ipython3",
   "version": "3.6.4"
  }
 },
 "nbformat": 4,
 "nbformat_minor": 1
}
