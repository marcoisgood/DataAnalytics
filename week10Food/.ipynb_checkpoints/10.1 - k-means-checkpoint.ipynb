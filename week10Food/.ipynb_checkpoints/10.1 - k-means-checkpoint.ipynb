{
 "cells": [
  {
   "cell_type": "markdown",
   "metadata": {
    "colab_type": "text",
    "id": "0unhoNzYmsUM"
   },
   "source": [
    "<p class=\"pull-left\">\n",
    "COMP 162 - Analytics Computing\n",
    "</p>\n",
    "<div class=\"pull-right\">\n",
    "<ul class=\"list-inline\">\n",
    "Copyright © Dana Nehoran 2017\n",
    "</ul>\n",
    "</div>"
   ]
  },
  {
   "cell_type": "markdown",
   "metadata": {
    "colab_type": "text",
    "id": "On8g76nvmsUO"
   },
   "source": [
    "# <font color='navy' size=6>Clustering with K-means</font>\n"
   ]
  },
  {
   "cell_type": "code",
   "execution_count": 1,
   "metadata": {
    "colab": {
     "autoexec": {
      "startup": false,
      "wait_interval": 0
     }
    },
    "colab_type": "code",
    "id": "Yyzs-nJ-msUP"
   },
   "outputs": [],
   "source": [
    "import matplotlib.pyplot as plt\n",
    "from matplotlib.colors import ListedColormap\n",
    "from sklearn import datasets\n",
    "from sklearn.cluster import KMeans\n",
    "import sklearn.metrics as sm\n",
    "from scipy.cluster.hierarchy import linkage, dendrogram\n",
    " \n",
    "import pandas as pd\n",
    "import numpy as np\n",
    "\n",
    "# Set some pandas options\n",
    "pd.set_option('display.notebook_repr_html', False)\n",
    "pd.set_option('display.max_rows', 60)\n",
    "pd.set_option('display.max_columns', 60)\n",
    "pd.set_option('display.width', 1000)\n",
    " \n",
    "%matplotlib inline"
   ]
  },
  {
   "cell_type": "markdown",
   "metadata": {
    "colab_type": "text",
    "id": "ybnJp4AemsUU"
   },
   "source": [
    "# 0) Data"
   ]
  },
  {
   "cell_type": "code",
   "execution_count": 2,
   "metadata": {
    "colab": {
     "autoexec": {
      "startup": false,
      "wait_interval": 0
     },
     "base_uri": "https://localhost:8080/",
     "height": 404
    },
    "colab_type": "code",
    "executionInfo": {
     "elapsed": 348,
     "status": "ok",
     "timestamp": 1529085710830,
     "user": {
      "displayName": "Dana Nehoran",
      "photoUrl": "https://lh3.googleusercontent.com/a/default-user=s128",
      "userId": "100555973901173283746"
     },
     "user_tz": 420
    },
    "id": "QgceOLEymsUV",
    "outputId": "01afa32a-41ca-46d9-dac6-058553f38642"
   },
   "outputs": [
    {
     "data": {
      "text/plain": [
       "array([[ 1,  3],\n",
       "       [ 2,  4],\n",
       "       [ 4,  2],\n",
       "       [ 7, 12],\n",
       "       [ 4,  3],\n",
       "       [10, 16],\n",
       "       [17, 13],\n",
       "       [ 7, 19],\n",
       "       [13, 10],\n",
       "       [16, 12],\n",
       "       [ 5,  5],\n",
       "       [ 3,  2],\n",
       "       [18, 10],\n",
       "       [19,  7],\n",
       "       [ 4,  8],\n",
       "       [ 3,  9],\n",
       "       [ 4, 14],\n",
       "       [10, 14],\n",
       "       [ 7, 15],\n",
       "       [ 9, 18],\n",
       "       [ 6, 17],\n",
       "       [15,  9]])"
      ]
     },
     "execution_count": 2,
     "metadata": {},
     "output_type": "execute_result"
    }
   ],
   "source": [
    "birds = np.array([1, 3, 2, 4, 4, 2, 7, 12, 4, 3, 10, 16, 17, 13, \n",
    "                  7, 19, 13, 10, 16, 12, 5, 5, 3, 2, 18, 10, 19, \n",
    "                  7, 4, 8, 3, 9, 4, 14, 10, 14, 7, 15, 9, 18, 6, \n",
    "                  17, 15, 9]).reshape(22, -1)\n",
    "birds"
   ]
  },
  {
   "cell_type": "code",
   "execution_count": 3,
   "metadata": {
    "colab": {
     "autoexec": {
      "startup": false,
      "wait_interval": 0
     },
     "base_uri": "https://localhost:8080/",
     "height": 422
    },
    "colab_type": "code",
    "executionInfo": {
     "elapsed": 295,
     "status": "ok",
     "timestamp": 1529085711234,
     "user": {
      "displayName": "Dana Nehoran",
      "photoUrl": "https://lh3.googleusercontent.com/a/default-user=s128",
      "userId": "100555973901173283746"
     },
     "user_tz": 420
    },
    "id": "f1GPNSmymsUa",
    "outputId": "62a9bf6b-f5da-4dda-c289-cbf99dbd0957"
   },
   "outputs": [
    {
     "data": {
      "text/plain": [
       "    Wings  Length\n",
       "0       1       3\n",
       "1       2       4\n",
       "2       4       2\n",
       "3       7      12\n",
       "4       4       3\n",
       "5      10      16\n",
       "6      17      13\n",
       "7       7      19\n",
       "8      13      10\n",
       "9      16      12\n",
       "10      5       5\n",
       "11      3       2\n",
       "12     18      10\n",
       "13     19       7\n",
       "14      4       8\n",
       "15      3       9\n",
       "16      4      14\n",
       "17     10      14\n",
       "18      7      15\n",
       "19      9      18\n",
       "20      6      17\n",
       "21     15       9"
      ]
     },
     "execution_count": 3,
     "metadata": {},
     "output_type": "execute_result"
    }
   ],
   "source": [
    "bird_df = pd.DataFrame(birds)\n",
    "bird_df.columns = [\"Wings\", \"Length\"]\n",
    "bird_df"
   ]
  },
  {
   "cell_type": "code",
   "execution_count": 4,
   "metadata": {
    "colab": {
     "autoexec": {
      "startup": false,
      "wait_interval": 0
     },
     "base_uri": "https://localhost:8080/",
     "height": 367
    },
    "colab_type": "code",
    "executionInfo": {
     "elapsed": 461,
     "status": "ok",
     "timestamp": 1529085711786,
     "user": {
      "displayName": "Dana Nehoran",
      "photoUrl": "https://lh3.googleusercontent.com/a/default-user=s128",
      "userId": "100555973901173283746"
     },
     "user_tz": 420
    },
    "id": "-tsd7y4HmsUe",
    "outputId": "57a22b2e-c157-4cc7-ef11-579d2276abda"
   },
   "outputs": [
    {
     "data": {
      "text/plain": [
       "Text(0, 0.5, 'Length')"
      ]
     },
     "execution_count": 4,
     "metadata": {},
     "output_type": "execute_result"
    },
    {
     "data": {
      "image/png": "[encoded data removed]",
      "text/plain": [
       "<Figure size 360x360 with 1 Axes>"
      ]
     },
     "metadata": {
      "needs_background": "light"
     },
     "output_type": "display_data"
    }
   ],
   "source": [
    "fig = plt.figure(figsize=(5,5))\n",
    "\n",
    "plt.scatter(bird_df.Wings, bird_df.Length, edgecolor = 'black', s = 80)\n",
    "plt.title('Birds')\n",
    "plt.xlabel('Wings')\n",
    "plt.ylabel('Length')"
   ]
  },
  {
   "cell_type": "markdown",
   "metadata": {
    "colab_type": "text",
    "id": "P9WpLb71msUj"
   },
   "source": [
    "### Random Centroids"
   ]
  },
  {
   "cell_type": "code",
   "execution_count": 5,
   "metadata": {
    "colab": {
     "autoexec": {
      "startup": false,
      "wait_interval": 0
     },
     "base_uri": "https://localhost:8080/",
     "height": 35
    },
    "colab_type": "code",
    "executionInfo": {
     "elapsed": 254,
     "status": "ok",
     "timestamp": 1529085712991,
     "user": {
      "displayName": "Dana Nehoran",
      "photoUrl": "https://lh3.googleusercontent.com/a/default-user=s128",
      "userId": "100555973901173283746"
     },
     "user_tz": 420
    },
    "id": "csk_edpXmsUk",
    "outputId": "cd103cc7-c207-4593-be67-bab19ecd596f"
   },
   "outputs": [
    {
     "name": "stdout",
     "output_type": "stream",
     "text": [
      "[ 2 16] [8 6] [10 13]\n"
     ]
    }
   ],
   "source": [
    "centroid1 = np.array([2,16])\n",
    "centroid2 = np.array([8, 6])\n",
    "centroid3 = np.array([10, 13])\n",
    "print(centroid1, centroid2, centroid3)"
   ]
  },
  {
   "cell_type": "code",
   "execution_count": 6,
   "metadata": {
    "colab": {
     "autoexec": {
      "startup": false,
      "wait_interval": 0
     },
     "base_uri": "https://localhost:8080/",
     "height": 367
    },
    "colab_type": "code",
    "executionInfo": {
     "elapsed": 414,
     "status": "ok",
     "timestamp": 1529085714241,
     "user": {
      "displayName": "Dana Nehoran",
      "photoUrl": "https://lh3.googleusercontent.com/a/default-user=s128",
      "userId": "100555973901173283746"
     },
     "user_tz": 420
    },
    "id": "EyXNtouSmsUn",
    "outputId": "a86392d2-a9d1-4c74-f019-68ef2039eaa1"
   },
   "outputs": [
    {
     "data": {
      "text/plain": [
       "<matplotlib.patches.Circle at 0x1a189a77f0>"
      ]
     },
     "execution_count": 6,
     "metadata": {},
     "output_type": "execute_result"
    },
    {
     "data": {
      "image/png": "[encoded data removed]",
      "text/plain": [
       "<Figure size 360x360 with 1 Axes>"
      ]
     },
     "metadata": {
      "needs_background": "light"
     },
     "output_type": "display_data"
    }
   ],
   "source": [
    "fig = plt.figure(figsize=(5,5))\n",
    "\n",
    "plt.scatter(bird_df.Wings, bird_df.Length, edgecolor = 'black', s = 80)\n",
    "plt.title('Birds')\n",
    "plt.xlabel('Wings')\n",
    "plt.ylabel('Length')\n",
    "circle1 = plt.Circle(centroid1, radius=0.95, edgecolor = 'black', fc='yellow')\n",
    "circle2 = plt.Circle(centroid2, radius=0.95, edgecolor = 'black', fc='red')\n",
    "circle3 = plt.Circle(centroid3, radius=0.95, edgecolor = 'black', fc='green')\n",
    "plt.gca().add_patch(circle1)\n",
    "plt.gca().add_patch(circle2)\n",
    "plt.gca().add_patch(circle3)\n"
   ]
  },
  {
   "cell_type": "markdown",
   "metadata": {
    "colab_type": "text",
    "id": "LNAXC-HDmsUt"
   },
   "source": [
    "# 1) First Iteration"
   ]
  },
  {
   "cell_type": "code",
   "execution_count": 7,
   "metadata": {
    "colab": {
     "autoexec": {
      "startup": false,
      "wait_interval": 0
     },
     "base_uri": "https://localhost:8080/",
     "height": 422
    },
    "colab_type": "code",
    "executionInfo": {
     "elapsed": 272,
     "status": "ok",
     "timestamp": 1529085715973,
     "user": {
      "displayName": "Dana Nehoran",
      "photoUrl": "https://lh3.googleusercontent.com/a/default-user=s128",
      "userId": "100555973901173283746"
     },
     "user_tz": 420
    },
    "id": "jLDo6vSYmsUu",
    "outputId": "088bdf47-9ab4-47fa-8e29-ee178e5f1ddc"
   },
   "outputs": [
    {
     "data": {
      "text/plain": [
       "    Wings  Length    Dist_C1    Dist_C2    Dist_C3\n",
       "0       1       3  13.038405   7.615773  13.453624\n",
       "1       2       4  12.000000   6.324555  12.041595\n",
       "2       4       2  14.142136   5.656854  12.529964\n",
       "3       7      12   6.403124   6.082763   3.162278\n",
       "4       4       3  13.152946   5.000000  11.661904\n",
       "5      10      16   8.000000  10.198039   3.000000\n",
       "6      17      13  15.297059  11.401754   7.000000\n",
       "7       7      19   5.830952  13.038405   6.708204\n",
       "8      13      10  12.529964   6.403124   4.242641\n",
       "9      16      12  14.560220  10.000000   6.082763\n",
       "10      5       5  11.401754   3.162278   9.433981\n",
       "11      3       2  14.035669   6.403124  13.038405\n",
       "12     18      10  17.088007  10.770330   8.544004\n",
       "13     19       7  19.235384  11.045361  10.816654\n",
       "14      4       8   8.246211   4.472136   7.810250\n",
       "15      3       9   7.071068   5.830952   8.062258\n",
       "16      4      14   2.828427   8.944272   6.082763\n",
       "17     10      14   8.246211   8.246211   1.000000\n",
       "18      7      15   5.099020   9.055385   3.605551\n",
       "19      9      18   7.280110  12.041595   5.099020\n",
       "20      6      17   4.123106  11.180340   5.656854\n",
       "21     15       9  14.764823   7.615773   6.403124"
      ]
     },
     "execution_count": 7,
     "metadata": {
      "tags": []
     },
     "output_type": "execute_result"
    }
   ],
   "source": [
    "bird_df[\"Dist_C1\"] = np.sqrt((bird_df.Wings - centroid1[0])**2 \n",
    "                             + (bird_df.Length - centroid1[1])**2)\n",
    "bird_df[\"Dist_C2\"] = np.sqrt((bird_df.Wings - centroid2[0])**2 + \n",
    "                             (bird_df.Length - centroid2[1])**2)\n",
    "bird_df[\"Dist_C3\"] = np.sqrt((bird_df.Wings - centroid3[0])**2 + \n",
    "                             (bird_df.Length - centroid3[1])**2)\n",
    "bird_df"
   ]
  },
  {
   "cell_type": "markdown",
   "metadata": {
    "colab_type": "text",
    "id": "0DWsMh9WmsU1"
   },
   "source": [
    "### Associating Points to Centroids"
   ]
  },
  {
   "cell_type": "code",
   "execution_count": 8,
   "metadata": {
    "colab": {
     "autoexec": {
      "startup": false,
      "wait_interval": 0
     },
     "base_uri": "https://localhost:8080/",
     "height": 422
    },
    "colab_type": "code",
    "executionInfo": {
     "elapsed": 276,
     "status": "ok",
     "timestamp": 1529085717404,
     "user": {
      "displayName": "Dana Nehoran",
      "photoUrl": "https://lh3.googleusercontent.com/a/default-user=s128",
      "userId": "100555973901173283746"
     },
     "user_tz": 420
    },
    "id": "wqKz4PfCmsU3",
    "outputId": "6339b5fd-61d9-41b3-df0f-bac5e3a89556"
   },
   "outputs": [
    {
     "data": {
      "text/plain": [
       "    Wings  Length    Dist_C1    Dist_C2    Dist_C3  Association\n",
       "0       1       3  13.038405   7.615773  13.453624            2\n",
       "1       2       4  12.000000   6.324555  12.041595            2\n",
       "2       4       2  14.142136   5.656854  12.529964            2\n",
       "3       7      12   6.403124   6.082763   3.162278            3\n",
       "4       4       3  13.152946   5.000000  11.661904            2\n",
       "5      10      16   8.000000  10.198039   3.000000            3\n",
       "6      17      13  15.297059  11.401754   7.000000            3\n",
       "7       7      19   5.830952  13.038405   6.708204            1\n",
       "8      13      10  12.529964   6.403124   4.242641            3\n",
       "9      16      12  14.560220  10.000000   6.082763            3\n",
       "10      5       5  11.401754   3.162278   9.433981            2\n",
       "11      3       2  14.035669   6.403124  13.038405            2\n",
       "12     18      10  17.088007  10.770330   8.544004            3\n",
       "13     19       7  19.235384  11.045361  10.816654            3\n",
       "14      4       8   8.246211   4.472136   7.810250            2\n",
       "15      3       9   7.071068   5.830952   8.062258            2\n",
       "16      4      14   2.828427   8.944272   6.082763            1\n",
       "17     10      14   8.246211   8.246211   1.000000            3\n",
       "18      7      15   5.099020   9.055385   3.605551            3\n",
       "19      9      18   7.280110  12.041595   5.099020            3\n",
       "20      6      17   4.123106  11.180340   5.656854            1\n",
       "21     15       9  14.764823   7.615773   6.403124            3"
      ]
     },
     "execution_count": 8,
     "metadata": {
      "tags": []
     },
     "output_type": "execute_result"
    }
   ],
   "source": [
    "bird_df[\"Association\"] = np.where(\n",
    "    (bird_df.Dist_C1 < bird_df.Dist_C2) & \n",
    "    (bird_df.Dist_C1 < bird_df.Dist_C3), 1, \n",
    "     np.where((bird_df.Dist_C2 < bird_df.Dist_C1) & \n",
    "    (bird_df.Dist_C2 < bird_df.Dist_C3) , 2, 3))\n",
    "bird_df"
   ]
  },
  {
   "cell_type": "markdown",
   "metadata": {
    "colab_type": "text",
    "id": "aER_TjuamsVC"
   },
   "source": [
    "### Result of First Iteration"
   ]
  },
  {
   "cell_type": "code",
   "execution_count": 9,
   "metadata": {
    "colab": {
     "autoexec": {
      "startup": false,
      "wait_interval": 0
     },
     "base_uri": "https://localhost:8080/",
     "height": 367
    },
    "colab_type": "code",
    "executionInfo": {
     "elapsed": 428,
     "status": "ok",
     "timestamp": 1529085718861,
     "user": {
      "displayName": "Dana Nehoran",
      "photoUrl": "https://lh3.googleusercontent.com/a/default-user=s128",
      "userId": "100555973901173283746"
     },
     "user_tz": 420
    },
    "id": "qSrT3qBbmsVD",
    "outputId": "28ff1b99-9cf0-42dc-dcb5-c4143fad86ca"
   },
   "outputs": [
    {
     "data": {
      "text/plain": [
       "Text(0,0.5,'Length')"
      ]
     },
     "execution_count": 9,
     "metadata": {
      "tags": []
     },
     "output_type": "execute_result"
    },
    {
     "data": {
      "image/png": "[encoded data removed]",
      "text/plain": [
       "<matplotlib.figure.Figure at 0x7fc36a6f6c88>"
      ]
     },
     "metadata": {
      "tags": []
     },
     "output_type": "display_data"
    }
   ],
   "source": [
    "fig = plt.figure(figsize=(5,5))\n",
    " \n",
    "# Create a colormap\n",
    "colormap = np.array(['black', 'yellow', 'red', 'green'])\n",
    " \n",
    "plt.scatter(bird_df.Wings, bird_df.Length, \n",
    "            c=colormap[bird_df.Association], edgecolor = 'black', s = 80)\n",
    "plt.title('Birds')\n",
    "plt.xlabel('Wings')\n",
    "plt.ylabel('Length')"
   ]
  },
  {
   "cell_type": "code",
   "execution_count": 10,
   "metadata": {
    "colab": {
     "autoexec": {
      "startup": false,
      "wait_interval": 0
     },
     "base_uri": "https://localhost:8080/",
     "height": 367
    },
    "colab_type": "code",
    "executionInfo": {
     "elapsed": 671,
     "status": "ok",
     "timestamp": 1529085720029,
     "user": {
      "displayName": "Dana Nehoran",
      "photoUrl": "https://lh3.googleusercontent.com/a/default-user=s128",
      "userId": "100555973901173283746"
     },
     "user_tz": 420
    },
    "id": "Rj6PnDPomsVJ",
    "outputId": "838d1a35-180b-484c-fe46-da7700be3dd6"
   },
   "outputs": [
    {
     "data": {
      "text/plain": [
       "<matplotlib.patches.Circle at 0x7fc361d98cf8>"
      ]
     },
     "execution_count": 10,
     "metadata": {
      "tags": []
     },
     "output_type": "execute_result"
    },
    {
     "data": {
      "image/png": "[encoded data removed]",
      "text/plain": [
       "<matplotlib.figure.Figure at 0x7fc36a6f6b70>"
      ]
     },
     "metadata": {
      "tags": []
     },
     "output_type": "display_data"
    }
   ],
   "source": [
    "fig = plt.figure(figsize=(5,5))\n",
    " \n",
    "# Create a colormap\n",
    "colormap = np.array(['black', 'yellow', 'red', 'green'])\n",
    " \n",
    "plt.scatter(bird_df.Wings, bird_df.Length, \n",
    "            c=colormap[bird_df.Association], edgecolor = 'black', s = 80)\n",
    "plt.title('Birds')\n",
    "plt.xlabel('Wings')\n",
    "plt.ylabel('Length')\n",
    "circle1 = plt.Circle(centroid1, radius=0.95, fc='yellow', edgecolor = 'black')\n",
    "circle2 = plt.Circle(centroid2, radius=0.95, fc='red', edgecolor = 'black')\n",
    "circle3 = plt.Circle(centroid3, radius=0.95, fc='green', edgecolor = 'black')\n",
    "plt.gca().add_patch(circle1)\n",
    "plt.gca().add_patch(circle2)\n",
    "plt.gca().add_patch(circle3)"
   ]
  },
  {
   "cell_type": "code",
   "execution_count": 11,
   "metadata": {
    "colab": {
     "autoexec": {
      "startup": false,
      "wait_interval": 0
     },
     "base_uri": "https://localhost:8080/",
     "height": 87
    },
    "colab_type": "code",
    "executionInfo": {
     "elapsed": 337,
     "status": "ok",
     "timestamp": 1529085720883,
     "user": {
      "displayName": "Dana Nehoran",
      "photoUrl": "https://lh3.googleusercontent.com/a/default-user=s128",
      "userId": "100555973901173283746"
     },
     "user_tz": 420
    },
    "id": "PfrVbJ4wmsVQ",
    "outputId": "f1a0369a-bc9d-4e63-bc29-8ed84e15f9ba"
   },
   "outputs": [
    {
     "data": {
      "text/plain": [
       "    Wings  Length   Dist_C1    Dist_C2   Dist_C3  Association\n",
       "7       7      19  5.830952  13.038405  6.708204            1\n",
       "16      4      14  2.828427   8.944272  6.082763            1\n",
       "20      6      17  4.123106  11.180340  5.656854            1"
      ]
     },
     "execution_count": 11,
     "metadata": {
      "tags": []
     },
     "output_type": "execute_result"
    }
   ],
   "source": [
    "bird_df[bird_df.Association == 1]"
   ]
  },
  {
   "cell_type": "code",
   "execution_count": 12,
   "metadata": {
    "colab": {
     "autoexec": {
      "startup": false,
      "wait_interval": 0
     },
     "base_uri": "https://localhost:8080/",
     "height": 175
    },
    "colab_type": "code",
    "executionInfo": {
     "elapsed": 260,
     "status": "ok",
     "timestamp": 1529085721759,
     "user": {
      "displayName": "Dana Nehoran",
      "photoUrl": "https://lh3.googleusercontent.com/a/default-user=s128",
      "userId": "100555973901173283746"
     },
     "user_tz": 420
    },
    "id": "eXhsu_0BmsVX",
    "outputId": "f68f54c7-d4bd-40c2-e18e-9df6ebd6c348"
   },
   "outputs": [
    {
     "data": {
      "text/plain": [
       "    Wings  Length    Dist_C1   Dist_C2    Dist_C3  Association\n",
       "0       1       3  13.038405  7.615773  13.453624            2\n",
       "1       2       4  12.000000  6.324555  12.041595            2\n",
       "2       4       2  14.142136  5.656854  12.529964            2\n",
       "4       4       3  13.152946  5.000000  11.661904            2\n",
       "10      5       5  11.401754  3.162278   9.433981            2\n",
       "11      3       2  14.035669  6.403124  13.038405            2\n",
       "14      4       8   8.246211  4.472136   7.810250            2\n",
       "15      3       9   7.071068  5.830952   8.062258            2"
      ]
     },
     "execution_count": 12,
     "metadata": {
      "tags": []
     },
     "output_type": "execute_result"
    }
   ],
   "source": [
    "bird_df[bird_df.Association == 2]"
   ]
  },
  {
   "cell_type": "code",
   "execution_count": 13,
   "metadata": {
    "colab": {
     "autoexec": {
      "startup": false,
      "wait_interval": 0
     },
     "base_uri": "https://localhost:8080/",
     "height": 228
    },
    "colab_type": "code",
    "executionInfo": {
     "elapsed": 273,
     "status": "ok",
     "timestamp": 1529085722600,
     "user": {
      "displayName": "Dana Nehoran",
      "photoUrl": "https://lh3.googleusercontent.com/a/default-user=s128",
      "userId": "100555973901173283746"
     },
     "user_tz": 420
    },
    "id": "QH432Fd0msVe",
    "outputId": "6f1d1e31-a738-4283-8a47-b0760ea723cf"
   },
   "outputs": [
    {
     "data": {
      "text/plain": [
       "    Wings  Length    Dist_C1    Dist_C2    Dist_C3  Association\n",
       "3       7      12   6.403124   6.082763   3.162278            3\n",
       "5      10      16   8.000000  10.198039   3.000000            3\n",
       "6      17      13  15.297059  11.401754   7.000000            3\n",
       "8      13      10  12.529964   6.403124   4.242641            3\n",
       "9      16      12  14.560220  10.000000   6.082763            3\n",
       "12     18      10  17.088007  10.770330   8.544004            3\n",
       "13     19       7  19.235384  11.045361  10.816654            3\n",
       "17     10      14   8.246211   8.246211   1.000000            3\n",
       "18      7      15   5.099020   9.055385   3.605551            3\n",
       "19      9      18   7.280110  12.041595   5.099020            3\n",
       "21     15       9  14.764823   7.615773   6.403124            3"
      ]
     },
     "execution_count": 13,
     "metadata": {
      "tags": []
     },
     "output_type": "execute_result"
    }
   ],
   "source": [
    "bird_df[bird_df.Association == 3]"
   ]
  },
  {
   "cell_type": "markdown",
   "metadata": {
    "colab_type": "text",
    "id": "gFhn-IgqmsVl"
   },
   "source": [
    "# 2) Second Iteration"
   ]
  },
  {
   "cell_type": "markdown",
   "metadata": {
    "colab_type": "text",
    "id": "lPryvXcRmsVn"
   },
   "source": [
    "### Recentering Centroids"
   ]
  },
  {
   "cell_type": "code",
   "execution_count": 14,
   "metadata": {
    "colab": {
     "autoexec": {
      "startup": false,
      "wait_interval": 0
     },
     "base_uri": "https://localhost:8080/",
     "height": 70
    },
    "colab_type": "code",
    "executionInfo": {
     "elapsed": 367,
     "status": "ok",
     "timestamp": 1529085725299,
     "user": {
      "displayName": "Dana Nehoran",
      "photoUrl": "https://lh3.googleusercontent.com/a/default-user=s128",
      "userId": "100555973901173283746"
     },
     "user_tz": 420
    },
    "id": "m2-KnBSMmsVo",
    "outputId": "f4ef3b43-62f8-43cb-bce5-7e9914db6e61"
   },
   "outputs": [
    {
     "data": {
      "text/plain": [
       "Wings      5.666667\n",
       "Length    16.666667\n",
       "dtype: float64"
      ]
     },
     "execution_count": 14,
     "metadata": {
      "tags": []
     },
     "output_type": "execute_result"
    }
   ],
   "source": [
    "centroid1 = bird_df[bird_df.Association == 1][[\"Wings\", \"Length\"]].mean()\n",
    "centroid1"
   ]
  },
  {
   "cell_type": "code",
   "execution_count": 15,
   "metadata": {
    "colab": {
     "autoexec": {
      "startup": false,
      "wait_interval": 0
     },
     "base_uri": "https://localhost:8080/",
     "height": 70
    },
    "colab_type": "code",
    "executionInfo": {
     "elapsed": 250,
     "status": "ok",
     "timestamp": 1529085726197,
     "user": {
      "displayName": "Dana Nehoran",
      "photoUrl": "https://lh3.googleusercontent.com/a/default-user=s128",
      "userId": "100555973901173283746"
     },
     "user_tz": 420
    },
    "id": "rfCZkOUqmsVr",
    "outputId": "ee4aa6a4-ef08-4c82-cd44-4e07bb759206"
   },
   "outputs": [
    {
     "data": {
      "text/plain": [
       "Wings     3.25\n",
       "Length    4.50\n",
       "dtype: float64"
      ]
     },
     "execution_count": 15,
     "metadata": {
      "tags": []
     },
     "output_type": "execute_result"
    }
   ],
   "source": [
    "centroid2 = bird_df[bird_df.Association == 2][[\"Wings\", \"Length\"]].mean()\n",
    "centroid2"
   ]
  },
  {
   "cell_type": "code",
   "execution_count": 16,
   "metadata": {
    "colab": {
     "autoexec": {
      "startup": false,
      "wait_interval": 0
     },
     "base_uri": "https://localhost:8080/",
     "height": 70
    },
    "colab_type": "code",
    "executionInfo": {
     "elapsed": 265,
     "status": "ok",
     "timestamp": 1529085727054,
     "user": {
      "displayName": "Dana Nehoran",
      "photoUrl": "https://lh3.googleusercontent.com/a/default-user=s128",
      "userId": "100555973901173283746"
     },
     "user_tz": 420
    },
    "id": "a63SWhpemsVv",
    "outputId": "675a2811-5ec4-47c8-ffad-f0204cd99bcd"
   },
   "outputs": [
    {
     "data": {
      "text/plain": [
       "Wings     12.818182\n",
       "Length    12.363636\n",
       "dtype: float64"
      ]
     },
     "execution_count": 16,
     "metadata": {
      "tags": []
     },
     "output_type": "execute_result"
    }
   ],
   "source": [
    "centroid3 = bird_df[bird_df.Association == 3][[\"Wings\", \"Length\"]].mean()\n",
    "centroid3"
   ]
  },
  {
   "cell_type": "markdown",
   "metadata": {
    "colab_type": "text",
    "id": "YSWtFDUSmsVy"
   },
   "source": [
    "### Plotting"
   ]
  },
  {
   "cell_type": "code",
   "execution_count": 17,
   "metadata": {
    "colab": {
     "autoexec": {
      "startup": false,
      "wait_interval": 0
     },
     "base_uri": "https://localhost:8080/",
     "height": 367
    },
    "colab_type": "code",
    "executionInfo": {
     "elapsed": 420,
     "status": "ok",
     "timestamp": 1529085728827,
     "user": {
      "displayName": "Dana Nehoran",
      "photoUrl": "https://lh3.googleusercontent.com/a/default-user=s128",
      "userId": "100555973901173283746"
     },
     "user_tz": 420
    },
    "id": "Nx8YxIwsmsV0",
    "outputId": "051de500-46e5-4f3f-d6f2-9bc380a54e19"
   },
   "outputs": [
    {
     "data": {
      "text/plain": [
       "<matplotlib.patches.Circle at 0x7fc361d180f0>"
      ]
     },
     "execution_count": 17,
     "metadata": {
      "tags": []
     },
     "output_type": "execute_result"
    },
    {
     "data": {
      "image/png": "[encoded data removed]",
      "text/plain": [
       "<matplotlib.figure.Figure at 0x7fc361ddf588>"
      ]
     },
     "metadata": {
      "tags": []
     },
     "output_type": "display_data"
    }
   ],
   "source": [
    "fig = plt.figure(figsize=(5,5))\n",
    "\n",
    "# Create a colormap\n",
    "colormap = np.array(['black', 'yellow', 'red', 'green'])\n",
    " \n",
    "plt.scatter(bird_df.Wings, bird_df.Length, c=colormap[bird_df.Association], edgecolor = 'black', s = 80)\n",
    "plt.title('Birds')\n",
    "\n",
    "plt.title('Birds')\n",
    "plt.xlabel('Wings')\n",
    "plt.ylabel('Length')\n",
    "circle1 = plt.Circle(centroid1, radius=0.95, edgecolor = 'black', fc='yellow')\n",
    "circle2 = plt.Circle(centroid2, radius=0.95, edgecolor = 'black', fc='red')\n",
    "circle3 = plt.Circle(centroid3, radius=0.95, edgecolor = 'black', fc='green')\n",
    "plt.gca().add_patch(circle1)\n",
    "plt.gca().add_patch(circle2)\n",
    "plt.gca().add_patch(circle3)\n"
   ]
  },
  {
   "cell_type": "markdown",
   "metadata": {
    "colab_type": "text",
    "id": "8pjreJ-GmsV8"
   },
   "source": [
    "### Calculating Distances and Association for 2nd Iteration"
   ]
  },
  {
   "cell_type": "code",
   "execution_count": 18,
   "metadata": {
    "colab": {
     "autoexec": {
      "startup": false,
      "wait_interval": 0
     },
     "base_uri": "https://localhost:8080/",
     "height": 422
    },
    "colab_type": "code",
    "executionInfo": {
     "elapsed": 270,
     "status": "ok",
     "timestamp": 1529085730664,
     "user": {
      "displayName": "Dana Nehoran",
      "photoUrl": "https://lh3.googleusercontent.com/a/default-user=s128",
      "userId": "100555973901173283746"
     },
     "user_tz": 420
    },
    "id": "s8OqpyJsmsV8",
    "outputId": "a429834a-da5a-4325-f924-3880e70fba0b"
   },
   "outputs": [
    {
     "data": {
      "text/plain": [
       "    Wings  Length    Dist_C1    Dist_C2    Dist_C3  Association\n",
       "0       1       3  14.441453   2.704163  15.078034            2\n",
       "1       2       4  13.186694   1.346291  13.674190            2\n",
       "2       4       2  14.761060   2.610077  13.607545            2\n",
       "3       7      12   4.853407   8.385255   5.829534            1\n",
       "4       4       3  13.767918   1.677051  12.862271            2\n",
       "5      10      16   4.384315  13.334635   4.600575            1\n",
       "6      17      13  11.911712  16.165163   4.229960            3\n",
       "7       7      19   2.687419  14.977066   8.825676            1\n",
       "8      13      10   9.910712  11.194307   2.370619            3\n",
       "9      16      12  11.338234  14.792312   3.202530            3\n",
       "10      5       5  11.685699   1.820027  10.739977            2\n",
       "11      3       2  14.907120   2.512469  14.275912            2\n",
       "12     18      10  14.019827  15.742061   5.695438            3\n",
       "13     19       7  16.468826  15.947178   8.184343            3\n",
       "14      4       8   8.825468   3.579455   9.838783            2\n",
       "15      3       9   8.117197   4.506939  10.378379            2\n",
       "16      4      14   3.144660   9.529559   8.968724            1\n",
       "17     10      14   5.088113  11.653862   3.258809            3\n",
       "18      7      15   2.134375  11.149552   6.387617            1\n",
       "19      9      18   3.590110  14.673531   6.807871            1\n",
       "20      6      17   0.471405  12.798926   8.245209            1\n",
       "21     15       9  12.078447  12.582230   4.009287            3"
      ]
     },
     "execution_count": 18,
     "metadata": {
      "tags": []
     },
     "output_type": "execute_result"
    }
   ],
   "source": [
    "bird_df[\"Dist_C1\"] = np.sqrt((bird_df.Wings - centroid1[0])**2 + (bird_df.Length - centroid1[1])**2)\n",
    "bird_df[\"Dist_C2\"] = np.sqrt((bird_df.Wings - centroid2[0])**2 + (bird_df.Length - centroid2[1])**2)\n",
    "bird_df[\"Dist_C3\"] = np.sqrt((bird_df.Wings - centroid3[0])**2 + (bird_df.Length - centroid3[1])**2)\n",
    "bird_df[\"Association\"] = np.where((bird_df.Dist_C1 < bird_df.Dist_C2) & \n",
    "                                  (bird_df.Dist_C1 < bird_df.Dist_C3), 1, \n",
    "                                   np.where((bird_df.Dist_C2 < bird_df.Dist_C1) & \n",
    "                                  (bird_df.Dist_C2 < bird_df.Dist_C3) , 2, 3))\n",
    "bird_df"
   ]
  },
  {
   "cell_type": "markdown",
   "metadata": {
    "colab_type": "text",
    "id": "BSK3vuq0msV-"
   },
   "source": [
    "### Result of 2nd Iteration"
   ]
  },
  {
   "cell_type": "code",
   "execution_count": 19,
   "metadata": {
    "colab": {
     "autoexec": {
      "startup": false,
      "wait_interval": 0
     },
     "base_uri": "https://localhost:8080/",
     "height": 367
    },
    "colab_type": "code",
    "executionInfo": {
     "elapsed": 497,
     "status": "ok",
     "timestamp": 1529085732383,
     "user": {
      "displayName": "Dana Nehoran",
      "photoUrl": "https://lh3.googleusercontent.com/a/default-user=s128",
      "userId": "100555973901173283746"
     },
     "user_tz": 420
    },
    "id": "30cuWBmFmsWA",
    "outputId": "a5d57cf4-67f9-4c84-f23c-e2d84b5d9c49"
   },
   "outputs": [
    {
     "data": {
      "text/plain": [
       "<matplotlib.patches.Circle at 0x7fc361cff9b0>"
      ]
     },
     "execution_count": 19,
     "metadata": {
      "tags": []
     },
     "output_type": "execute_result"
    },
    {
     "data": {
      "image/png": "[encoded data removed]",
      "text/plain": [
       "<matplotlib.figure.Figure at 0x7fc361e112b0>"
      ]
     },
     "metadata": {
      "tags": []
     },
     "output_type": "display_data"
    }
   ],
   "source": [
    "fig = plt.figure(figsize=(5,5))\n",
    " \n",
    "# Create a colormap\n",
    "colormap = np.array(['black', 'yellow', 'red', 'green'])\n",
    " \n",
    "# Plot Sepal\n",
    "plt.scatter(bird_df.Wings, bird_df.Length, c=colormap[bird_df.Association], edgecolor = 'black', s = 80)\n",
    "plt.title('Birds')\n",
    "plt.xlabel('Wings')\n",
    "plt.ylabel('Length')\n",
    "circle1 = plt.Circle(centroid1, radius=0.95, edgecolor = 'black', fc='yellow')\n",
    "circle2 = plt.Circle(centroid2, radius=0.95, edgecolor = 'black', fc='red')\n",
    "circle3 = plt.Circle(centroid3, radius=0.95, edgecolor = 'black', fc='green')\n",
    "plt.gca().add_patch(circle1)\n",
    "plt.gca().add_patch(circle2)\n",
    "plt.gca().add_patch(circle3)"
   ]
  },
  {
   "cell_type": "markdown",
   "metadata": {
    "colab_type": "text",
    "id": "7ZsTWBKhmsWB"
   },
   "source": [
    "# 3) Third Iteration"
   ]
  },
  {
   "cell_type": "code",
   "execution_count": 20,
   "metadata": {
    "colab": {
     "autoexec": {
      "startup": false,
      "wait_interval": 0
     },
     "base_uri": "https://localhost:8080/",
     "height": 367
    },
    "colab_type": "code",
    "executionInfo": {
     "elapsed": 421,
     "status": "ok",
     "timestamp": 1529085733885,
     "user": {
      "displayName": "Dana Nehoran",
      "photoUrl": "https://lh3.googleusercontent.com/a/default-user=s128",
      "userId": "100555973901173283746"
     },
     "user_tz": 420
    },
    "id": "uBXghxgvmsWC",
    "outputId": "927f92e0-7cde-4525-a272-2fefd15b3486"
   },
   "outputs": [
    {
     "data": {
      "text/plain": [
       "<matplotlib.patches.Circle at 0x7fc361c75ba8>"
      ]
     },
     "execution_count": 20,
     "metadata": {
      "tags": []
     },
     "output_type": "execute_result"
    },
    {
     "data": {
      "image/png": "[encoded data removed]",
      "text/plain": [
       "<matplotlib.figure.Figure at 0x7fc361d429e8>"
      ]
     },
     "metadata": {
      "tags": []
     },
     "output_type": "display_data"
    }
   ],
   "source": [
    "centroid1 = bird_df[bird_df.Association == 1][[\"Wings\", \"Length\"]].mean()\n",
    "centroid2 = bird_df[bird_df.Association == 2][[\"Wings\", \"Length\"]].mean()\n",
    "centroid3 = bird_df[bird_df.Association == 3][[\"Wings\", \"Length\"]].mean()\n",
    "bird_df[\"Dist_C1\"] = np.sqrt((bird_df.Wings - centroid1[0])**2 + (bird_df.Length - centroid1[1])**2)\n",
    "bird_df[\"Dist_C2\"] = np.sqrt((bird_df.Wings - centroid2[0])**2 + (bird_df.Length - centroid2[1])**2)\n",
    "bird_df[\"Dist_C3\"] = np.sqrt((bird_df.Wings - centroid3[0])**2 + (bird_df.Length - centroid3[1])**2)\n",
    "bird_df[\"Association\"] = np.where((bird_df.Dist_C1 < bird_df.Dist_C2) & \n",
    "                                  (bird_df.Dist_C1 < bird_df.Dist_C3), 1, \n",
    "                                   np.where((bird_df.Dist_C2 < bird_df.Dist_C1) & \n",
    "                                  (bird_df.Dist_C2 < bird_df.Dist_C3) , 2, 3))\n",
    "fig = plt.figure(figsize=(5,5))\n",
    " \n",
    "# Create a colormap\n",
    "colormap = np.array(['black', 'yellow', 'red', 'green'])\n",
    " \n",
    "# Plot Sepal\n",
    "plt.scatter(bird_df.Wings, bird_df.Length, c=colormap[bird_df.Association], edgecolor = 'black', s = 80)\n",
    "plt.title('Birds')\n",
    "plt.xlabel('Wings')\n",
    "plt.ylabel('Length')\n",
    "circle1 = plt.Circle(centroid1, radius=0.75, edgecolor = 'black', fc='yellow')\n",
    "circle2 = plt.Circle(centroid2, radius=0.75, edgecolor = 'black', fc='red')\n",
    "circle3 = plt.Circle(centroid3, radius=0.75, edgecolor = 'black', fc='green')\n",
    "plt.gca().add_patch(circle1)\n",
    "plt.gca().add_patch(circle2)\n",
    "plt.gca().add_patch(circle3)"
   ]
  },
  {
   "cell_type": "markdown",
   "metadata": {
    "colab_type": "text",
    "id": "1OUDwl-3msWG"
   },
   "source": [
    "# 4) Fourth Iteration"
   ]
  },
  {
   "cell_type": "code",
   "execution_count": 21,
   "metadata": {
    "colab": {
     "autoexec": {
      "startup": false,
      "wait_interval": 0
     },
     "base_uri": "https://localhost:8080/",
     "height": 367
    },
    "colab_type": "code",
    "executionInfo": {
     "elapsed": 428,
     "status": "ok",
     "timestamp": 1529085735407,
     "user": {
      "displayName": "Dana Nehoran",
      "photoUrl": "https://lh3.googleusercontent.com/a/default-user=s128",
      "userId": "100555973901173283746"
     },
     "user_tz": 420
    },
    "id": "q6W5G_gwmsWG",
    "outputId": "1a3c4860-3bd4-4151-b77b-2f781eba87b0"
   },
   "outputs": [
    {
     "data": {
      "text/plain": [
       "<matplotlib.patches.Circle at 0x7fc361beb710>"
      ]
     },
     "execution_count": 21,
     "metadata": {
      "tags": []
     },
     "output_type": "execute_result"
    },
    {
     "data": {
      "image/png": "[encoded data removed]",
      "text/plain": [
       "<matplotlib.figure.Figure at 0x7fc361c812b0>"
      ]
     },
     "metadata": {
      "tags": []
     },
     "output_type": "display_data"
    }
   ],
   "source": [
    "centroid1 = bird_df[bird_df.Association == 1][[\"Wings\", \"Length\"]].mean()\n",
    "centroid2 = bird_df[bird_df.Association == 2][[\"Wings\", \"Length\"]].mean()\n",
    "centroid3 = bird_df[bird_df.Association == 3][[\"Wings\", \"Length\"]].mean()\n",
    "bird_df[\"Dist_C1\"] = np.sqrt((bird_df.Wings - centroid1[0])**2 + (bird_df.Length - centroid1[1])**2)\n",
    "bird_df[\"Dist_C2\"] = np.sqrt((bird_df.Wings - centroid2[0])**2 + (bird_df.Length - centroid2[1])**2)\n",
    "bird_df[\"Dist_C3\"] = np.sqrt((bird_df.Wings - centroid3[0])**2 + (bird_df.Length - centroid3[1])**2)\n",
    "bird_df[\"Association\"] = np.where((bird_df.Dist_C1 < bird_df.Dist_C2) & \n",
    "                                  (bird_df.Dist_C1 < bird_df.Dist_C3), 1, \n",
    "                                   np.where((bird_df.Dist_C2 < bird_df.Dist_C1) & \n",
    "                                  (bird_df.Dist_C2 < bird_df.Dist_C3) , 2, 3))\n",
    "fig = plt.figure(figsize=(5,5))\n",
    " \n",
    "# Create a colormap\n",
    "colormap = np.array(['black', 'yellow', 'red', 'green'])\n",
    " \n",
    "# Plot Sepal\n",
    "plt.scatter(bird_df.Wings, bird_df.Length, c=colormap[bird_df.Association], edgecolor = 'black', s = 80)\n",
    "plt.title('Birds')\n",
    "plt.xlabel('Wings')\n",
    "plt.ylabel('Length')\n",
    "circle1 = plt.Circle(centroid1, radius=0.75, edgecolor = 'black', fc='yellow')\n",
    "circle2 = plt.Circle(centroid2, radius=0.75, edgecolor = 'black', fc='red')\n",
    "circle3 = plt.Circle(centroid3, radius=0.75, edgecolor = 'black', fc='green')\n",
    "plt.gca().add_patch(circle1)\n",
    "plt.gca().add_patch(circle2)\n",
    "plt.gca().add_patch(circle3)"
   ]
  },
  {
   "cell_type": "markdown",
   "metadata": {
    "colab_type": "text",
    "id": "Xp0X6GP0msWK"
   },
   "source": [
    "# 5) Using `KMeans()` Function"
   ]
  },
  {
   "cell_type": "code",
   "execution_count": 22,
   "metadata": {
    "colab": {
     "autoexec": {
      "startup": false,
      "wait_interval": 0
     },
     "base_uri": "https://localhost:8080/",
     "height": 422
    },
    "colab_type": "code",
    "executionInfo": {
     "elapsed": 262,
     "status": "ok",
     "timestamp": 1529085736677,
     "user": {
      "displayName": "Dana Nehoran",
      "photoUrl": "https://lh3.googleusercontent.com/a/default-user=s128",
      "userId": "100555973901173283746"
     },
     "user_tz": 420
    },
    "id": "oBCi0KekmsWL",
    "outputId": "862a3fd4-0756-475c-80dc-4cb20634acb7"
   },
   "outputs": [
    {
     "data": {
      "text/plain": [
       "    Wings  Length\n",
       "0       1       3\n",
       "1       2       4\n",
       "2       4       2\n",
       "3       7      12\n",
       "4       4       3\n",
       "5      10      16\n",
       "6      17      13\n",
       "7       7      19\n",
       "8      13      10\n",
       "9      16      12\n",
       "10      5       5\n",
       "11      3       2\n",
       "12     18      10\n",
       "13     19       7\n",
       "14      4       8\n",
       "15      3       9\n",
       "16      4      14\n",
       "17     10      14\n",
       "18      7      15\n",
       "19      9      18\n",
       "20      6      17\n",
       "21     15       9"
      ]
     },
     "execution_count": 22,
     "metadata": {
      "tags": []
     },
     "output_type": "execute_result"
    }
   ],
   "source": [
    "bird_df = pd.DataFrame(birds)\n",
    "bird_df.columns = [\"Wings\", \"Length\"]\n",
    "bird_df"
   ]
  },
  {
   "cell_type": "code",
   "execution_count": 23,
   "metadata": {
    "colab": {
     "autoexec": {
      "startup": false,
      "wait_interval": 0
     },
     "base_uri": "https://localhost:8080/",
     "height": 612
    },
    "colab_type": "code",
    "executionInfo": {
     "elapsed": 552,
     "status": "ok",
     "timestamp": 1529085737782,
     "user": {
      "displayName": "Dana Nehoran",
      "photoUrl": "https://lh3.googleusercontent.com/a/default-user=s128",
      "userId": "100555973901173283746"
     },
     "user_tz": 420
    },
    "id": "2JNCwBVPmsWO",
    "outputId": "bda06514-0424-49a3-c499-ce4f5d9784e5"
   },
   "outputs": [
    {
     "data": {
      "image/png": "[encoded data removed]",
      "text/plain": [
       "<matplotlib.figure.Figure at 0x7fc361cab940>"
      ]
     },
     "metadata": {
      "tags": []
     },
     "output_type": "display_data"
    }
   ],
   "source": [
    "Z = linkage(bird_df, 'average')\n",
    "plt.figure(figsize=(25, 10))\n",
    "D = dendrogram(Z=Z, orientation=\"right\", leaf_font_size=9, labels = bird_df.index)"
   ]
  },
  {
   "cell_type": "code",
   "execution_count": 24,
   "metadata": {
    "colab": {
     "autoexec": {
      "startup": false,
      "wait_interval": 0
     },
     "base_uri": "https://localhost:8080/",
     "height": 70
    },
    "colab_type": "code",
    "executionInfo": {
     "elapsed": 486,
     "status": "ok",
     "timestamp": 1529085739090,
     "user": {
      "displayName": "Dana Nehoran",
      "photoUrl": "https://lh3.googleusercontent.com/a/default-user=s128",
      "userId": "100555973901173283746"
     },
     "user_tz": 420
    },
    "id": "ydDBlKZHmsWS",
    "outputId": "367cf45e-5dfc-479a-df0b-5a704e08040a"
   },
   "outputs": [
    {
     "data": {
      "text/plain": [
       "KMeans(algorithm='auto', copy_x=True, init='k-means++', max_iter=300,\n",
       "    n_clusters=3, n_init=10, n_jobs=1, precompute_distances='auto',\n",
       "    random_state=None, tol=0.0001, verbose=0)"
      ]
     },
     "execution_count": 24,
     "metadata": {
      "tags": []
     },
     "output_type": "execute_result"
    }
   ],
   "source": [
    "# K Means Cluster\n",
    "model = KMeans(n_clusters = 3)\n",
    "model.fit(bird_df)"
   ]
  },
  {
   "cell_type": "code",
   "execution_count": 25,
   "metadata": {
    "colab": {
     "autoexec": {
      "startup": false,
      "wait_interval": 0
     },
     "base_uri": "https://localhost:8080/",
     "height": 52
    },
    "colab_type": "code",
    "executionInfo": {
     "elapsed": 339,
     "status": "ok",
     "timestamp": 1529085739998,
     "user": {
      "displayName": "Dana Nehoran",
      "photoUrl": "https://lh3.googleusercontent.com/a/default-user=s128",
      "userId": "100555973901173283746"
     },
     "user_tz": 420
    },
    "id": "kjPybFPamsWd",
    "outputId": "1563a917-cf7e-4fa4-eca9-b80daf9ffe45"
   },
   "outputs": [
    {
     "data": {
      "text/plain": [
       "array([0, 0, 0, 2, 0, 2, 1, 2, 1, 1, 0, 0, 1, 1, 0, 0, 2, 2, 2, 2, 2, 1],\n",
       "      dtype=int32)"
      ]
     },
     "execution_count": 25,
     "metadata": {
      "tags": []
     },
     "output_type": "execute_result"
    }
   ],
   "source": [
    "model.labels_"
   ]
  },
  {
   "cell_type": "code",
   "execution_count": 26,
   "metadata": {
    "colab": {
     "autoexec": {
      "startup": false,
      "wait_interval": 0
     },
     "base_uri": "https://localhost:8080/",
     "height": 367
    },
    "colab_type": "code",
    "executionInfo": {
     "elapsed": 392,
     "status": "ok",
     "timestamp": 1529085740984,
     "user": {
      "displayName": "Dana Nehoran",
      "photoUrl": "https://lh3.googleusercontent.com/a/default-user=s128",
      "userId": "100555973901173283746"
     },
     "user_tz": 420
    },
    "id": "pmmxP-UMmsWh",
    "outputId": "b0a639d6-0ec1-4a47-cb5c-9716144d6580"
   },
   "outputs": [
    {
     "data": {
      "text/plain": [
       "Text(0,0.5,'Length')"
      ]
     },
     "execution_count": 26,
     "metadata": {
      "tags": []
     },
     "output_type": "execute_result"
    },
    {
     "data": {
      "image/png": "[encoded data removed]",
      "text/plain": [
       "<matplotlib.figure.Figure at 0x7fc361e33320>"
      ]
     },
     "metadata": {
      "tags": []
     },
     "output_type": "display_data"
    }
   ],
   "source": [
    "# View the results\n",
    "# Set the size of the plot\n",
    "fig = plt.figure(figsize=(5, 5))\n",
    " \n",
    "# Create a colormap\n",
    "colormap = np.array(['yellow', 'red', 'blue'])\n",
    " \n",
    "plt.scatter(bird_df.Wings, bird_df.Length, c=colormap[model.labels_], edgecolor = 'black', s = 80)\n",
    "plt.title('K Mean Classification')\n",
    "plt.xlabel('Wings')\n",
    "plt.ylabel('Length')"
   ]
  },
  {
   "cell_type": "markdown",
   "metadata": {
    "colab_type": "text",
    "id": "ljLYDLA-msWm"
   },
   "source": [
    "# 6) Using `KMeans()` Function with 5 Clusters"
   ]
  },
  {
   "cell_type": "code",
   "execution_count": 27,
   "metadata": {
    "colab": {
     "autoexec": {
      "startup": false,
      "wait_interval": 0
     },
     "base_uri": "https://localhost:8080/",
     "height": 70
    },
    "colab_type": "code",
    "executionInfo": {
     "elapsed": 285,
     "status": "ok",
     "timestamp": 1529085742442,
     "user": {
      "displayName": "Dana Nehoran",
      "photoUrl": "https://lh3.googleusercontent.com/a/default-user=s128",
      "userId": "100555973901173283746"
     },
     "user_tz": 420
    },
    "id": "5n1-vfBxmsWn",
    "outputId": "0d378bfe-3458-41bc-81b1-68a6f74ebe44"
   },
   "outputs": [
    {
     "data": {
      "text/plain": [
       "KMeans(algorithm='auto', copy_x=True, init='k-means++', max_iter=300,\n",
       "    n_clusters=5, n_init=10, n_jobs=1, precompute_distances='auto',\n",
       "    random_state=None, tol=0.0001, verbose=0)"
      ]
     },
     "execution_count": 27,
     "metadata": {
      "tags": []
     },
     "output_type": "execute_result"
    }
   ],
   "source": [
    "# K Means Cluster\n",
    "model = KMeans(n_clusters=5)\n",
    "model.fit(bird_df)"
   ]
  },
  {
   "cell_type": "code",
   "execution_count": 28,
   "metadata": {
    "colab": {
     "autoexec": {
      "startup": false,
      "wait_interval": 0
     },
     "base_uri": "https://localhost:8080/",
     "height": 52
    },
    "colab_type": "code",
    "executionInfo": {
     "elapsed": 256,
     "status": "ok",
     "timestamp": 1529085743265,
     "user": {
      "displayName": "Dana Nehoran",
      "photoUrl": "https://lh3.googleusercontent.com/a/default-user=s128",
      "userId": "100555973901173283746"
     },
     "user_tz": 420
    },
    "id": "SHC4CXGxmsWr",
    "outputId": "7fa35086-b400-45ee-c859-c4acfd7913d5"
   },
   "outputs": [
    {
     "data": {
      "text/plain": [
       "array([3, 3, 3, 1, 3, 4, 2, 4, 2, 2, 0, 3, 2, 2, 0, 0, 1, 1, 1, 4, 4, 2],\n",
       "      dtype=int32)"
      ]
     },
     "execution_count": 28,
     "metadata": {
      "tags": []
     },
     "output_type": "execute_result"
    }
   ],
   "source": [
    "model.labels_"
   ]
  },
  {
   "cell_type": "code",
   "execution_count": 29,
   "metadata": {
    "colab": {
     "autoexec": {
      "startup": false,
      "wait_interval": 0
     },
     "base_uri": "https://localhost:8080/",
     "height": 367
    },
    "colab_type": "code",
    "executionInfo": {
     "elapsed": 387,
     "status": "ok",
     "timestamp": 1529085744211,
     "user": {
      "displayName": "Dana Nehoran",
      "photoUrl": "https://lh3.googleusercontent.com/a/default-user=s128",
      "userId": "100555973901173283746"
     },
     "user_tz": 420
    },
    "id": "EyrreU56msWu",
    "outputId": "3a246d3f-31d5-4fd2-e847-4823ecb9c76f"
   },
   "outputs": [
    {
     "data": {
      "text/plain": [
       "Text(0,0.5,'Length')"
      ]
     },
     "execution_count": 29,
     "metadata": {
      "tags": []
     },
     "output_type": "execute_result"
    },
    {
     "data": {
      "image/png": "[encoded data removed]",
      "text/plain": [
       "<matplotlib.figure.Figure at 0x7fc361cdbb70>"
      ]
     },
     "metadata": {
      "tags": []
     },
     "output_type": "display_data"
    }
   ],
   "source": [
    "# View the results\n",
    "# Set the size of the plot\n",
    "fig = plt.figure(figsize=(5, 5))\n",
    " \n",
    "# Create a colormap\n",
    "colormap = np.array(['yellow', 'red', 'blue','magenta','black'])\n",
    " \n",
    "plt.scatter(bird_df.Wings, bird_df.Length, c = colormap[model.labels_], edgecolor = 'black', s=80)\n",
    "plt.title('K Mean Classification')\n",
    "plt.xlabel('Wings')\n",
    "plt.ylabel('Length')"
   ]
  },
  {
   "cell_type": "markdown",
   "metadata": {
    "colab_type": "text",
    "id": "IYY0OyRbmsWw"
   },
   "source": [
    "# 7) Prediction Mesh"
   ]
  },
  {
   "cell_type": "code",
   "execution_count": 30,
   "metadata": {
    "colab": {
     "autoexec": {
      "startup": false,
      "wait_interval": 0
     },
     "base_uri": "https://localhost:8080/",
     "height": 322
    },
    "colab_type": "code",
    "executionInfo": {
     "elapsed": 416,
     "status": "ok",
     "timestamp": 1529085745836,
     "user": {
      "displayName": "Dana Nehoran",
      "photoUrl": "https://lh3.googleusercontent.com/a/default-user=s128",
      "userId": "100555973901173283746"
     },
     "user_tz": 420
    },
    "id": "OV1ClpWgmsWy",
    "outputId": "7792156f-6d81-4843-f2b6-7decee7b2861"
   },
   "outputs": [
    {
     "data": {
      "image/png": "[encoded data removed]",
      "text/plain": [
       "<matplotlib.figure.Figure at 0x7fc361d72d68>"
      ]
     },
     "metadata": {
      "tags": []
     },
     "output_type": "display_data"
    }
   ],
   "source": [
    "def plotMesh():\n",
    "    h = 0.1\n",
    "    # Create color maps\n",
    "    cmap_light = ListedColormap(['#ffffcc', '#ff8080','#ccd9ff','#f5ccff','#aaaaaa'])\n",
    "    colormap = np.array(['yellow', 'red', 'blue','magenta','black'])\n",
    "\n",
    "    x_min, x_max = bird_df.Wings.min() - 1, bird_df.Wings.max() + 1\n",
    "    y_min, y_max = bird_df.Length.min() - 1, bird_df.Length.max() + 1\n",
    "    xx, yy = np.meshgrid(np.arange(x_min, x_max, h),np.arange(y_min, y_max, h))\n",
    "    Z = model.predict(np.c_[xx.ravel(), yy.ravel()])\n",
    "\n",
    "    # Put the result into a color plot\n",
    "    Z = Z.reshape(xx.shape)\n",
    "    fig = plt.figure()\n",
    "    plt.pcolormesh(xx, yy, Z, cmap = cmap_light)\n",
    "\n",
    "    # Plot also the training points\n",
    "    plt.scatter(bird_df.Wings, bird_df.Length, c = colormap[model.labels_], edgecolor = 'black', s = 120)\n",
    "    plt.xlim(xx.min(), xx.max())\n",
    "    plt.ylim(yy.min(), yy.max())\n",
    "    plt.title(\"4-Class classification \\n(k = %i)\\n\\\n",
    "    Loan 1 - Yellow, Loan 2 - Red, Loan 3 - Blue, Loan 4 - green\" % (5))\n",
    "    plt.xlabel('Wings')\n",
    "    plt.ylabel('Length')\n",
    "plotMesh()"
   ]
  },
  {
   "cell_type": "markdown",
   "metadata": {
    "colab_type": "text",
    "id": "H8L-1aNvmsW1"
   },
   "source": [
    "# 8) Prediction"
   ]
  },
  {
   "cell_type": "code",
   "execution_count": 31,
   "metadata": {
    "colab": {
     "autoexec": {
      "startup": false,
      "wait_interval": 0
     },
     "base_uri": "https://localhost:8080/",
     "height": 70
    },
    "colab_type": "code",
    "executionInfo": {
     "elapsed": 11233,
     "status": "ok",
     "timestamp": 1529085758580,
     "user": {
      "displayName": "Dana Nehoran",
      "photoUrl": "https://lh3.googleusercontent.com/a/default-user=s128",
      "userId": "100555973901173283746"
     },
     "user_tz": 420
    },
    "id": "jcRIeoqrmsW2",
    "outputId": "1e785a08-0c6e-4b78-e600-ef0a25488b48"
   },
   "outputs": [
    {
     "name": "stdout",
     "output_type": "stream",
     "text": [
      "Wing Span (cm): 15\n",
      "Length (cm): 22\n"
     ]
    },
    {
     "data": {
      "text/plain": [
       "'black'"
      ]
     },
     "execution_count": 31,
     "metadata": {
      "tags": []
     },
     "output_type": "execute_result"
    }
   ],
   "source": [
    "colormap = np.array(['yellow', 'red', 'blue','magenta','black'])\n",
    "\n",
    "wing = float(input('Wing Span (cm): '))\n",
    "length = float(input('Length (cm): '))\n",
    "data_class = model.predict(np.array([wing, length]).reshape(1, -1))[0]\n",
    "colormap[data_class]"
   ]
  },
  {
   "cell_type": "code",
   "execution_count": 0,
   "metadata": {
    "colab": {
     "autoexec": {
      "startup": false,
      "wait_interval": 0
     }
    },
    "colab_type": "code",
    "id": "g8UOVjfYmsW4"
   },
   "outputs": [],
   "source": []
  }
 ],
 "metadata": {
  "colab": {
   "default_view": {},
   "name": "14.2 - k-means.ipynb",
   "provenance": [],
   "version": "0.3.2",
   "views": {}
  },
  "kernelspec": {
   "display_name": "Python 3",
   "language": "python",
   "name": "python3"
  },
  "language_info": {
   "codemirror_mode": {
    "name": "ipython",
    "version": 3
   },
   "file_extension": ".py",
   "mimetype": "text/x-python",
   "name": "python",
   "nbconvert_exporter": "python",
   "pygments_lexer": "ipython3",
   "version": "3.7.2"
  }
 },
 "nbformat": 4,
 "nbformat_minor": 1
}
