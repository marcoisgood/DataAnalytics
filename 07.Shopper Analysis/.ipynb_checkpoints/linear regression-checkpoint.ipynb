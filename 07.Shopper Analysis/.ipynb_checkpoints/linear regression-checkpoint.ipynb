{
 "cells": [
  {
   "cell_type": "code",
   "execution_count": 1,
   "metadata": {},
   "outputs": [],
   "source": [
    "VS <- read.csv(\"~/project-ionic/R/week7/Vacation Spending II.csv\")"
   ]
  },
  {
   "cell_type": "code",
   "execution_count": 2,
   "metadata": {},
   "outputs": [
    {
     "data": {
      "text/html": [
       "<table>\n",
       "<thead><tr><th scope=col>Income</th><th scope=col>Age</th><th scope=col>NumChildren</th><th scope=col>HousePrice</th><th scope=col>MonthlyRestaurant</th><th scope=col>MonthlyEntertainment</th><th scope=col>Spending</th></tr></thead>\n",
       "<tbody>\n",
       "\t<tr><td>150000 </td><td>32     </td><td>3      </td><td>1505600</td><td>300    </td><td>221    </td><td>12388  </td></tr>\n",
       "\t<tr><td> 60000 </td><td>41     </td><td>0      </td><td> 627770</td><td>127    </td><td>185    </td><td> 6042  </td></tr>\n",
       "\t<tr><td>120000 </td><td>58     </td><td>2      </td><td>1217166</td><td>300    </td><td> 54    </td><td>10395  </td></tr>\n",
       "\t<tr><td>180000 </td><td>59     </td><td>4      </td><td>1821064</td><td>480    </td><td>126    </td><td>14547  </td></tr>\n",
       "\t<tr><td>165000 </td><td>54     </td><td>3      </td><td>1674000</td><td>452    </td><td>220    </td><td>14051  </td></tr>\n",
       "\t<tr><td> 70000 </td><td>26     </td><td>2      </td><td> 712082</td><td>162    </td><td>109    </td><td> 6540  </td></tr>\n",
       "</tbody>\n",
       "</table>\n"
      ],
      "text/latex": [
       "\\begin{tabular}{r|lllllll}\n",
       " Income & Age & NumChildren & HousePrice & MonthlyRestaurant & MonthlyEntertainment & Spending\\\\\n",
       "\\hline\n",
       "\t 150000  & 32      & 3       & 1505600 & 300     & 221     & 12388  \\\\\n",
       "\t  60000  & 41      & 0       &  627770 & 127     & 185     &  6042  \\\\\n",
       "\t 120000  & 58      & 2       & 1217166 & 300     &  54     & 10395  \\\\\n",
       "\t 180000  & 59      & 4       & 1821064 & 480     & 126     & 14547  \\\\\n",
       "\t 165000  & 54      & 3       & 1674000 & 452     & 220     & 14051  \\\\\n",
       "\t  70000  & 26      & 2       &  712082 & 162     & 109     &  6540  \\\\\n",
       "\\end{tabular}\n"
      ],
      "text/markdown": [
       "\n",
       "Income | Age | NumChildren | HousePrice | MonthlyRestaurant | MonthlyEntertainment | Spending | \n",
       "|---|---|---|---|---|---|\n",
       "| 150000  | 32      | 3       | 1505600 | 300     | 221     | 12388   | \n",
       "|  60000  | 41      | 0       |  627770 | 127     | 185     |  6042   | \n",
       "| 120000  | 58      | 2       | 1217166 | 300     |  54     | 10395   | \n",
       "| 180000  | 59      | 4       | 1821064 | 480     | 126     | 14547   | \n",
       "| 165000  | 54      | 3       | 1674000 | 452     | 220     | 14051   | \n",
       "|  70000  | 26      | 2       |  712082 | 162     | 109     |  6540   | \n",
       "\n",
       "\n"
      ],
      "text/plain": [
       "  Income Age NumChildren HousePrice MonthlyRestaurant MonthlyEntertainment\n",
       "1 150000 32  3           1505600    300               221                 \n",
       "2  60000 41  0            627770    127               185                 \n",
       "3 120000 58  2           1217166    300                54                 \n",
       "4 180000 59  4           1821064    480               126                 \n",
       "5 165000 54  3           1674000    452               220                 \n",
       "6  70000 26  2            712082    162               109                 \n",
       "  Spending\n",
       "1 12388   \n",
       "2  6042   \n",
       "3 10395   \n",
       "4 14547   \n",
       "5 14051   \n",
       "6  6540   "
      ]
     },
     "metadata": {},
     "output_type": "display_data"
    }
   ],
   "source": [
    "head (VS)"
   ]
  },
  {
   "cell_type": "code",
   "execution_count": null,
   "metadata": {},
   "outputs": [],
   "source": []
  }
 ],
 "metadata": {
  "kernelspec": {
   "display_name": "R",
   "language": "R",
   "name": "ir"
  },
  "language_info": {
   "codemirror_mode": "r",
   "file_extension": ".r",
   "mimetype": "text/x-r-source",
   "name": "R",
   "pygments_lexer": "r",
   "version": "3.5.1"
  }
 },
 "nbformat": 4,
 "nbformat_minor": 2
}
