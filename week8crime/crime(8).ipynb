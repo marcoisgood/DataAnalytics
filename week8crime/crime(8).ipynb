{
 "cells": [
  {
   "cell_type": "markdown",
   "metadata": {},
   "source": [
    "# =============You safe I happy ===============\n",
    "#### Analyzed by Marco Lin\n",
    "\n",
    "![](http://52.41.251.138/sites/default/files/2017-11/crime%20rate_0.jpg)"
   ]
  },
  {
   "cell_type": "markdown",
   "metadata": {},
   "source": [
    "#### Our company is Decrime. We dedicate to police enforcement optimization. This project we focus on the analysis of crimes to explore the information of crimes for our customers. \n",
    "#### At first, we will explore in four aspects of dataset. In this part, we can understand the tendency of crimes in 40 years (from 1975 to 2015). We will show what kind of crimes take up most all of crimes. In addition, we will find out which city has most crimes in 40 years. In addition, the correlation between population and crimes is our focus as well. \n",
    "#### Furthermore, we will concentrate on California. This is because our customers are from California. They may be interested in the fact in this state. Also, we will compare with different Periods of time to see the changing. \n",
    "#### Then, we will choose one city in California to see what kind of crimes happen most. Second, we will see what the city is safest recently. And showing the percentage of different crimes type. At the end, the report will finish with summery and recommendations. "
   ]
  },
  {
   "cell_type": "markdown",
   "metadata": {},
   "source": [
    "## =======preparation=========="
   ]
  },
  {
   "cell_type": "code",
   "execution_count": 1,
   "metadata": {},
   "outputs": [],
   "source": [
    "import pandas as pd\n",
    "import numpy as np\n",
    "import geopandas as gp\n",
    "import matplotlib.pyplot as plt\n",
    "from pandas import DataFrame, Series\n",
    "crimes = pd.read_csv(\"../week8crime/report.csv\")\n",
    "%matplotlib inline"
   ]
  },
  {
   "cell_type": "code",
   "execution_count": 2,
   "metadata": {},
   "outputs": [
    {
     "data": {
      "text/html": [
       "<div>\n",
       "<style scoped>\n",
       "    .dataframe tbody tr th:only-of-type {\n",
       "        vertical-align: middle;\n",
       "    }\n",
       "\n",
       "    .dataframe tbody tr th {\n",
       "        vertical-align: top;\n",
       "    }\n",
       "\n",
       "    .dataframe thead th {\n",
       "        text-align: right;\n",
       "    }\n",
       "</style>\n",
       "<table border=\"1\" class=\"dataframe\">\n",
       "  <thead>\n",
       "    <tr style=\"text-align: right;\">\n",
       "      <th></th>\n",
       "      <th>report_year</th>\n",
       "      <th>population</th>\n",
       "      <th>violent_crimes</th>\n",
       "      <th>homicides</th>\n",
       "      <th>rapes</th>\n",
       "      <th>assaults</th>\n",
       "      <th>robberies</th>\n",
       "      <th>months_reported</th>\n",
       "      <th>crimes_percapita</th>\n",
       "      <th>homicides_percapita</th>\n",
       "      <th>rapes_percapita</th>\n",
       "      <th>assaults_percapita</th>\n",
       "      <th>robberies_percapita</th>\n",
       "    </tr>\n",
       "  </thead>\n",
       "  <tbody>\n",
       "    <tr>\n",
       "      <th>count</th>\n",
       "      <td>2829.000000</td>\n",
       "      <td>2.760000e+03</td>\n",
       "      <td>2.794000e+03</td>\n",
       "      <td>2795.000000</td>\n",
       "      <td>2754.000000</td>\n",
       "      <td>2753.000000</td>\n",
       "      <td>2754.000000</td>\n",
       "      <td>2692.000000</td>\n",
       "      <td>2794.000000</td>\n",
       "      <td>2795.000000</td>\n",
       "      <td>2754.000000</td>\n",
       "      <td>2753.000000</td>\n",
       "      <td>2754.000000</td>\n",
       "    </tr>\n",
       "    <tr>\n",
       "      <th>mean</th>\n",
       "      <td>1995.000000</td>\n",
       "      <td>7.956981e+05</td>\n",
       "      <td>2.963255e+04</td>\n",
       "      <td>398.385331</td>\n",
       "      <td>416.278867</td>\n",
       "      <td>4405.146023</td>\n",
       "      <td>4000.245098</td>\n",
       "      <td>11.868871</td>\n",
       "      <td>1093.049810</td>\n",
       "      <td>15.372812</td>\n",
       "      <td>59.305167</td>\n",
       "      <td>566.595434</td>\n",
       "      <td>459.968112</td>\n",
       "    </tr>\n",
       "    <tr>\n",
       "      <th>std</th>\n",
       "      <td>11.834251</td>\n",
       "      <td>1.012451e+06</td>\n",
       "      <td>1.728630e+05</td>\n",
       "      <td>2281.276402</td>\n",
       "      <td>479.811934</td>\n",
       "      <td>6977.293769</td>\n",
       "      <td>8653.902965</td>\n",
       "      <td>1.118194</td>\n",
       "      <td>676.884678</td>\n",
       "      <td>12.350640</td>\n",
       "      <td>31.971570</td>\n",
       "      <td>369.436996</td>\n",
       "      <td>340.903534</td>\n",
       "    </tr>\n",
       "    <tr>\n",
       "      <th>min</th>\n",
       "      <td>1975.000000</td>\n",
       "      <td>1.007630e+05</td>\n",
       "      <td>1.540000e+02</td>\n",
       "      <td>1.000000</td>\n",
       "      <td>15.000000</td>\n",
       "      <td>15.000000</td>\n",
       "      <td>83.000000</td>\n",
       "      <td>0.000000</td>\n",
       "      <td>16.490000</td>\n",
       "      <td>0.210000</td>\n",
       "      <td>1.640000</td>\n",
       "      <td>1.610000</td>\n",
       "      <td>11.460000</td>\n",
       "    </tr>\n",
       "    <tr>\n",
       "      <th>25%</th>\n",
       "      <td>1985.000000</td>\n",
       "      <td>3.779310e+05</td>\n",
       "      <td>3.014750e+03</td>\n",
       "      <td>32.000000</td>\n",
       "      <td>176.250000</td>\n",
       "      <td>1467.000000</td>\n",
       "      <td>1032.000000</td>\n",
       "      <td>12.000000</td>\n",
       "      <td>625.082500</td>\n",
       "      <td>6.955000</td>\n",
       "      <td>35.775000</td>\n",
       "      <td>319.090000</td>\n",
       "      <td>210.242500</td>\n",
       "    </tr>\n",
       "    <tr>\n",
       "      <th>50%</th>\n",
       "      <td>1995.000000</td>\n",
       "      <td>5.366145e+05</td>\n",
       "      <td>5.135500e+03</td>\n",
       "      <td>64.000000</td>\n",
       "      <td>291.000000</td>\n",
       "      <td>2597.000000</td>\n",
       "      <td>1940.000000</td>\n",
       "      <td>12.000000</td>\n",
       "      <td>949.680000</td>\n",
       "      <td>11.980000</td>\n",
       "      <td>55.900000</td>\n",
       "      <td>487.480000</td>\n",
       "      <td>374.400000</td>\n",
       "    </tr>\n",
       "    <tr>\n",
       "      <th>75%</th>\n",
       "      <td>2005.000000</td>\n",
       "      <td>8.168558e+05</td>\n",
       "      <td>9.058500e+03</td>\n",
       "      <td>131.000000</td>\n",
       "      <td>465.000000</td>\n",
       "      <td>4556.000000</td>\n",
       "      <td>3609.750000</td>\n",
       "      <td>12.000000</td>\n",
       "      <td>1409.507500</td>\n",
       "      <td>20.230000</td>\n",
       "      <td>77.797500</td>\n",
       "      <td>728.240000</td>\n",
       "      <td>612.005000</td>\n",
       "    </tr>\n",
       "    <tr>\n",
       "      <th>max</th>\n",
       "      <td>2015.000000</td>\n",
       "      <td>8.550861e+06</td>\n",
       "      <td>1.932274e+06</td>\n",
       "      <td>24703.000000</td>\n",
       "      <td>3899.000000</td>\n",
       "      <td>71030.000000</td>\n",
       "      <td>107475.000000</td>\n",
       "      <td>12.000000</td>\n",
       "      <td>4352.830000</td>\n",
       "      <td>94.740000</td>\n",
       "      <td>199.300000</td>\n",
       "      <td>2368.220000</td>\n",
       "      <td>2337.520000</td>\n",
       "    </tr>\n",
       "  </tbody>\n",
       "</table>\n",
       "</div>"
      ],
      "text/plain": [
       "       report_year    population  violent_crimes     homicides        rapes  \\\n",
       "count  2829.000000  2.760000e+03    2.794000e+03   2795.000000  2754.000000   \n",
       "mean   1995.000000  7.956981e+05    2.963255e+04    398.385331   416.278867   \n",
       "std      11.834251  1.012451e+06    1.728630e+05   2281.276402   479.811934   \n",
       "min    1975.000000  1.007630e+05    1.540000e+02      1.000000    15.000000   \n",
       "25%    1985.000000  3.779310e+05    3.014750e+03     32.000000   176.250000   \n",
       "50%    1995.000000  5.366145e+05    5.135500e+03     64.000000   291.000000   \n",
       "75%    2005.000000  8.168558e+05    9.058500e+03    131.000000   465.000000   \n",
       "max    2015.000000  8.550861e+06    1.932274e+06  24703.000000  3899.000000   \n",
       "\n",
       "           assaults      robberies  months_reported  crimes_percapita  \\\n",
       "count   2753.000000    2754.000000      2692.000000       2794.000000   \n",
       "mean    4405.146023    4000.245098        11.868871       1093.049810   \n",
       "std     6977.293769    8653.902965         1.118194        676.884678   \n",
       "min       15.000000      83.000000         0.000000         16.490000   \n",
       "25%     1467.000000    1032.000000        12.000000        625.082500   \n",
       "50%     2597.000000    1940.000000        12.000000        949.680000   \n",
       "75%     4556.000000    3609.750000        12.000000       1409.507500   \n",
       "max    71030.000000  107475.000000        12.000000       4352.830000   \n",
       "\n",
       "       homicides_percapita  rapes_percapita  assaults_percapita  \\\n",
       "count          2795.000000      2754.000000         2753.000000   \n",
       "mean             15.372812        59.305167          566.595434   \n",
       "std              12.350640        31.971570          369.436996   \n",
       "min               0.210000         1.640000            1.610000   \n",
       "25%               6.955000        35.775000          319.090000   \n",
       "50%              11.980000        55.900000          487.480000   \n",
       "75%              20.230000        77.797500          728.240000   \n",
       "max              94.740000       199.300000         2368.220000   \n",
       "\n",
       "       robberies_percapita  \n",
       "count          2754.000000  \n",
       "mean            459.968112  \n",
       "std             340.903534  \n",
       "min              11.460000  \n",
       "25%             210.242500  \n",
       "50%             374.400000  \n",
       "75%             612.005000  \n",
       "max            2337.520000  "
      ]
     },
     "execution_count": 2,
     "metadata": {},
     "output_type": "execute_result"
    }
   ],
   "source": [
    "crimes.describe()"
   ]
  },
  {
   "cell_type": "code",
   "execution_count": 3,
   "metadata": {
    "scrolled": true
   },
   "outputs": [
    {
     "data": {
      "text/plain": [
       "Index(['report_year', 'agency_code', 'agency_jurisdiction', 'population',\n",
       "       'violent_crimes', 'homicides', 'rapes', 'assaults', 'robberies',\n",
       "       'months_reported', 'crimes_percapita', 'homicides_percapita',\n",
       "       'rapes_percapita', 'assaults_percapita', 'robberies_percapita'],\n",
       "      dtype='object')"
      ]
     },
     "execution_count": 3,
     "metadata": {},
     "output_type": "execute_result"
    }
   ],
   "source": [
    "crimes.columns"
   ]
  },
  {
   "cell_type": "code",
   "execution_count": 4,
   "metadata": {},
   "outputs": [
    {
     "name": "stdout",
     "output_type": "stream",
     "text": [
      "<class 'pandas.core.frame.DataFrame'>\n",
      "RangeIndex: 2829 entries, 0 to 2828\n",
      "Data columns (total 15 columns):\n",
      "report_year            2829 non-null int64\n",
      "agency_code            2788 non-null object\n",
      "agency_jurisdiction    2829 non-null object\n",
      "population             2760 non-null float64\n",
      "violent_crimes         2794 non-null float64\n",
      "homicides              2795 non-null float64\n",
      "rapes                  2754 non-null float64\n",
      "assaults               2753 non-null float64\n",
      "robberies              2754 non-null float64\n",
      "months_reported        2692 non-null float64\n",
      "crimes_percapita       2794 non-null float64\n",
      "homicides_percapita    2795 non-null float64\n",
      "rapes_percapita        2754 non-null float64\n",
      "assaults_percapita     2753 non-null float64\n",
      "robberies_percapita    2754 non-null float64\n",
      "dtypes: float64(12), int64(1), object(2)\n",
      "memory usage: 331.6+ KB\n"
     ]
    }
   ],
   "source": [
    "crimes.info()"
   ]
  },
  {
   "cell_type": "markdown",
   "metadata": {},
   "source": [
    "## ===========Data Exploration============="
   ]
  },
  {
   "cell_type": "markdown",
   "metadata": {},
   "source": [
    "### A. Total violent Crimes Tendency from 1975 to 2015 in USA"
   ]
  },
  {
   "cell_type": "code",
   "execution_count": 5,
   "metadata": {
    "scrolled": false
   },
   "outputs": [],
   "source": [
    "crime_rate = crimes.groupby(by = \"report_year\").sum()\n",
    "crime_rate1 = crime_rate[\"violent_crimes\"]\n",
    "crime_rate2 = crime_rate[[\"homicides\",\"rapes\",\"assaults\",\"robberies\"]]"
   ]
  },
  {
   "cell_type": "code",
   "execution_count": 6,
   "metadata": {},
   "outputs": [
    {
     "data": {
      "text/plain": [
       "<matplotlib.axes._subplots.AxesSubplot at 0x11b591198>"
      ]
     },
     "execution_count": 6,
     "metadata": {},
     "output_type": "execute_result"
    },
    {
     "data": {
      "image/png": "[encoded data removed]",
      "text/plain": [
       "<Figure size 432x288 with 1 Axes>"
      ]
     },
     "metadata": {
      "needs_background": "light"
     },
     "output_type": "display_data"
    }
   ],
   "source": [
    "crime_rate1.plot() "
   ]
  },
  {
   "cell_type": "markdown",
   "metadata": {},
   "source": [
    "### Explanation:\n",
    "The events of crimes from 1975 to 1990 was going up from 1600000 to 2800000. Then, after 1995, the number decreased."
   ]
  },
  {
   "cell_type": "code",
   "execution_count": 7,
   "metadata": {
    "scrolled": true
   },
   "outputs": [
    {
     "data": {
      "text/plain": [
       "<matplotlib.axes._subplots.AxesSubplot at 0x11b622b38>"
      ]
     },
     "execution_count": 7,
     "metadata": {},
     "output_type": "execute_result"
    },
    {
     "data": {
      "image/png": "[encoded data removed]",
      "text/plain": [
       "<Figure size 432x288 with 1 Axes>"
      ]
     },
     "metadata": {
      "needs_background": "light"
     },
     "output_type": "display_data"
    }
   ],
   "source": [
    "crime_rate2.plot() "
   ]
  },
  {
   "cell_type": "markdown",
   "metadata": {},
   "source": [
    "### Explanation:\n",
    "It appears that number of assaults has dramaticly increased from 1985 to 1992. Also, the number of robberies has noticeably increased from 1987 to 1992 as well. Then, they both have decreased from 1995. The number of homicides and rapes are steady."
   ]
  },
  {
   "cell_type": "markdown",
   "metadata": {},
   "source": [
    "### B. In 40 years, the cities which has high violentest crimes"
   ]
  },
  {
   "cell_type": "code",
   "execution_count": 8,
   "metadata": {},
   "outputs": [],
   "source": [
    "rank_crime = crimes.groupby(by = \"agency_jurisdiction\").sum()"
   ]
  },
  {
   "cell_type": "code",
   "execution_count": 9,
   "metadata": {
    "scrolled": false
   },
   "outputs": [
    {
     "data": {
      "text/html": [
       "<div>\n",
       "<style scoped>\n",
       "    .dataframe tbody tr th:only-of-type {\n",
       "        vertical-align: middle;\n",
       "    }\n",
       "\n",
       "    .dataframe tbody tr th {\n",
       "        vertical-align: top;\n",
       "    }\n",
       "\n",
       "    .dataframe thead th {\n",
       "        text-align: right;\n",
       "    }\n",
       "</style>\n",
       "<table border=\"1\" class=\"dataframe\">\n",
       "  <thead>\n",
       "    <tr style=\"text-align: right;\">\n",
       "      <th></th>\n",
       "      <th>violent_crimes</th>\n",
       "      <th>population</th>\n",
       "    </tr>\n",
       "    <tr>\n",
       "      <th>agency_jurisdiction</th>\n",
       "      <th></th>\n",
       "      <th></th>\n",
       "    </tr>\n",
       "  </thead>\n",
       "  <tbody>\n",
       "    <tr>\n",
       "      <th>United States</th>\n",
       "      <td>58163955.0</td>\n",
       "      <td>0.0</td>\n",
       "    </tr>\n",
       "    <tr>\n",
       "      <th>New York City, NY</th>\n",
       "      <td>4263284.0</td>\n",
       "      <td>313777539.0</td>\n",
       "    </tr>\n",
       "    <tr>\n",
       "      <th>Los Angeles, CA</th>\n",
       "      <td>1979166.0</td>\n",
       "      <td>142984519.0</td>\n",
       "    </tr>\n",
       "    <tr>\n",
       "      <th>Chicago, IL</th>\n",
       "      <td>1960886.0</td>\n",
       "      <td>118467098.0</td>\n",
       "    </tr>\n",
       "    <tr>\n",
       "      <th>Detroit, MI</th>\n",
       "      <td>918003.0</td>\n",
       "      <td>41436021.0</td>\n",
       "    </tr>\n",
       "    <tr>\n",
       "      <th>Houston, TX</th>\n",
       "      <td>819539.0</td>\n",
       "      <td>76033056.0</td>\n",
       "    </tr>\n",
       "    <tr>\n",
       "      <th>Philadelphia, PA</th>\n",
       "      <td>763201.0</td>\n",
       "      <td>65551379.0</td>\n",
       "    </tr>\n",
       "    <tr>\n",
       "      <th>Baltimore, MD</th>\n",
       "      <td>600630.0</td>\n",
       "      <td>29297653.0</td>\n",
       "    </tr>\n",
       "    <tr>\n",
       "      <th>Dallas, TX</th>\n",
       "      <td>590468.0</td>\n",
       "      <td>44640012.0</td>\n",
       "    </tr>\n",
       "    <tr>\n",
       "      <th>Miami-Dade County, FL</th>\n",
       "      <td>500061.0</td>\n",
       "      <td>41612313.0</td>\n",
       "    </tr>\n",
       "  </tbody>\n",
       "</table>\n",
       "</div>"
      ],
      "text/plain": [
       "                       violent_crimes   population\n",
       "agency_jurisdiction                               \n",
       "United States              58163955.0          0.0\n",
       "New York City, NY           4263284.0  313777539.0\n",
       "Los Angeles, CA             1979166.0  142984519.0\n",
       "Chicago, IL                 1960886.0  118467098.0\n",
       "Detroit, MI                  918003.0   41436021.0\n",
       "Houston, TX                  819539.0   76033056.0\n",
       "Philadelphia, PA             763201.0   65551379.0\n",
       "Baltimore, MD                600630.0   29297653.0\n",
       "Dallas, TX                   590468.0   44640012.0\n",
       "Miami-Dade County, FL        500061.0   41612313.0"
      ]
     },
     "execution_count": 9,
     "metadata": {},
     "output_type": "execute_result"
    }
   ],
   "source": [
    "rank_crime1 = rank_crime.sort_values(by= \"violent_crimes\", ascending=[False]).head(10)\n",
    "rank_crime1[[\"violent_crimes\",\"population\"]]"
   ]
  },
  {
   "cell_type": "markdown",
   "metadata": {},
   "source": [
    "### Explanation:\n",
    "In this 40 years, New York City has over 4200000 violent crimes happens. "
   ]
  },
  {
   "cell_type": "code",
   "execution_count": 10,
   "metadata": {},
   "outputs": [],
   "source": [
    "crimes_NewYork = crimes[(crimes['agency_jurisdiction'] == \"New York City, NY\")]\n",
    "crimes_NewYork1 = crimes_NewYork[['report_year','violent_crimes', 'population']]"
   ]
  },
  {
   "cell_type": "code",
   "execution_count": 11,
   "metadata": {},
   "outputs": [],
   "source": [
    "crimes_NewYork2 = crimes_NewYork1.groupby(by = \"report_year\").sum()"
   ]
  },
  {
   "cell_type": "code",
   "execution_count": 12,
   "metadata": {},
   "outputs": [
    {
     "data": {
      "text/plain": [
       "<matplotlib.axes._subplots.AxesSubplot at 0x11b5e26a0>"
      ]
     },
     "execution_count": 12,
     "metadata": {},
     "output_type": "execute_result"
    },
    {
     "data": {
      "image/png": "[encoded data removed]",
      "text/plain": [
       "<Figure size 432x288 with 1 Axes>"
      ]
     },
     "metadata": {
      "needs_background": "light"
     },
     "output_type": "display_data"
    }
   ],
   "source": [
    "crimes_NewYork2.plot(y='violent_crimes')"
   ]
  },
  {
   "cell_type": "code",
   "execution_count": 13,
   "metadata": {},
   "outputs": [
    {
     "data": {
      "text/plain": [
       "<matplotlib.axes._subplots.AxesSubplot at 0x11b817828>"
      ]
     },
     "execution_count": 13,
     "metadata": {},
     "output_type": "execute_result"
    },
    {
     "data": {
      "image/png": "[encoded data removed]",
      "text/plain": [
       "<Figure size 432x288 with 1 Axes>"
      ]
     },
     "metadata": {
      "needs_background": "light"
     },
     "output_type": "display_data"
    }
   ],
   "source": [
    "crimes_NewYork2.plot(y='population')"
   ]
  },
  {
   "cell_type": "markdown",
   "metadata": {},
   "source": [
    "### Explanation:\n",
    "In this two figures, we can understand the population of New York City are increasing from 1995. And, the number of crimes are decreasing from 1990. It seems that the New York City has a bunch number of crimes becasue of it's populaton. Comparing with the its past, the city are getting safe. "
   ]
  },
  {
   "cell_type": "markdown",
   "metadata": {},
   "source": [
    "### C. The crimes in California"
   ]
  },
  {
   "cell_type": "code",
   "execution_count": 14,
   "metadata": {},
   "outputs": [],
   "source": [
    "crimes_in_CA = crimes[(crimes['agency_jurisdiction'] == \"Oakland, CA\") |\n",
    "       (crimes['agency_jurisdiction'] == \"Long Beach, CA\" ) |\n",
    "      (crimes['agency_jurisdiction'] == \"Los Angeles County, CA\" ) |\n",
    "      (crimes['agency_jurisdiction'] == \"Los Angeles, CA\" ) |\n",
    "      (crimes['agency_jurisdiction'] == \"Sacramento, CA\" ) |\n",
    "      (crimes['agency_jurisdiction'] == \"San Francisco, CA\" ) |\n",
    "      (crimes['agency_jurisdiction'] == \"San Jose, CA\" ) |\n",
    "      (crimes['agency_jurisdiction'] == \"Fresno, CA\" ) |\n",
    "      (crimes['agency_jurisdiction'] == \"San Diego, CA\" )]"
   ]
  },
  {
   "cell_type": "code",
   "execution_count": 15,
   "metadata": {},
   "outputs": [
    {
     "data": {
      "text/html": [
       "<div>\n",
       "<style scoped>\n",
       "    .dataframe tbody tr th:only-of-type {\n",
       "        vertical-align: middle;\n",
       "    }\n",
       "\n",
       "    .dataframe tbody tr th {\n",
       "        vertical-align: top;\n",
       "    }\n",
       "\n",
       "    .dataframe thead th {\n",
       "        text-align: right;\n",
       "    }\n",
       "</style>\n",
       "<table border=\"1\" class=\"dataframe\">\n",
       "  <thead>\n",
       "    <tr style=\"text-align: right;\">\n",
       "      <th></th>\n",
       "      <th>report_year</th>\n",
       "      <th>population</th>\n",
       "      <th>violent_crimes</th>\n",
       "      <th>homicides</th>\n",
       "      <th>rapes</th>\n",
       "      <th>assaults</th>\n",
       "      <th>robberies</th>\n",
       "      <th>months_reported</th>\n",
       "      <th>crimes_percapita</th>\n",
       "      <th>homicides_percapita</th>\n",
       "      <th>rapes_percapita</th>\n",
       "      <th>assaults_percapita</th>\n",
       "      <th>robberies_percapita</th>\n",
       "    </tr>\n",
       "    <tr>\n",
       "      <th>agency_jurisdiction</th>\n",
       "      <th></th>\n",
       "      <th></th>\n",
       "      <th></th>\n",
       "      <th></th>\n",
       "      <th></th>\n",
       "      <th></th>\n",
       "      <th></th>\n",
       "      <th></th>\n",
       "      <th></th>\n",
       "      <th></th>\n",
       "      <th></th>\n",
       "      <th></th>\n",
       "      <th></th>\n",
       "    </tr>\n",
       "  </thead>\n",
       "  <tbody>\n",
       "    <tr>\n",
       "      <th>Oakland, CA</th>\n",
       "      <td>81795</td>\n",
       "      <td>15490811.0</td>\n",
       "      <td>280043.0</td>\n",
       "      <td>4475.0</td>\n",
       "      <td>14574.0</td>\n",
       "      <td>126237.0</td>\n",
       "      <td>134757.0</td>\n",
       "      <td>468.0</td>\n",
       "      <td>74332.67</td>\n",
       "      <td>1190.96</td>\n",
       "      <td>3906.72</td>\n",
       "      <td>33377.60</td>\n",
       "      <td>35857.39</td>\n",
       "    </tr>\n",
       "    <tr>\n",
       "      <th>Los Angeles, CA</th>\n",
       "      <td>81795</td>\n",
       "      <td>142984519.0</td>\n",
       "      <td>1979166.0</td>\n",
       "      <td>25999.0</td>\n",
       "      <td>69748.0</td>\n",
       "      <td>1027731.0</td>\n",
       "      <td>855688.0</td>\n",
       "      <td>480.0</td>\n",
       "      <td>57819.00</td>\n",
       "      <td>769.39</td>\n",
       "      <td>2089.38</td>\n",
       "      <td>29763.86</td>\n",
       "      <td>25196.38</td>\n",
       "    </tr>\n",
       "    <tr>\n",
       "      <th>San Francisco, CA</th>\n",
       "      <td>81795</td>\n",
       "      <td>30759868.0</td>\n",
       "      <td>360218.0</td>\n",
       "      <td>3588.0</td>\n",
       "      <td>14555.0</td>\n",
       "      <td>136130.0</td>\n",
       "      <td>205945.0</td>\n",
       "      <td>480.0</td>\n",
       "      <td>48815.45</td>\n",
       "      <td>488.45</td>\n",
       "      <td>1999.53</td>\n",
       "      <td>18353.16</td>\n",
       "      <td>27974.34</td>\n",
       "    </tr>\n",
       "    <tr>\n",
       "      <th>Los Angeles County, CA</th>\n",
       "      <td>81795</td>\n",
       "      <td>42083296.0</td>\n",
       "      <td>426589.0</td>\n",
       "      <td>6270.0</td>\n",
       "      <td>14827.0</td>\n",
       "      <td>287532.0</td>\n",
       "      <td>117960.0</td>\n",
       "      <td>480.0</td>\n",
       "      <td>42042.71</td>\n",
       "      <td>617.05</td>\n",
       "      <td>1449.17</td>\n",
       "      <td>28367.84</td>\n",
       "      <td>11608.67</td>\n",
       "    </tr>\n",
       "    <tr>\n",
       "      <th>Long Beach, CA</th>\n",
       "      <td>81795</td>\n",
       "      <td>17562745.0</td>\n",
       "      <td>175503.0</td>\n",
       "      <td>2456.0</td>\n",
       "      <td>7505.0</td>\n",
       "      <td>76344.0</td>\n",
       "      <td>89198.0</td>\n",
       "      <td>480.0</td>\n",
       "      <td>41604.22</td>\n",
       "      <td>588.62</td>\n",
       "      <td>1823.30</td>\n",
       "      <td>17771.23</td>\n",
       "      <td>21421.07</td>\n",
       "    </tr>\n",
       "    <tr>\n",
       "      <th>Sacramento, CA</th>\n",
       "      <td>81795</td>\n",
       "      <td>15570963.0</td>\n",
       "      <td>154466.0</td>\n",
       "      <td>1963.0</td>\n",
       "      <td>7432.0</td>\n",
       "      <td>75781.0</td>\n",
       "      <td>69290.0</td>\n",
       "      <td>480.0</td>\n",
       "      <td>41535.93</td>\n",
       "      <td>546.17</td>\n",
       "      <td>2096.25</td>\n",
       "      <td>19920.05</td>\n",
       "      <td>18973.45</td>\n",
       "    </tr>\n",
       "    <tr>\n",
       "      <th>Fresno, CA</th>\n",
       "      <td>81795</td>\n",
       "      <td>14976953.0</td>\n",
       "      <td>137711.0</td>\n",
       "      <td>1904.0</td>\n",
       "      <td>6328.0</td>\n",
       "      <td>73621.0</td>\n",
       "      <td>55858.0</td>\n",
       "      <td>480.0</td>\n",
       "      <td>38975.92</td>\n",
       "      <td>565.87</td>\n",
       "      <td>1931.64</td>\n",
       "      <td>20011.64</td>\n",
       "      <td>16466.80</td>\n",
       "    </tr>\n",
       "    <tr>\n",
       "      <th>San Diego, CA</th>\n",
       "      <td>81795</td>\n",
       "      <td>46189196.0</td>\n",
       "      <td>308976.0</td>\n",
       "      <td>3149.0</td>\n",
       "      <td>15165.0</td>\n",
       "      <td>182919.0</td>\n",
       "      <td>107743.0</td>\n",
       "      <td>480.0</td>\n",
       "      <td>27736.65</td>\n",
       "      <td>294.11</td>\n",
       "      <td>1377.98</td>\n",
       "      <td>16006.34</td>\n",
       "      <td>10058.31</td>\n",
       "    </tr>\n",
       "    <tr>\n",
       "      <th>San Jose, CA</th>\n",
       "      <td>81795</td>\n",
       "      <td>33186359.0</td>\n",
       "      <td>167548.0</td>\n",
       "      <td>1513.0</td>\n",
       "      <td>14290.0</td>\n",
       "      <td>106707.0</td>\n",
       "      <td>45038.0</td>\n",
       "      <td>480.0</td>\n",
       "      <td>21029.55</td>\n",
       "      <td>198.50</td>\n",
       "      <td>1852.62</td>\n",
       "      <td>13134.74</td>\n",
       "      <td>5843.69</td>\n",
       "    </tr>\n",
       "  </tbody>\n",
       "</table>\n",
       "</div>"
      ],
      "text/plain": [
       "                        report_year   population  violent_crimes  homicides  \\\n",
       "agency_jurisdiction                                                           \n",
       "Oakland, CA                   81795   15490811.0        280043.0     4475.0   \n",
       "Los Angeles, CA               81795  142984519.0       1979166.0    25999.0   \n",
       "San Francisco, CA             81795   30759868.0        360218.0     3588.0   \n",
       "Los Angeles County, CA        81795   42083296.0        426589.0     6270.0   \n",
       "Long Beach, CA                81795   17562745.0        175503.0     2456.0   \n",
       "Sacramento, CA                81795   15570963.0        154466.0     1963.0   \n",
       "Fresno, CA                    81795   14976953.0        137711.0     1904.0   \n",
       "San Diego, CA                 81795   46189196.0        308976.0     3149.0   \n",
       "San Jose, CA                  81795   33186359.0        167548.0     1513.0   \n",
       "\n",
       "                          rapes   assaults  robberies  months_reported  \\\n",
       "agency_jurisdiction                                                      \n",
       "Oakland, CA             14574.0   126237.0   134757.0            468.0   \n",
       "Los Angeles, CA         69748.0  1027731.0   855688.0            480.0   \n",
       "San Francisco, CA       14555.0   136130.0   205945.0            480.0   \n",
       "Los Angeles County, CA  14827.0   287532.0   117960.0            480.0   \n",
       "Long Beach, CA           7505.0    76344.0    89198.0            480.0   \n",
       "Sacramento, CA           7432.0    75781.0    69290.0            480.0   \n",
       "Fresno, CA               6328.0    73621.0    55858.0            480.0   \n",
       "San Diego, CA           15165.0   182919.0   107743.0            480.0   \n",
       "San Jose, CA            14290.0   106707.0    45038.0            480.0   \n",
       "\n",
       "                        crimes_percapita  homicides_percapita  \\\n",
       "agency_jurisdiction                                             \n",
       "Oakland, CA                     74332.67              1190.96   \n",
       "Los Angeles, CA                 57819.00               769.39   \n",
       "San Francisco, CA               48815.45               488.45   \n",
       "Los Angeles County, CA          42042.71               617.05   \n",
       "Long Beach, CA                  41604.22               588.62   \n",
       "Sacramento, CA                  41535.93               546.17   \n",
       "Fresno, CA                      38975.92               565.87   \n",
       "San Diego, CA                   27736.65               294.11   \n",
       "San Jose, CA                    21029.55               198.50   \n",
       "\n",
       "                        rapes_percapita  assaults_percapita  \\\n",
       "agency_jurisdiction                                           \n",
       "Oakland, CA                     3906.72            33377.60   \n",
       "Los Angeles, CA                 2089.38            29763.86   \n",
       "San Francisco, CA               1999.53            18353.16   \n",
       "Los Angeles County, CA          1449.17            28367.84   \n",
       "Long Beach, CA                  1823.30            17771.23   \n",
       "Sacramento, CA                  2096.25            19920.05   \n",
       "Fresno, CA                      1931.64            20011.64   \n",
       "San Diego, CA                   1377.98            16006.34   \n",
       "San Jose, CA                    1852.62            13134.74   \n",
       "\n",
       "                        robberies_percapita  \n",
       "agency_jurisdiction                          \n",
       "Oakland, CA                        35857.39  \n",
       "Los Angeles, CA                    25196.38  \n",
       "San Francisco, CA                  27974.34  \n",
       "Los Angeles County, CA             11608.67  \n",
       "Long Beach, CA                     21421.07  \n",
       "Sacramento, CA                     18973.45  \n",
       "Fresno, CA                         16466.80  \n",
       "San Diego, CA                      10058.31  \n",
       "San Jose, CA                        5843.69  "
      ]
     },
     "execution_count": 15,
     "metadata": {},
     "output_type": "execute_result"
    }
   ],
   "source": [
    "crimes_in_CA1 = crimes_in_CA.groupby(by = \"agency_jurisdiction\").sum()\n",
    "crimes_in_CA1.sort_values(by= \"crimes_percapita\", ascending=[False]).head(10)"
   ]
  },
  {
   "cell_type": "markdown",
   "metadata": {},
   "source": [
    "### Explanation:\n",
    "In California, the data in this 40 years, according to the crimes per capita, Okland is the most dangerous city."
   ]
  },
  {
   "cell_type": "markdown",
   "metadata": {},
   "source": [
    "### C.2) The Crimes in California in 2015"
   ]
  },
  {
   "cell_type": "code",
   "execution_count": 29,
   "metadata": {},
   "outputs": [],
   "source": [
    "crimes_in_CA_2000 = crimes_in_CA[(crimes_in_CA['report_year'] == 2015)]"
   ]
  },
  {
   "cell_type": "code",
   "execution_count": 30,
   "metadata": {},
   "outputs": [
    {
     "data": {
      "text/html": [
       "<div>\n",
       "<style scoped>\n",
       "    .dataframe tbody tr th:only-of-type {\n",
       "        vertical-align: middle;\n",
       "    }\n",
       "\n",
       "    .dataframe tbody tr th {\n",
       "        vertical-align: top;\n",
       "    }\n",
       "\n",
       "    .dataframe thead th {\n",
       "        text-align: right;\n",
       "    }\n",
       "</style>\n",
       "<table border=\"1\" class=\"dataframe\">\n",
       "  <thead>\n",
       "    <tr style=\"text-align: right;\">\n",
       "      <th></th>\n",
       "      <th>report_year</th>\n",
       "      <th>population</th>\n",
       "      <th>violent_crimes</th>\n",
       "      <th>homicides</th>\n",
       "      <th>rapes</th>\n",
       "      <th>assaults</th>\n",
       "      <th>robberies</th>\n",
       "      <th>months_reported</th>\n",
       "      <th>crimes_percapita</th>\n",
       "      <th>homicides_percapita</th>\n",
       "      <th>rapes_percapita</th>\n",
       "      <th>assaults_percapita</th>\n",
       "      <th>robberies_percapita</th>\n",
       "    </tr>\n",
       "    <tr>\n",
       "      <th>agency_jurisdiction</th>\n",
       "      <th></th>\n",
       "      <th></th>\n",
       "      <th></th>\n",
       "      <th></th>\n",
       "      <th></th>\n",
       "      <th></th>\n",
       "      <th></th>\n",
       "      <th></th>\n",
       "      <th></th>\n",
       "      <th></th>\n",
       "      <th></th>\n",
       "      <th></th>\n",
       "      <th></th>\n",
       "    </tr>\n",
       "  </thead>\n",
       "  <tbody>\n",
       "    <tr>\n",
       "      <th>Oakland, CA</th>\n",
       "      <td>2015</td>\n",
       "      <td>419481.0</td>\n",
       "      <td>6051.0</td>\n",
       "      <td>85.0</td>\n",
       "      <td>285.0</td>\n",
       "      <td>2391.0</td>\n",
       "      <td>3290.0</td>\n",
       "      <td>0.0</td>\n",
       "      <td>1442.50</td>\n",
       "      <td>20.26</td>\n",
       "      <td>67.94</td>\n",
       "      <td>569.99</td>\n",
       "      <td>784.30</td>\n",
       "    </tr>\n",
       "    <tr>\n",
       "      <th>San Francisco, CA</th>\n",
       "      <td>2015</td>\n",
       "      <td>863782.0</td>\n",
       "      <td>6710.0</td>\n",
       "      <td>53.0</td>\n",
       "      <td>344.0</td>\n",
       "      <td>2703.0</td>\n",
       "      <td>3610.0</td>\n",
       "      <td>0.0</td>\n",
       "      <td>776.82</td>\n",
       "      <td>6.14</td>\n",
       "      <td>39.82</td>\n",
       "      <td>312.93</td>\n",
       "      <td>417.93</td>\n",
       "    </tr>\n",
       "    <tr>\n",
       "      <th>Sacramento, CA</th>\n",
       "      <td>2015</td>\n",
       "      <td>489717.0</td>\n",
       "      <td>3611.0</td>\n",
       "      <td>43.0</td>\n",
       "      <td>105.0</td>\n",
       "      <td>2289.0</td>\n",
       "      <td>1174.0</td>\n",
       "      <td>0.0</td>\n",
       "      <td>737.36</td>\n",
       "      <td>8.78</td>\n",
       "      <td>21.44</td>\n",
       "      <td>467.41</td>\n",
       "      <td>239.73</td>\n",
       "    </tr>\n",
       "    <tr>\n",
       "      <th>Los Angeles, CA</th>\n",
       "      <td>2015</td>\n",
       "      <td>3962726.0</td>\n",
       "      <td>25156.0</td>\n",
       "      <td>282.0</td>\n",
       "      <td>2209.0</td>\n",
       "      <td>13713.0</td>\n",
       "      <td>8952.0</td>\n",
       "      <td>0.0</td>\n",
       "      <td>634.82</td>\n",
       "      <td>7.12</td>\n",
       "      <td>55.74</td>\n",
       "      <td>346.05</td>\n",
       "      <td>225.91</td>\n",
       "    </tr>\n",
       "    <tr>\n",
       "      <th>Long Beach, CA</th>\n",
       "      <td>2015</td>\n",
       "      <td>476318.0</td>\n",
       "      <td>2766.0</td>\n",
       "      <td>36.0</td>\n",
       "      <td>177.0</td>\n",
       "      <td>1499.0</td>\n",
       "      <td>1054.0</td>\n",
       "      <td>0.0</td>\n",
       "      <td>580.70</td>\n",
       "      <td>7.56</td>\n",
       "      <td>37.16</td>\n",
       "      <td>314.71</td>\n",
       "      <td>221.28</td>\n",
       "    </tr>\n",
       "    <tr>\n",
       "      <th>Fresno, CA</th>\n",
       "      <td>2015</td>\n",
       "      <td>520837.0</td>\n",
       "      <td>2871.0</td>\n",
       "      <td>39.0</td>\n",
       "      <td>167.0</td>\n",
       "      <td>1653.0</td>\n",
       "      <td>1012.0</td>\n",
       "      <td>0.0</td>\n",
       "      <td>551.23</td>\n",
       "      <td>7.49</td>\n",
       "      <td>32.06</td>\n",
       "      <td>317.37</td>\n",
       "      <td>194.30</td>\n",
       "    </tr>\n",
       "    <tr>\n",
       "      <th>Los Angeles County, CA</th>\n",
       "      <td>2015</td>\n",
       "      <td>1111939.0</td>\n",
       "      <td>5173.0</td>\n",
       "      <td>98.0</td>\n",
       "      <td>304.0</td>\n",
       "      <td>3559.0</td>\n",
       "      <td>1212.0</td>\n",
       "      <td>0.0</td>\n",
       "      <td>465.22</td>\n",
       "      <td>8.81</td>\n",
       "      <td>27.34</td>\n",
       "      <td>320.07</td>\n",
       "      <td>109.00</td>\n",
       "    </tr>\n",
       "    <tr>\n",
       "      <th>San Diego, CA</th>\n",
       "      <td>2015</td>\n",
       "      <td>1400467.0</td>\n",
       "      <td>5582.0</td>\n",
       "      <td>37.0</td>\n",
       "      <td>566.0</td>\n",
       "      <td>3601.0</td>\n",
       "      <td>1378.0</td>\n",
       "      <td>0.0</td>\n",
       "      <td>398.58</td>\n",
       "      <td>2.64</td>\n",
       "      <td>40.42</td>\n",
       "      <td>257.13</td>\n",
       "      <td>98.40</td>\n",
       "    </tr>\n",
       "    <tr>\n",
       "      <th>San Jose, CA</th>\n",
       "      <td>2015</td>\n",
       "      <td>1031458.0</td>\n",
       "      <td>3400.0</td>\n",
       "      <td>30.0</td>\n",
       "      <td>375.0</td>\n",
       "      <td>1855.0</td>\n",
       "      <td>1140.0</td>\n",
       "      <td>0.0</td>\n",
       "      <td>329.63</td>\n",
       "      <td>2.91</td>\n",
       "      <td>36.36</td>\n",
       "      <td>179.84</td>\n",
       "      <td>110.52</td>\n",
       "    </tr>\n",
       "  </tbody>\n",
       "</table>\n",
       "</div>"
      ],
      "text/plain": [
       "                        report_year  population  violent_crimes  homicides  \\\n",
       "agency_jurisdiction                                                          \n",
       "Oakland, CA                    2015    419481.0          6051.0       85.0   \n",
       "San Francisco, CA              2015    863782.0          6710.0       53.0   \n",
       "Sacramento, CA                 2015    489717.0          3611.0       43.0   \n",
       "Los Angeles, CA                2015   3962726.0         25156.0      282.0   \n",
       "Long Beach, CA                 2015    476318.0          2766.0       36.0   \n",
       "Fresno, CA                     2015    520837.0          2871.0       39.0   \n",
       "Los Angeles County, CA         2015   1111939.0          5173.0       98.0   \n",
       "San Diego, CA                  2015   1400467.0          5582.0       37.0   \n",
       "San Jose, CA                   2015   1031458.0          3400.0       30.0   \n",
       "\n",
       "                         rapes  assaults  robberies  months_reported  \\\n",
       "agency_jurisdiction                                                    \n",
       "Oakland, CA              285.0    2391.0     3290.0              0.0   \n",
       "San Francisco, CA        344.0    2703.0     3610.0              0.0   \n",
       "Sacramento, CA           105.0    2289.0     1174.0              0.0   \n",
       "Los Angeles, CA         2209.0   13713.0     8952.0              0.0   \n",
       "Long Beach, CA           177.0    1499.0     1054.0              0.0   \n",
       "Fresno, CA               167.0    1653.0     1012.0              0.0   \n",
       "Los Angeles County, CA   304.0    3559.0     1212.0              0.0   \n",
       "San Diego, CA            566.0    3601.0     1378.0              0.0   \n",
       "San Jose, CA             375.0    1855.0     1140.0              0.0   \n",
       "\n",
       "                        crimes_percapita  homicides_percapita  \\\n",
       "agency_jurisdiction                                             \n",
       "Oakland, CA                      1442.50                20.26   \n",
       "San Francisco, CA                 776.82                 6.14   \n",
       "Sacramento, CA                    737.36                 8.78   \n",
       "Los Angeles, CA                   634.82                 7.12   \n",
       "Long Beach, CA                    580.70                 7.56   \n",
       "Fresno, CA                        551.23                 7.49   \n",
       "Los Angeles County, CA            465.22                 8.81   \n",
       "San Diego, CA                     398.58                 2.64   \n",
       "San Jose, CA                      329.63                 2.91   \n",
       "\n",
       "                        rapes_percapita  assaults_percapita  \\\n",
       "agency_jurisdiction                                           \n",
       "Oakland, CA                       67.94              569.99   \n",
       "San Francisco, CA                 39.82              312.93   \n",
       "Sacramento, CA                    21.44              467.41   \n",
       "Los Angeles, CA                   55.74              346.05   \n",
       "Long Beach, CA                    37.16              314.71   \n",
       "Fresno, CA                        32.06              317.37   \n",
       "Los Angeles County, CA            27.34              320.07   \n",
       "San Diego, CA                     40.42              257.13   \n",
       "San Jose, CA                      36.36              179.84   \n",
       "\n",
       "                        robberies_percapita  \n",
       "agency_jurisdiction                          \n",
       "Oakland, CA                          784.30  \n",
       "San Francisco, CA                    417.93  \n",
       "Sacramento, CA                       239.73  \n",
       "Los Angeles, CA                      225.91  \n",
       "Long Beach, CA                       221.28  \n",
       "Fresno, CA                           194.30  \n",
       "Los Angeles County, CA               109.00  \n",
       "San Diego, CA                         98.40  \n",
       "San Jose, CA                         110.52  "
      ]
     },
     "execution_count": 30,
     "metadata": {},
     "output_type": "execute_result"
    }
   ],
   "source": [
    "crimes_in_CA_2000_1 = crimes_in_CA_2000.groupby(by = \"agency_jurisdiction\").sum()\n",
    "crimes_in_CA_2000_1.sort_values(by= \"crimes_percapita\", ascending=[False]).head(10)"
   ]
  },
  {
   "cell_type": "markdown",
   "metadata": {},
   "source": [
    "### Explanation:\n",
    "We concentated on 2015 the recent data, most dangerous city is still Oakland. Others are San franciso, Saramento"
   ]
  },
  {
   "cell_type": "markdown",
   "metadata": {},
   "source": [
    "### D. Oakland Crimes Analysis"
   ]
  },
  {
   "cell_type": "code",
   "execution_count": 58,
   "metadata": {},
   "outputs": [
    {
     "data": {
      "text/html": [
       "<div>\n",
       "<style scoped>\n",
       "    .dataframe tbody tr th:only-of-type {\n",
       "        vertical-align: middle;\n",
       "    }\n",
       "\n",
       "    .dataframe tbody tr th {\n",
       "        vertical-align: top;\n",
       "    }\n",
       "\n",
       "    .dataframe thead th {\n",
       "        text-align: right;\n",
       "    }\n",
       "</style>\n",
       "<table border=\"1\" class=\"dataframe\">\n",
       "  <thead>\n",
       "    <tr style=\"text-align: right;\">\n",
       "      <th></th>\n",
       "      <th>report_year</th>\n",
       "      <th>agency_code</th>\n",
       "      <th>agency_jurisdiction</th>\n",
       "      <th>population</th>\n",
       "      <th>violent_crimes</th>\n",
       "      <th>homicides</th>\n",
       "      <th>rapes</th>\n",
       "      <th>assaults</th>\n",
       "      <th>robberies</th>\n",
       "      <th>months_reported</th>\n",
       "      <th>crimes_percapita</th>\n",
       "      <th>homicides_percapita</th>\n",
       "      <th>rapes_percapita</th>\n",
       "      <th>assaults_percapita</th>\n",
       "      <th>robberies_percapita</th>\n",
       "    </tr>\n",
       "  </thead>\n",
       "  <tbody>\n",
       "    <tr>\n",
       "      <th>2803</th>\n",
       "      <td>2015</td>\n",
       "      <td>CA00109</td>\n",
       "      <td>Oakland, CA</td>\n",
       "      <td>419481.0</td>\n",
       "      <td>6051.0</td>\n",
       "      <td>85.0</td>\n",
       "      <td>285.0</td>\n",
       "      <td>2391.0</td>\n",
       "      <td>3290.0</td>\n",
       "      <td>NaN</td>\n",
       "      <td>1442.5</td>\n",
       "      <td>20.26</td>\n",
       "      <td>67.94</td>\n",
       "      <td>569.99</td>\n",
       "      <td>784.3</td>\n",
       "    </tr>\n",
       "  </tbody>\n",
       "</table>\n",
       "</div>"
      ],
      "text/plain": [
       "      report_year agency_code agency_jurisdiction  population  violent_crimes  \\\n",
       "2803         2015     CA00109         Oakland, CA    419481.0          6051.0   \n",
       "\n",
       "      homicides  rapes  assaults  robberies  months_reported  \\\n",
       "2803       85.0  285.0    2391.0     3290.0              NaN   \n",
       "\n",
       "      crimes_percapita  homicides_percapita  rapes_percapita  \\\n",
       "2803            1442.5                20.26            67.94   \n",
       "\n",
       "      assaults_percapita  robberies_percapita  \n",
       "2803              569.99                784.3  "
      ]
     },
     "execution_count": 58,
     "metadata": {},
     "output_type": "execute_result"
    }
   ],
   "source": [
    "crimes_in_CA_OKA = crimes_in_CA_2000[(crimes_in_CA_2000['agency_jurisdiction'] == 'Oakland, CA')]\n",
    "crimes_in_CA_OKA"
   ]
  },
  {
   "cell_type": "code",
   "execution_count": 59,
   "metadata": {},
   "outputs": [
    {
     "data": {
      "text/plain": [
       "(-1.1109203616822707,\n",
       " 1.1111485148335918,\n",
       " -1.140576631347584,\n",
       " 1.7298916687925672)"
      ]
     },
     "execution_count": 59,
     "metadata": {},
     "output_type": "execute_result"
    },
    {
     "data": {
      "image/png": "[encoded data removed]",
      "text/plain": [
       "<Figure size 720x576 with 1 Axes>"
      ]
     },
     "metadata": {},
     "output_type": "display_data"
    }
   ],
   "source": [
    "plt.figure(figsize=(10,8)) #调节图形大小\n",
    "labels = [u'Homicides',u'Rapes',u'Assaults',u'Robberies'] #定义标签\n",
    "sizes = [85.0,285.0,2391.0,3290.0] #每块值\n",
    "colors = ['red','yellowgreen','lightskyblue','yellow'] #每块颜色定义\n",
    "explode = (0.6,0,0,0) #将某一块分割出来，值越大分割出的间隙越大\n",
    "patches,text1,text2 = plt.pie(sizes,\n",
    "                      explode=explode,\n",
    "                      labels=labels,\n",
    "                      colors=colors,\n",
    "                      autopct = '%3.2f%%', #数值保留固定小数位\n",
    "                      shadow = True, #无阴影设置\n",
    "                      startangle =90, #逆时针起始角度设置\n",
    "                      pctdistance = 0.6) #数值距圆心半径倍数距离\n",
    "#patches饼图的返回值，texts1饼图外label的文本，texts2饼图内部的文本\n",
    "# x，y轴刻度设置一致，保证饼图为圆形\n",
    "plt.axis('equal')"
   ]
  },
  {
   "cell_type": "markdown",
   "metadata": {},
   "source": [
    "### Explanation:\n",
    "We analyzed the percentage of crimes in Oakland. Robberies take up 54.3% and Assaults is 39%"
   ]
  },
  {
   "cell_type": "markdown",
   "metadata": {},
   "source": [
    "## ===========One column selection============="
   ]
  },
  {
   "cell_type": "code",
   "execution_count": 19,
   "metadata": {
    "scrolled": true
   },
   "outputs": [
    {
     "data": {
      "text/plain": [
       "agency_jurisdiction\n",
       "Fairfax County, VA        88.41\n",
       "Nassau County, NY        124.20\n",
       "Suffolk County, NY       124.86\n",
       "Virginia Beach, VA       138.25\n",
       "Montgomery County, MD    194.61\n",
       "Honolulu, HI             243.87\n",
       "San Jose, CA             329.63\n",
       "El Paso, TX              366.58\n",
       "Austin, TX               372.53\n",
       "United States            372.60\n",
       "Name: crimes_percapita, dtype: float64"
      ]
     },
     "execution_count": 19,
     "metadata": {},
     "output_type": "execute_result"
    }
   ],
   "source": [
    "crimes1 = pd.read_csv(\"../week8crime/report.csv\", index_col=2)\n",
    "crimes1_in2015 = crimes1[(crimes1['report_year'] == 2015)]\n",
    "crimes1_in2015_1 = crimes1_in2015.sort_values(by= \"crimes_percapita\", ascending=[True]).head(10)\n",
    "crimes1_in2015_1['crimes_percapita']"
   ]
  },
  {
   "cell_type": "markdown",
   "metadata": {},
   "source": [
    "### Explanation:\n",
    "It appears that the safest city in USA is Fairfax County, VA with only 88.41 crimes per capita.\n",
    "\n",
    "![](http://pics2.city-data.com/city/maps/fr1789.png)"
   ]
  },
  {
   "cell_type": "markdown",
   "metadata": {},
   "source": [
    "## ================Sort================="
   ]
  },
  {
   "cell_type": "code",
   "execution_count": 20,
   "metadata": {},
   "outputs": [
    {
     "data": {
      "text/plain": [
       "Index(['report_year', 'homicides', 'rapes', 'assaults', 'robberies'], dtype='object')"
      ]
     },
     "execution_count": 20,
     "metadata": {},
     "output_type": "execute_result"
    }
   ],
   "source": [
    "data_sort = crimes[['report_year','homicides','rapes','assaults','robberies']]\n",
    "data_sort.columns"
   ]
  },
  {
   "cell_type": "markdown",
   "metadata": {},
   "source": [
    "### Explanation:\n",
    "By those columns, we could understand what the consist of crimes in each year."
   ]
  },
  {
   "cell_type": "markdown",
   "metadata": {},
   "source": [
    "## ===============Series================="
   ]
  },
  {
   "cell_type": "code",
   "execution_count": 21,
   "metadata": {},
   "outputs": [
    {
     "data": {
      "text/html": [
       "<div>\n",
       "<style scoped>\n",
       "    .dataframe tbody tr th:only-of-type {\n",
       "        vertical-align: middle;\n",
       "    }\n",
       "\n",
       "    .dataframe tbody tr th {\n",
       "        vertical-align: top;\n",
       "    }\n",
       "\n",
       "    .dataframe thead th {\n",
       "        text-align: right;\n",
       "    }\n",
       "</style>\n",
       "<table border=\"1\" class=\"dataframe\">\n",
       "  <thead>\n",
       "    <tr style=\"text-align: right;\">\n",
       "      <th></th>\n",
       "      <th>homicides</th>\n",
       "      <th>rapes</th>\n",
       "      <th>assaults</th>\n",
       "      <th>robberies</th>\n",
       "    </tr>\n",
       "    <tr>\n",
       "      <th>report_year</th>\n",
       "      <th></th>\n",
       "      <th></th>\n",
       "      <th></th>\n",
       "      <th></th>\n",
       "    </tr>\n",
       "  </thead>\n",
       "  <tbody>\n",
       "    <tr>\n",
       "      <th>2006</th>\n",
       "      <td>24693.0</td>\n",
       "      <td>22190.0</td>\n",
       "      <td>278598.0</td>\n",
       "      <td>214051.0</td>\n",
       "    </tr>\n",
       "    <tr>\n",
       "      <th>2007</th>\n",
       "      <td>24179.0</td>\n",
       "      <td>21141.0</td>\n",
       "      <td>272239.0</td>\n",
       "      <td>210704.0</td>\n",
       "    </tr>\n",
       "    <tr>\n",
       "      <th>2008</th>\n",
       "      <td>23180.0</td>\n",
       "      <td>20160.0</td>\n",
       "      <td>264209.0</td>\n",
       "      <td>206677.0</td>\n",
       "    </tr>\n",
       "    <tr>\n",
       "      <th>2009</th>\n",
       "      <td>21384.0</td>\n",
       "      <td>19895.0</td>\n",
       "      <td>249491.0</td>\n",
       "      <td>188615.0</td>\n",
       "    </tr>\n",
       "    <tr>\n",
       "      <th>2010</th>\n",
       "      <td>20589.0</td>\n",
       "      <td>19660.0</td>\n",
       "      <td>241700.0</td>\n",
       "      <td>171034.0</td>\n",
       "    </tr>\n",
       "    <tr>\n",
       "      <th>2011</th>\n",
       "      <td>20363.0</td>\n",
       "      <td>19573.0</td>\n",
       "      <td>232878.0</td>\n",
       "      <td>165825.0</td>\n",
       "    </tr>\n",
       "    <tr>\n",
       "      <th>2012</th>\n",
       "      <td>20675.0</td>\n",
       "      <td>19709.0</td>\n",
       "      <td>239243.0</td>\n",
       "      <td>166938.0</td>\n",
       "    </tr>\n",
       "    <tr>\n",
       "      <th>2013</th>\n",
       "      <td>19663.0</td>\n",
       "      <td>22739.0</td>\n",
       "      <td>230952.0</td>\n",
       "      <td>163472.0</td>\n",
       "    </tr>\n",
       "    <tr>\n",
       "      <th>2014</th>\n",
       "      <td>19513.0</td>\n",
       "      <td>27107.0</td>\n",
       "      <td>237519.0</td>\n",
       "      <td>151336.0</td>\n",
       "    </tr>\n",
       "    <tr>\n",
       "      <th>2015</th>\n",
       "      <td>21738.0</td>\n",
       "      <td>29423.0</td>\n",
       "      <td>239964.0</td>\n",
       "      <td>149998.0</td>\n",
       "    </tr>\n",
       "  </tbody>\n",
       "</table>\n",
       "</div>"
      ],
      "text/plain": [
       "             homicides    rapes  assaults  robberies\n",
       "report_year                                         \n",
       "2006           24693.0  22190.0  278598.0   214051.0\n",
       "2007           24179.0  21141.0  272239.0   210704.0\n",
       "2008           23180.0  20160.0  264209.0   206677.0\n",
       "2009           21384.0  19895.0  249491.0   188615.0\n",
       "2010           20589.0  19660.0  241700.0   171034.0\n",
       "2011           20363.0  19573.0  232878.0   165825.0\n",
       "2012           20675.0  19709.0  239243.0   166938.0\n",
       "2013           19663.0  22739.0  230952.0   163472.0\n",
       "2014           19513.0  27107.0  237519.0   151336.0\n",
       "2015           21738.0  29423.0  239964.0   149998.0"
      ]
     },
     "execution_count": 21,
     "metadata": {},
     "output_type": "execute_result"
    }
   ],
   "source": [
    "data_series = data_sort.groupby(by = \"report_year\").sum()\n",
    "data_series.tail(10)"
   ]
  },
  {
   "cell_type": "markdown",
   "metadata": {},
   "source": [
    "### Explanation:\n",
    "It seems that the numbers of each type are almost same, but the assaults in average has higher chances to happend. The order of crimes frequency is assaults, robberies, homicides, rapes."
   ]
  },
  {
   "cell_type": "markdown",
   "metadata": {},
   "source": [
    "## ==============Summary================"
   ]
  },
  {
   "cell_type": "markdown",
   "metadata": {},
   "source": [
    "According our analysis, the number of crimes is decreasing in general. The highest number of crimes was in 1990 to 1995. And in this 40 years, New York City has most highest crimes happens. But the reason is the increasing of population. Fortunately, along with increasing of population in New York, the rate of crimes is decreasing. In addition, in California, according to crimes per capita, Oakland not just was the most dangerous city but also is the most dangerous city in 2015. Comparing with crime per capita in 2015, in the rank of dangerous city, Oakland is first, San Francisco is second, Sacramento is third. By analyzing the consist of crimes in Oakland, 54 percent is Robberies and 39 percent is Assaults. We also find the safest city on USA is Fairfax, VA. It only has 88 crimes per capita. So, by exploring the data, from 2006 to 2015, assaults are most happens. And, second is Robberies."
   ]
  },
  {
   "cell_type": "markdown",
   "metadata": {},
   "source": [
    "## ===========Recommendations============="
   ]
  },
  {
   "cell_type": "markdown",
   "metadata": {},
   "source": [
    "The crime in Oakland City is the problem now. But also Oakland city may be a good research objectives to find how to effectively decrease the crimes. In general, the rate of assaults and robberies are still super higher than homicides and rapes. We can focus on how to prevent this two and also enhance the police enforcement effectiveness on this two to decrease it and build a safer country. "
   ]
  }
 ],
 "metadata": {
  "kernelspec": {
   "display_name": "Python 3",
   "language": "python",
   "name": "python3"
  },
  "language_info": {
   "codemirror_mode": {
    "name": "ipython",
    "version": 3
   },
   "file_extension": ".py",
   "mimetype": "text/x-python",
   "name": "python",
   "nbconvert_exporter": "python",
   "pygments_lexer": "ipython3",
   "version": "3.7.2"
  }
 },
 "nbformat": 4,
 "nbformat_minor": 2
}
